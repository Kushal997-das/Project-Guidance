{
 "cells": [
  {
   "cell_type": "code",
   "execution_count": 41,
   "id": "e030b27a-c778-4fb1-a10d-fdeb16e371b2",
   "metadata": {},
   "outputs": [],
   "source": [
    "import pandas as pd\n",
    "import numpy as np\n",
    "from sklearn.metrics import accuracy_score \n",
    "from sklearn.model_selection import train_test_split\n",
    "from sklearn.svm import SVC\n",
    "from sklearn.preprocessing import MinMaxScaler\n",
    "from sklearn import metrics"
   ]
  },
  {
   "cell_type": "code",
   "execution_count": 42,
   "id": "f0dd8029-f8fa-49ad-a2d2-5e0d8a0ad841",
   "metadata": {},
   "outputs": [],
   "source": [
    "df=pd.read_csv(\"Crop_recommendation.csv\")"
   ]
  },
  {
   "cell_type": "code",
   "execution_count": 43,
   "id": "21d4008b-6daf-41d7-9238-4fa340dd2ec8",
   "metadata": {},
   "outputs": [],
   "source": [
    "features = df[['N', 'P','K','temperature', 'humidity', 'ph', 'rainfall']]\n",
    "target = df['label']\n",
    "#features = df[['temperature', 'humidity', 'ph', 'rainfall']]\n",
    "labels = df['label']"
   ]
  },
  {
   "cell_type": "code",
   "execution_count": 44,
   "id": "8dfc3b0a-6c54-45d0-bc24-97a98c758a6f",
   "metadata": {},
   "outputs": [],
   "source": [
    "Xtrain, Xtest, Ytrain, Ytest = train_test_split(features,target,test_size = 0.3,random_state =2)"
   ]
  },
  {
   "cell_type": "code",
   "execution_count": 45,
   "id": "6dea8cf7-1174-43a5-b322-821271a0f715",
   "metadata": {},
   "outputs": [],
   "source": [
    "norm=MinMaxScaler().fit(Xtrain)"
   ]
  },
  {
   "cell_type": "code",
   "execution_count": 46,
   "id": "f216ee2d-0330-4faf-8035-f9e395e44cb7",
   "metadata": {},
   "outputs": [],
   "source": [
    "X_train_norm=norm.transform(Xtrain)"
   ]
  },
  {
   "cell_type": "code",
   "execution_count": 47,
   "id": "6d4c547e-2270-4ddb-95ed-a5e7f2968809",
   "metadata": {},
   "outputs": [],
   "source": [
    "X_test_norm=norm.transform(Xtest)"
   ]
  },
  {
   "cell_type": "code",
   "execution_count": 48,
   "id": "ad9a9457-a590-426a-bc91-2481ea9e3efb",
   "metadata": {},
   "outputs": [
    {
     "data": {
      "text/html": [
       "<style>#sk-container-id-3 {color: black;background-color: white;}#sk-container-id-3 pre{padding: 0;}#sk-container-id-3 div.sk-toggleable {background-color: white;}#sk-container-id-3 label.sk-toggleable__label {cursor: pointer;display: block;width: 100%;margin-bottom: 0;padding: 0.3em;box-sizing: border-box;text-align: center;}#sk-container-id-3 label.sk-toggleable__label-arrow:before {content: \"▸\";float: left;margin-right: 0.25em;color: #696969;}#sk-container-id-3 label.sk-toggleable__label-arrow:hover:before {color: black;}#sk-container-id-3 div.sk-estimator:hover label.sk-toggleable__label-arrow:before {color: black;}#sk-container-id-3 div.sk-toggleable__content {max-height: 0;max-width: 0;overflow: hidden;text-align: left;background-color: #f0f8ff;}#sk-container-id-3 div.sk-toggleable__content pre {margin: 0.2em;color: black;border-radius: 0.25em;background-color: #f0f8ff;}#sk-container-id-3 input.sk-toggleable__control:checked~div.sk-toggleable__content {max-height: 200px;max-width: 100%;overflow: auto;}#sk-container-id-3 input.sk-toggleable__control:checked~label.sk-toggleable__label-arrow:before {content: \"▾\";}#sk-container-id-3 div.sk-estimator input.sk-toggleable__control:checked~label.sk-toggleable__label {background-color: #d4ebff;}#sk-container-id-3 div.sk-label input.sk-toggleable__control:checked~label.sk-toggleable__label {background-color: #d4ebff;}#sk-container-id-3 input.sk-hidden--visually {border: 0;clip: rect(1px 1px 1px 1px);clip: rect(1px, 1px, 1px, 1px);height: 1px;margin: -1px;overflow: hidden;padding: 0;position: absolute;width: 1px;}#sk-container-id-3 div.sk-estimator {font-family: monospace;background-color: #f0f8ff;border: 1px dotted black;border-radius: 0.25em;box-sizing: border-box;margin-bottom: 0.5em;}#sk-container-id-3 div.sk-estimator:hover {background-color: #d4ebff;}#sk-container-id-3 div.sk-parallel-item::after {content: \"\";width: 100%;border-bottom: 1px solid gray;flex-grow: 1;}#sk-container-id-3 div.sk-label:hover label.sk-toggleable__label {background-color: #d4ebff;}#sk-container-id-3 div.sk-serial::before {content: \"\";position: absolute;border-left: 1px solid gray;box-sizing: border-box;top: 0;bottom: 0;left: 50%;z-index: 0;}#sk-container-id-3 div.sk-serial {display: flex;flex-direction: column;align-items: center;background-color: white;padding-right: 0.2em;padding-left: 0.2em;position: relative;}#sk-container-id-3 div.sk-item {position: relative;z-index: 1;}#sk-container-id-3 div.sk-parallel {display: flex;align-items: stretch;justify-content: center;background-color: white;position: relative;}#sk-container-id-3 div.sk-item::before, #sk-container-id-3 div.sk-parallel-item::before {content: \"\";position: absolute;border-left: 1px solid gray;box-sizing: border-box;top: 0;bottom: 0;left: 50%;z-index: -1;}#sk-container-id-3 div.sk-parallel-item {display: flex;flex-direction: column;z-index: 1;position: relative;background-color: white;}#sk-container-id-3 div.sk-parallel-item:first-child::after {align-self: flex-end;width: 50%;}#sk-container-id-3 div.sk-parallel-item:last-child::after {align-self: flex-start;width: 50%;}#sk-container-id-3 div.sk-parallel-item:only-child::after {width: 0;}#sk-container-id-3 div.sk-dashed-wrapped {border: 1px dashed gray;margin: 0 0.4em 0.5em 0.4em;box-sizing: border-box;padding-bottom: 0.4em;background-color: white;}#sk-container-id-3 div.sk-label label {font-family: monospace;font-weight: bold;display: inline-block;line-height: 1.2em;}#sk-container-id-3 div.sk-label-container {text-align: center;}#sk-container-id-3 div.sk-container {/* jupyter's `normalize.less` sets `[hidden] { display: none; }` but bootstrap.min.css set `[hidden] { display: none !important; }` so we also need the `!important` here to be able to override the default hidden behavior on the sphinx rendered scikit-learn.org. See: https://github.com/scikit-learn/scikit-learn/issues/21755 */display: inline-block !important;position: relative;}#sk-container-id-3 div.sk-text-repr-fallback {display: none;}</style><div id=\"sk-container-id-3\" class=\"sk-top-container\"><div class=\"sk-text-repr-fallback\"><pre>SVC(C=1, kernel=&#x27;poly&#x27;)</pre><b>In a Jupyter environment, please rerun this cell to show the HTML representation or trust the notebook. <br />On GitHub, the HTML representation is unable to render, please try loading this page with nbviewer.org.</b></div><div class=\"sk-container\" hidden><div class=\"sk-item\"><div class=\"sk-estimator sk-toggleable\"><input class=\"sk-toggleable__control sk-hidden--visually\" id=\"sk-estimator-id-3\" type=\"checkbox\" checked><label for=\"sk-estimator-id-3\" class=\"sk-toggleable__label sk-toggleable__label-arrow\">SVC</label><div class=\"sk-toggleable__content\"><pre>SVC(C=1, kernel=&#x27;poly&#x27;)</pre></div></div></div></div></div>"
      ],
      "text/plain": [
       "SVC(C=1, kernel='poly')"
      ]
     },
     "execution_count": 48,
     "metadata": {},
     "output_type": "execute_result"
    }
   ],
   "source": [
    "SVM = SVC(kernel='poly', degree=3, C=1)\n",
    "SVM.fit(X_train_norm,Ytrain)"
   ]
  },
  {
   "cell_type": "code",
   "execution_count": 49,
   "id": "abc79ce3-af7f-460e-9871-46459cfdd99d",
   "metadata": {},
   "outputs": [],
   "source": [
    "predicted_values = SVM.predict(X_test_norm)\n",
    "x = metrics.accuracy_score(Ytest, predicted_values)"
   ]
  },
  {
   "cell_type": "code",
   "execution_count": 50,
   "id": "baab2787-b52a-4bff-a3cd-23ff922c1b96",
   "metadata": {},
   "outputs": [
    {
     "name": "stdout",
     "output_type": "stream",
     "text": [
      "              precision    recall  f1-score   support\n",
      "\n",
      "       apple       1.00      1.00      1.00        28\n",
      "      banana       1.00      1.00      1.00        26\n",
      "   blackgram       1.00      1.00      1.00        28\n",
      "    chickpea       1.00      1.00      1.00        29\n",
      "     coconut       1.00      1.00      1.00        31\n",
      "      coffee       1.00      0.97      0.98        33\n",
      "      cotton       0.97      1.00      0.98        31\n",
      "      grapes       1.00      1.00      1.00        29\n",
      "        jute       0.85      0.88      0.87        33\n",
      " kidneybeans       1.00      1.00      1.00        30\n",
      "      lentil       0.97      1.00      0.98        32\n",
      "       maize       1.00      0.97      0.98        32\n",
      "       mango       1.00      1.00      1.00        33\n",
      "   mothbeans       1.00      0.97      0.98        29\n",
      "    mungbean       1.00      1.00      1.00        32\n",
      "   muskmelon       1.00      1.00      1.00        30\n",
      "      orange       1.00      1.00      1.00        42\n",
      "      papaya       1.00      1.00      1.00        30\n",
      "  pigeonpeas       1.00      1.00      1.00        31\n",
      " pomegranate       1.00      1.00      1.00        19\n",
      "        rice       0.87      0.87      0.87        30\n",
      "  watermelon       1.00      1.00      1.00        22\n",
      "\n",
      "    accuracy                           0.98       660\n",
      "   macro avg       0.98      0.98      0.98       660\n",
      "weighted avg       0.98      0.98      0.98       660\n",
      "\n"
     ]
    }
   ],
   "source": [
    "from sklearn.metrics import classification_report,confusion_matrix,ConfusionMatrixDisplay\n",
    "\n",
    "print(classification_report(Ytest,predicted_values))\n"
   ]
  },
  {
   "cell_type": "code",
   "execution_count": 51,
   "id": "a04ce4d5-c368-49e6-80f6-6097199d0073",
   "metadata": {},
   "outputs": [
    {
     "name": "stdout",
     "output_type": "stream",
     "text": [
      "SVM's Accuracy is:  0.9833333333333333\n"
     ]
    }
   ],
   "source": [
    "print(\"SVM's Accuracy is: \", x)"
   ]
  },
  {
   "cell_type": "code",
   "execution_count": 52,
   "id": "32bac8e8-7f24-4000-a8b1-78950156783c",
   "metadata": {},
   "outputs": [
    {
     "data": {
      "text/plain": [
       "0.9827272727272728"
      ]
     },
     "execution_count": 52,
     "metadata": {},
     "output_type": "execute_result"
    }
   ],
   "source": [
    "from sklearn.model_selection import cross_val_score\n",
    "\n",
    "score = cross_val_score(SVM,features,target,cv=5)\n",
    "score.mean()"
   ]
  },
  {
   "cell_type": "code",
   "execution_count": 53,
   "id": "573bf23b-4af9-4223-80af-94fead971959",
   "metadata": {},
   "outputs": [
    {
     "name": "stdout",
     "output_type": "stream",
     "text": [
      "[0.97954545 0.975      0.98863636 0.98863636 0.98181818]\n",
      "0.9827272727272728\n"
     ]
    }
   ],
   "source": [
    "print(score)\n",
    "print(score.mean())"
   ]
  },
  {
   "cell_type": "code",
   "execution_count": 55,
   "id": "d35046ee-e4a5-4260-8cbe-c900fd0330ba",
   "metadata": {},
   "outputs": [
    {
     "name": "stdout",
     "output_type": "stream",
     "text": [
      "Predicted Crop Label: rice\n",
      "Predicted Crop Label: grapes\n"
     ]
    }
   ],
   "source": [
    "def predict_crop_label(input_features):\n",
    "    \n",
    "    \n",
    "    input_features = np.array(input_features).reshape(1, -1) \n",
    "    \n",
    "    # Predict the crop label using the LogReg model\n",
    "    predicted_label = SVM.predict(input_features)\n",
    "    \n",
    "    return predicted_label[0]  # Return the predicted label\n",
    "\n",
    "# Example usage:\n",
    "user_input = [83, 45, 60, 28, 70.3, 7.0, 150.9]  # Example input features (N, P, K, pH, temperature, humidity, rainfall)\n",
    "predicted_crop_label = predict_crop_label(user_input)\n",
    "print(\"Predicted Crop Label:\", predicted_crop_label)\n",
    "\n",
    "user_input = [83, 45, 60, 28, 3.3, 2.0, 0.9]  # Example input features (N, P, K, pH, temperature, humidity, rainfall)\n",
    "predicted_crop_label = predict_crop_label(user_input)\n",
    "print(\"Predicted Crop Label:\", predicted_crop_label)\n"
   ]
  },
  {
   "cell_type": "code",
   "execution_count": 72,
   "id": "2e61d6f2-7f6a-4d05-864e-b692f4070a51",
   "metadata": {},
   "outputs": [
    {
     "name": "stderr",
     "output_type": "stream",
     "text": [
      "C:\\Users\\kanch\\AppData\\Local\\Programs\\Python\\Python311\\Lib\\site-packages\\sklearn\\base.py:432: UserWarning: X has feature names, but SVC was fitted without feature names\n",
      "  warnings.warn(\n"
     ]
    },
    {
     "data": {
      "text/plain": [
       "0.10064935064935066"
      ]
     },
     "execution_count": 72,
     "metadata": {},
     "output_type": "execute_result"
    }
   ],
   "source": [
    "svm_accuracy=SVM.score(Xtrain,Ytrain)\n",
    "svm_accuracy"
   ]
  },
  {
   "cell_type": "markdown",
   "id": "d9a90710-eaeb-485b-a723-c2115f8b9dd5",
   "metadata": {},
   "source": [
    "### Train Accuracy: 0.10064935064935066\n",
    "### CV Accuracy: 0.9827272727272728\n",
    "### Test Accuracy: 0.9833333333333333"
   ]
  },
  {
   "cell_type": "code",
   "execution_count": 64,
   "id": "7844f106-bee3-4149-bd00-5db4205b624c",
   "metadata": {},
   "outputs": [
    {
     "name": "stdout",
     "output_type": "stream",
     "text": [
      "Shape of X_train: (1540, 7)\n",
      "Shape of y_train: (1540,)\n"
     ]
    }
   ],
   "source": [
    "print(\"Shape of X_train:\", Xtrain.shape)\n",
    "print(\"Shape of y_train:\", Ytrain.shape)\n"
   ]
  },
  {
   "cell_type": "code",
   "execution_count": null,
   "id": "6561b78a-13e2-4e02-b012-097daed8bd83",
   "metadata": {},
   "outputs": [],
   "source": []
  },
  {
   "cell_type": "code",
   "execution_count": null,
   "id": "ebdc4b88-2ef4-42a7-a8fd-cb1d76e6ca39",
   "metadata": {},
   "outputs": [],
   "source": []
  }
 ],
 "metadata": {
  "kernelspec": {
   "display_name": "Python 3 (ipykernel)",
   "language": "python",
   "name": "python3"
  },
  "language_info": {
   "codemirror_mode": {
    "name": "ipython",
    "version": 3
   },
   "file_extension": ".py",
   "mimetype": "text/x-python",
   "name": "python",
   "nbconvert_exporter": "python",
   "pygments_lexer": "ipython3",
   "version": "3.11.3"
  }
 },
 "nbformat": 4,
 "nbformat_minor": 5
}
