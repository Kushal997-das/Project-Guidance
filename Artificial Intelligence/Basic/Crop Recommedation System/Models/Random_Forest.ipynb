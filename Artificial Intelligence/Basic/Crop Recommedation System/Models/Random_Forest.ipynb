{
 "cells": [
  {
   "cell_type": "markdown",
   "id": "b758baca-afb6-4f42-9313-d5e77587aa55",
   "metadata": {},
   "source": [
    "### Importing Libs"
   ]
  },
  {
   "cell_type": "code",
   "execution_count": 3,
   "id": "936aa4de-5074-4320-83af-e71c112566c9",
   "metadata": {},
   "outputs": [],
   "source": [
    "import pandas as pd\n",
    "import numpy as np\n",
    "from sklearn.linear_model import LogisticRegression\n",
    "from sklearn.model_selection import cross_val_score\n",
    "from sklearn.model_selection import train_test_split\n",
    "import warnings\n",
    "from sklearn import metrics\n",
    "warnings.filterwarnings('ignore')\n",
    "from sklearn.ensemble import RandomForestClassifier"
   ]
  },
  {
   "cell_type": "markdown",
   "id": "cd44b2e0-3389-4f69-94c6-523751c834f5",
   "metadata": {},
   "source": [
    "### Reading Data"
   ]
  },
  {
   "cell_type": "code",
   "execution_count": 4,
   "id": "8b1b9f11-ff1b-4d6a-ac16-0f843036b57c",
   "metadata": {},
   "outputs": [],
   "source": [
    "data=pd.read_csv(\"Crop_recommendation.csv\")"
   ]
  },
  {
   "cell_type": "markdown",
   "id": "89d282b4-da78-42cc-bb92-cf8146b28e77",
   "metadata": {},
   "source": [
    "### Separating Features & Target Variables"
   ]
  },
  {
   "cell_type": "code",
   "execution_count": 5,
   "id": "649fb7c3-1c8e-4cc8-a7c3-f365a807baac",
   "metadata": {},
   "outputs": [],
   "source": [
    "features=data[[\"N\",\"P\",\"K\",\"ph\",\"temperature\",\"humidity\",\"rainfall\"]]\n",
    "target=data[\"label\"]\n",
    "labels=data[\"label\"]"
   ]
  },
  {
   "cell_type": "markdown",
   "id": "15e1804b-fb29-4e75-8327-609318503377",
   "metadata": {},
   "source": [
    "### Splitting the Dataset"
   ]
  },
  {
   "cell_type": "code",
   "execution_count": 6,
   "id": "8760b461-6460-411d-8d20-5924d231fa5b",
   "metadata": {},
   "outputs": [],
   "source": [
    "Xtrain,Xtest,Ytrain,Ytest=train_test_split(features,target,test_size=0.3,random_state=2)"
   ]
  },
  {
   "cell_type": "markdown",
   "id": "4724cfb0-2a1e-49c2-a255-c41589a9dd2f",
   "metadata": {},
   "source": [
    "### Applying Random Forest"
   ]
  },
  {
   "cell_type": "code",
   "execution_count": 7,
   "id": "07caebb7-dc83-4afc-aa61-a298b0492984",
   "metadata": {},
   "outputs": [
    {
     "data": {
      "text/html": [
       "<style>#sk-container-id-1 {color: black;background-color: white;}#sk-container-id-1 pre{padding: 0;}#sk-container-id-1 div.sk-toggleable {background-color: white;}#sk-container-id-1 label.sk-toggleable__label {cursor: pointer;display: block;width: 100%;margin-bottom: 0;padding: 0.3em;box-sizing: border-box;text-align: center;}#sk-container-id-1 label.sk-toggleable__label-arrow:before {content: \"▸\";float: left;margin-right: 0.25em;color: #696969;}#sk-container-id-1 label.sk-toggleable__label-arrow:hover:before {color: black;}#sk-container-id-1 div.sk-estimator:hover label.sk-toggleable__label-arrow:before {color: black;}#sk-container-id-1 div.sk-toggleable__content {max-height: 0;max-width: 0;overflow: hidden;text-align: left;background-color: #f0f8ff;}#sk-container-id-1 div.sk-toggleable__content pre {margin: 0.2em;color: black;border-radius: 0.25em;background-color: #f0f8ff;}#sk-container-id-1 input.sk-toggleable__control:checked~div.sk-toggleable__content {max-height: 200px;max-width: 100%;overflow: auto;}#sk-container-id-1 input.sk-toggleable__control:checked~label.sk-toggleable__label-arrow:before {content: \"▾\";}#sk-container-id-1 div.sk-estimator input.sk-toggleable__control:checked~label.sk-toggleable__label {background-color: #d4ebff;}#sk-container-id-1 div.sk-label input.sk-toggleable__control:checked~label.sk-toggleable__label {background-color: #d4ebff;}#sk-container-id-1 input.sk-hidden--visually {border: 0;clip: rect(1px 1px 1px 1px);clip: rect(1px, 1px, 1px, 1px);height: 1px;margin: -1px;overflow: hidden;padding: 0;position: absolute;width: 1px;}#sk-container-id-1 div.sk-estimator {font-family: monospace;background-color: #f0f8ff;border: 1px dotted black;border-radius: 0.25em;box-sizing: border-box;margin-bottom: 0.5em;}#sk-container-id-1 div.sk-estimator:hover {background-color: #d4ebff;}#sk-container-id-1 div.sk-parallel-item::after {content: \"\";width: 100%;border-bottom: 1px solid gray;flex-grow: 1;}#sk-container-id-1 div.sk-label:hover label.sk-toggleable__label {background-color: #d4ebff;}#sk-container-id-1 div.sk-serial::before {content: \"\";position: absolute;border-left: 1px solid gray;box-sizing: border-box;top: 0;bottom: 0;left: 50%;z-index: 0;}#sk-container-id-1 div.sk-serial {display: flex;flex-direction: column;align-items: center;background-color: white;padding-right: 0.2em;padding-left: 0.2em;position: relative;}#sk-container-id-1 div.sk-item {position: relative;z-index: 1;}#sk-container-id-1 div.sk-parallel {display: flex;align-items: stretch;justify-content: center;background-color: white;position: relative;}#sk-container-id-1 div.sk-item::before, #sk-container-id-1 div.sk-parallel-item::before {content: \"\";position: absolute;border-left: 1px solid gray;box-sizing: border-box;top: 0;bottom: 0;left: 50%;z-index: -1;}#sk-container-id-1 div.sk-parallel-item {display: flex;flex-direction: column;z-index: 1;position: relative;background-color: white;}#sk-container-id-1 div.sk-parallel-item:first-child::after {align-self: flex-end;width: 50%;}#sk-container-id-1 div.sk-parallel-item:last-child::after {align-self: flex-start;width: 50%;}#sk-container-id-1 div.sk-parallel-item:only-child::after {width: 0;}#sk-container-id-1 div.sk-dashed-wrapped {border: 1px dashed gray;margin: 0 0.4em 0.5em 0.4em;box-sizing: border-box;padding-bottom: 0.4em;background-color: white;}#sk-container-id-1 div.sk-label label {font-family: monospace;font-weight: bold;display: inline-block;line-height: 1.2em;}#sk-container-id-1 div.sk-label-container {text-align: center;}#sk-container-id-1 div.sk-container {/* jupyter's `normalize.less` sets `[hidden] { display: none; }` but bootstrap.min.css set `[hidden] { display: none !important; }` so we also need the `!important` here to be able to override the default hidden behavior on the sphinx rendered scikit-learn.org. See: https://github.com/scikit-learn/scikit-learn/issues/21755 */display: inline-block !important;position: relative;}#sk-container-id-1 div.sk-text-repr-fallback {display: none;}</style><div id=\"sk-container-id-1\" class=\"sk-top-container\"><div class=\"sk-text-repr-fallback\"><pre>RandomForestClassifier(n_estimators=20, random_state=0)</pre><b>In a Jupyter environment, please rerun this cell to show the HTML representation or trust the notebook. <br />On GitHub, the HTML representation is unable to render, please try loading this page with nbviewer.org.</b></div><div class=\"sk-container\" hidden><div class=\"sk-item\"><div class=\"sk-estimator sk-toggleable\"><input class=\"sk-toggleable__control sk-hidden--visually\" id=\"sk-estimator-id-1\" type=\"checkbox\" checked><label for=\"sk-estimator-id-1\" class=\"sk-toggleable__label sk-toggleable__label-arrow\">RandomForestClassifier</label><div class=\"sk-toggleable__content\"><pre>RandomForestClassifier(n_estimators=20, random_state=0)</pre></div></div></div></div></div>"
      ],
      "text/plain": [
       "RandomForestClassifier(n_estimators=20, random_state=0)"
      ]
     },
     "execution_count": 7,
     "metadata": {},
     "output_type": "execute_result"
    }
   ],
   "source": [
    "RF=RandomForestClassifier(n_estimators=20,random_state=0)\n",
    "RF.fit(Xtrain,Ytrain)"
   ]
  },
  {
   "cell_type": "markdown",
   "id": "3826b972-e1a1-4bcc-9d30-17e2057849ed",
   "metadata": {},
   "source": [
    "### Predicting Test Values"
   ]
  },
  {
   "cell_type": "code",
   "execution_count": 8,
   "id": "81301f02-34c0-4219-918b-0e21e400a41e",
   "metadata": {},
   "outputs": [],
   "source": [
    "predicted_values=RF.predict(Xtest)"
   ]
  },
  {
   "cell_type": "markdown",
   "id": "85024546-1210-4704-85a9-dc02135f2229",
   "metadata": {},
   "source": [
    "### Model Evaluation"
   ]
  },
  {
   "cell_type": "code",
   "execution_count": 9,
   "id": "54581cdd-28e0-489d-9d55-c6f79393974e",
   "metadata": {},
   "outputs": [
    {
     "name": "stdout",
     "output_type": "stream",
     "text": [
      "              precision    recall  f1-score   support\n",
      "\n",
      "       apple       1.00      1.00      1.00        28\n",
      "      banana       1.00      1.00      1.00        26\n",
      "   blackgram       1.00      1.00      1.00        28\n",
      "    chickpea       1.00      1.00      1.00        29\n",
      "     coconut       1.00      1.00      1.00        31\n",
      "      coffee       1.00      1.00      1.00        33\n",
      "      cotton       1.00      1.00      1.00        31\n",
      "      grapes       1.00      1.00      1.00        29\n",
      "        jute       0.94      0.94      0.94        33\n",
      " kidneybeans       1.00      1.00      1.00        30\n",
      "      lentil       1.00      1.00      1.00        32\n",
      "       maize       1.00      1.00      1.00        32\n",
      "       mango       1.00      1.00      1.00        33\n",
      "   mothbeans       1.00      1.00      1.00        29\n",
      "    mungbean       1.00      1.00      1.00        32\n",
      "   muskmelon       1.00      1.00      1.00        30\n",
      "      orange       1.00      1.00      1.00        42\n",
      "      papaya       1.00      1.00      1.00        30\n",
      "  pigeonpeas       1.00      1.00      1.00        31\n",
      " pomegranate       1.00      1.00      1.00        19\n",
      "        rice       0.93      0.93      0.93        30\n",
      "  watermelon       1.00      1.00      1.00        22\n",
      "\n",
      "    accuracy                           0.99       660\n",
      "   macro avg       0.99      0.99      0.99       660\n",
      "weighted avg       0.99      0.99      0.99       660\n",
      "\n"
     ]
    }
   ],
   "source": [
    "from sklearn.metrics import classification_report,confusion_matrix,ConfusionMatrixDisplay\n",
    "report=classification_report(Ytest,predicted_values)\n",
    "print(report)"
   ]
  },
  {
   "cell_type": "code",
   "execution_count": 10,
   "id": "02f29731-f586-4e08-b027-75b907518c4f",
   "metadata": {},
   "outputs": [
    {
     "name": "stdout",
     "output_type": "stream",
     "text": [
      "0.9939393939393939\n"
     ]
    }
   ],
   "source": [
    "# Test Accuracy\n",
    "x=metrics.accuracy_score(Ytest,predicted_values)\n",
    "print(x)"
   ]
  },
  {
   "cell_type": "code",
   "execution_count": 11,
   "id": "f4fd2dfc-f426-4429-91ca-6abb005b1bbf",
   "metadata": {},
   "outputs": [
    {
     "name": "stdout",
     "output_type": "stream",
     "text": [
      "1.0\n"
     ]
    }
   ],
   "source": [
    "# Train Accuracy\n",
    "print(RF.score(Xtrain,Ytrain))"
   ]
  },
  {
   "cell_type": "code",
   "execution_count": 12,
   "id": "cfc31ddf-25b6-49f1-a87d-7b47a858ecca",
   "metadata": {},
   "outputs": [
    {
     "name": "stdout",
     "output_type": "stream",
     "text": [
      "0.9939393939393939\n"
     ]
    }
   ],
   "source": [
    "print(RF.score(Xtest,Ytest))"
   ]
  },
  {
   "cell_type": "markdown",
   "id": "efe4a990-5720-4686-84cb-ad512551664f",
   "metadata": {},
   "source": [
    "### Cross Validation "
   ]
  },
  {
   "cell_type": "code",
   "execution_count": 13,
   "id": "333d445d-d9f0-4ea1-b395-4d79c7c65444",
   "metadata": {},
   "outputs": [
    {
     "name": "stdout",
     "output_type": "stream",
     "text": [
      "[0.99772727 0.99090909 0.99772727 0.99090909 0.98636364]\n"
     ]
    }
   ],
   "source": [
    "score = cross_val_score(RF,features,target,cv=5)\n",
    "print(score)"
   ]
  },
  {
   "cell_type": "code",
   "execution_count": 14,
   "id": "e89383ee-8f9e-4b19-b626-1b673f360a3e",
   "metadata": {},
   "outputs": [
    {
     "name": "stdout",
     "output_type": "stream",
     "text": [
      "0.9927272727272728\n"
     ]
    }
   ],
   "source": [
    "#Cross Validation Accuracy\n",
    "print(score.mean())"
   ]
  },
  {
   "cell_type": "markdown",
   "id": "6ded0db5-fd61-4989-b551-9dd6f12100ff",
   "metadata": {},
   "source": [
    "### Visualizing Accuracies "
   ]
  },
  {
   "cell_type": "code",
   "execution_count": 15,
   "id": "5ce87f2e-2ab6-4dd3-aa7c-6bd6848624c5",
   "metadata": {},
   "outputs": [],
   "source": [
    "import matplotlib.pyplot as plt\n",
    "import seaborn as sns"
   ]
  },
  {
   "cell_type": "code",
   "execution_count": 16,
   "id": "2edd0895-93a1-433b-9237-1e5980479864",
   "metadata": {},
   "outputs": [],
   "source": [
    "scores=[1.0,0.9939393939393939,0.9927272727272728]\n",
    "labels=[\"Train\",\"Test\",\"CV\"]"
   ]
  },
  {
   "cell_type": "code",
   "execution_count": 17,
   "id": "60dd2d44-1837-4e61-afc2-dbc74328af5b",
   "metadata": {},
   "outputs": [
    {
     "data": {
      "text/plain": [
       "(0.5, 1.0)"
      ]
     },
     "execution_count": 17,
     "metadata": {},
     "output_type": "execute_result"
    },
    {
     "data": {
      "image/png": "[encoded data removed]",
      "text/plain": [
       "<Figure size 600x400 with 1 Axes>"
      ]
     },
     "metadata": {},
     "output_type": "display_data"
    }
   ],
   "source": [
    "plt.figure(figsize=[6,4],dpi = 100)\n",
    "plt.title('Model Accuracies Zoomed')\n",
    "plt.xlabel('Accuracy')\n",
    "plt.ylabel('Type')\n",
    "sns.barplot(x = scores,y = labels,palette='dark')\n",
    "plt.xlim(0.5,1)"
   ]
  },
  {
   "cell_type": "markdown",
   "id": "ab7426fe-953e-402f-849a-0ba210444525",
   "metadata": {},
   "source": [
    "### Predictive Function"
   ]
  },
  {
   "cell_type": "code",
   "execution_count": 21,
   "id": "3b22f650-74fb-4c93-a7bb-3fa04be9559e",
   "metadata": {},
   "outputs": [
    {
     "name": "stdout",
     "output_type": "stream",
     "text": [
      "Predicted Crop Label: coffee\n",
      "Predicted Crop Label: kidneybeans\n"
     ]
    }
   ],
   "source": [
    "def predict_crop_label(input_features):\n",
    "    \n",
    "    \n",
    "    input_features = np.array(input_features).reshape(1, -1) \n",
    "    \n",
    "    # Predict the crop label using the LogReg model\n",
    "    predicted_label = RF.predict(input_features)\n",
    "    \n",
    "    return predicted_label[0]  # Return the predicted label\n",
    "\n",
    "# Example usage:\n",
    "user_input = [83, 45, 60, 28, 70.3, 7.0, 150.9]  # Example input features (N, P, K, pH, temperature, humidity, rainfall)\n",
    "predicted_crop_label = predict_crop_label(user_input)\n",
    "print(\"Predicted Crop Label:\", predicted_crop_label)\n",
    "\n",
    "user_input = [60,18, 30, 23.603016, 60.3, 8, 40.91]  # Example input features (N, P, K, pH, temperature, humidity, rainfall)\n",
    "predicted_crop_label = predict_crop_label(user_input)\n",
    "print(\"Predicted Crop Label:\", predicted_crop_label)\n"
   ]
  },
  {
   "cell_type": "code",
   "execution_count": 19,
   "id": "f580213f-f9ab-459a-9786-e84f4ecf0288",
   "metadata": {},
   "outputs": [],
   "source": [
    "import pickle\n",
    "filename='RF_Crop.sav'\n",
    "pickle.dump(RF, open(filename, 'wb'))"
   ]
  },
  {
   "cell_type": "code",
   "execution_count": null,
   "id": "4bc707c5-a342-4e36-85c6-38cba0d5c40b",
   "metadata": {},
   "outputs": [],
   "source": []
  },
  {
   "cell_type": "code",
   "execution_count": null,
   "id": "2dfd1e42-18a2-4898-aae9-6d3ba4060049",
   "metadata": {},
   "outputs": [],
   "source": []
  }
 ],
 "metadata": {
  "kernelspec": {
   "display_name": "Python 3 (ipykernel)",
   "language": "python",
   "name": "python3"
  },
  "language_info": {
   "codemirror_mode": {
    "name": "ipython",
    "version": 3
   },
   "file_extension": ".py",
   "mimetype": "text/x-python",
   "name": "python",
   "nbconvert_exporter": "python",
   "pygments_lexer": "ipython3",
   "version": "3.11.3"
  }
 },
 "nbformat": 4,
 "nbformat_minor": 5
}
