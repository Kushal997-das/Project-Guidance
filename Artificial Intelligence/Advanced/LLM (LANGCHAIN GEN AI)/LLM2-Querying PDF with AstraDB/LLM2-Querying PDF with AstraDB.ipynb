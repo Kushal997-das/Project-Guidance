{
 "cells": [
  {
   "cell_type": "markdown",
   "metadata": {},
   "source": [
    "## LLM2- Querying PDF with AstraDB \n"
   ]
  },
  {
   "cell_type": "markdown",
   "metadata": {},
   "source": [
    "Pre-requisites:\n",
    "\n",
    "You need a Serverless Cassandra with Vector Search database on ASTRA DB to run this demo. As outlined in more detail here, you should get a DB Token with role Database Administrator and copy your Database ID: these connection parameters are needed momentarily.\n",
    "\n",
    "You also need an OpenAI API Key, for this demo to work.\n",
    "\n",
    "What you will do:\n",
    "  <i> Setup: import dependencies, provide secrets, create the LangChain vector store;\n",
    "  <ii>Run a Question-Answering loop retrieving the relevant headlines and having an LLM construct the answer. "
   ]
  },
  {
   "cell_type": "code",
   "execution_count": 1,
   "metadata": {},
   "outputs": [
    {
     "name": "stdout",
     "output_type": "stream",
     "text": [
      "^C\n",
      "Collecting datasets\n",
      "  Downloading datasets-2.16.1-py3-none-any.whl.metadata (20 kB)\n",
      "Requirement already satisfied: filelock in c:\\users\\varsha gupta\\appdata\\roaming\\python\\python311\\site-packages (from datasets) (3.13.1)\n",
      "Requirement already satisfied: numpy>=1.17 in c:\\users\\varsha gupta\\appdata\\roaming\\python\\python311\\site-packages (from datasets) (1.24.3)\n",
      "Requirement already satisfied: pyarrow>=8.0.0 in c:\\users\\varsha gupta\\appdata\\roaming\\python\\python311\\site-packages (from datasets) (14.0.2)\n",
      "Collecting pyarrow-hotfix (from datasets)\n",
      "  Downloading pyarrow_hotfix-0.6-py3-none-any.whl.metadata (3.6 kB)\n",
      "Collecting dill<0.3.8,>=0.3.0 (from datasets)\n",
      "  Downloading dill-0.3.7-py3-none-any.whl.metadata (9.9 kB)\n",
      "Requirement already satisfied: pandas in c:\\users\\varsha gupta\\appdata\\roaming\\python\\python311\\site-packages (from datasets) (1.5.3)\n",
      "Requirement already satisfied: requests>=2.19.0 in c:\\users\\varsha gupta\\appdata\\roaming\\python\\python311\\site-packages (from datasets) (2.31.0)\n",
      "Requirement already satisfied: tqdm>=4.62.1 in c:\\users\\varsha gupta\\appdata\\roaming\\python\\python311\\site-packages (from datasets) (4.65.0)\n",
      "Collecting xxhash (from datasets)\n",
      "  Downloading xxhash-3.4.1-cp311-cp311-win_amd64.whl.metadata (12 kB)\n",
      "Collecting multiprocess (from datasets)\n",
      "  Downloading multiprocess-0.70.15-py311-none-any.whl.metadata (7.2 kB)\n",
      "Collecting fsspec<=2023.10.0,>=2023.1.0 (from fsspec[http]<=2023.10.0,>=2023.1.0->datasets)\n",
      "  Downloading fsspec-2023.10.0-py3-none-any.whl.metadata (6.8 kB)\n",
      "Requirement already satisfied: aiohttp in c:\\users\\varsha gupta\\appdata\\roaming\\python\\python311\\site-packages (from datasets) (3.8.4)\n",
      "Requirement already satisfied: huggingface-hub>=0.19.4 in c:\\users\\varsha gupta\\appdata\\roaming\\python\\python311\\site-packages (from datasets) (0.19.4)\n",
      "Requirement already satisfied: packaging in c:\\users\\varsha gupta\\appdata\\roaming\\python\\python311\\site-packages (from datasets) (23.2)\n",
      "Requirement already satisfied: pyyaml>=5.1 in c:\\users\\varsha gupta\\appdata\\roaming\\python\\python311\\site-packages (from datasets) (6.0)\n",
      "Requirement already satisfied: attrs>=17.3.0 in c:\\users\\varsha gupta\\appdata\\roaming\\python\\python311\\site-packages (from aiohttp->datasets) (22.2.0)\n",
      "Requirement already satisfied: charset-normalizer<4.0,>=2.0 in c:\\users\\varsha gupta\\appdata\\roaming\\python\\python311\\site-packages (from aiohttp->datasets) (3.3.2)\n",
      "Requirement already satisfied: multidict<7.0,>=4.5 in c:\\users\\varsha gupta\\appdata\\roaming\\python\\python311\\site-packages (from aiohttp->datasets) (6.0.4)\n",
      "Requirement already satisfied: async-timeout<5.0,>=4.0.0a3 in c:\\users\\varsha gupta\\appdata\\roaming\\python\\python311\\site-packages (from aiohttp->datasets) (4.0.2)\n",
      "Requirement already satisfied: yarl<2.0,>=1.0 in c:\\users\\varsha gupta\\appdata\\roaming\\python\\python311\\site-packages (from aiohttp->datasets) (1.8.2)\n",
      "Requirement already satisfied: frozenlist>=1.1.1 in c:\\users\\varsha gupta\\appdata\\roaming\\python\\python311\\site-packages (from aiohttp->datasets) (1.3.3)\n",
      "Requirement already satisfied: aiosignal>=1.1.2 in c:\\users\\varsha gupta\\appdata\\roaming\\python\\python311\\site-packages (from aiohttp->datasets) (1.3.1)\n",
      "Requirement already satisfied: typing-extensions>=3.7.4.3 in c:\\users\\varsha gupta\\appdata\\roaming\\python\\python311\\site-packages (from huggingface-hub>=0.19.4->datasets) (4.9.0)\n",
      "Requirement already satisfied: idna<4,>=2.5 in c:\\users\\varsha gupta\\appdata\\roaming\\python\\python311\\site-packages (from requests>=2.19.0->datasets) (3.6)\n",
      "Requirement already satisfied: urllib3<3,>=1.21.1 in c:\\users\\varsha gupta\\appdata\\roaming\\python\\python311\\site-packages (from requests>=2.19.0->datasets) (2.1.0)\n",
      "Requirement already satisfied: certifi>=2017.4.17 in c:\\users\\varsha gupta\\appdata\\roaming\\python\\python311\\site-packages (from requests>=2.19.0->datasets) (2023.11.17)\n",
      "Requirement already satisfied: colorama in c:\\users\\varsha gupta\\appdata\\roaming\\python\\python311\\site-packages (from tqdm>=4.62.1->datasets) (0.4.6)\n",
      "Requirement already satisfied: python-dateutil>=2.8.1 in c:\\users\\varsha gupta\\appdata\\roaming\\python\\python311\\site-packages (from pandas->datasets) (2.8.2)\n",
      "Requirement already satisfied: pytz>=2020.1 in c:\\users\\varsha gupta\\appdata\\roaming\\python\\python311\\site-packages (from pandas->datasets) (2022.7.1)\n",
      "Requirement already satisfied: six>=1.5 in c:\\users\\varsha gupta\\appdata\\roaming\\python\\python311\\site-packages (from python-dateutil>=2.8.1->pandas->datasets) (1.16.0)\n",
      "Downloading datasets-2.16.1-py3-none-any.whl (507 kB)\n",
      "   ---------------------------------------- 0.0/507.1 kB ? eta -:--:--\n",
      "   ---------------------------------------- 0.0/507.1 kB ? eta -:--:--\n",
      "   ---------------------------------------- 0.0/507.1 kB ? eta -:--:--\n",
      "    --------------------------------------- 10.2/507.1 kB ? eta -:--:--\n",
      "    --------------------------------------- 10.2/507.1 kB ? eta -:--:--\n",
      "    --------------------------------------- 10.2/507.1 kB ? eta -:--:--\n",
      "    --------------------------------------- 10.2/507.1 kB ? eta -:--:--\n",
      "    --------------------------------------- 10.2/507.1 kB ? eta -:--:--\n",
      "    --------------------------------------- 10.2/507.1 kB ? eta -:--:--\n",
      "    --------------------------------------- 10.2/507.1 kB ? eta -:--:--\n",
      "    --------------------------------------- 10.2/507.1 kB ? eta -:--:--\n",
      "    --------------------------------------- 10.2/507.1 kB ? eta -:--:--\n",
      "    --------------------------------------- 10.2/507.1 kB ? eta -:--:--\n",
      "    --------------------------------------- 10.2/507.1 kB ? eta -:--:--\n",
      "    --------------------------------------- 10.2/507.1 kB ? eta -:--:--\n",
      "    --------------------------------------- 10.2/507.1 kB ? eta -:--:--\n",
      "    --------------------------------------- 10.2/507.1 kB ? eta -:--:--\n",
      "    --------------------------------------- 10.2/507.1 kB ? eta -:--:--\n",
      "    --------------------------------------- 10.2/507.1 kB ? eta -:--:--\n",
      "    --------------------------------------- 10.2/507.1 kB ? eta -:--:--\n",
      "    --------------------------------------- 10.2/507.1 kB ? eta -:--:--\n",
      "    --------------------------------------- 10.2/507.1 kB ? eta -:--:--\n",
      "    --------------------------------------- 10.2/507.1 kB ? eta -:--:--\n",
      "    --------------------------------------- 10.2/507.1 kB ? eta -:--:--\n",
      "    --------------------------------------- 10.2/507.1 kB ? eta -:--:--\n",
      "    --------------------------------------- 10.2/507.1 kB ? eta -:--:--\n",
      "    --------------------------------------- 10.2/507.1 kB ? eta -:--:--\n",
      "    --------------------------------------- 10.2/507.1 kB ? eta -:--:--\n",
      "    --------------------------------------- 10.2/507.1 kB ? eta -:--:--\n",
      "    --------------------------------------- 10.2/507.1 kB ? eta -:--:--\n",
      "    --------------------------------------- 10.2/507.1 kB ? eta -:--:--\n",
      "    --------------------------------------- 10.2/507.1 kB ? eta -:--:--\n",
      "    --------------------------------------- 10.2/507.1 kB ? eta -:--:--\n",
      "    --------------------------------------- 10.2/507.1 kB ? eta -:--:--\n",
      "    --------------------------------------- 10.2/507.1 kB ? eta -:--:--\n",
      "    --------------------------------------- 10.2/507.1 kB ? eta -:--:--\n",
      "    --------------------------------------- 10.2/507.1 kB ? eta -:--:--\n",
      "    --------------------------------------- 10.2/507.1 kB ? eta -:--:--\n",
      "    --------------------------------------- 10.2/507.1 kB ? eta -:--:--\n",
      "    --------------------------------------- 10.2/507.1 kB ? eta -:--:--\n",
      "    --------------------------------------- 10.2/507.1 kB ? eta -:--:--\n",
      "    --------------------------------------- 10.2/507.1 kB ? eta -:--:--\n",
      "    --------------------------------------- 10.2/507.1 kB ? eta -:--:--\n",
      "    --------------------------------------- 10.2/507.1 kB ? eta -:--:--\n",
      "    --------------------------------------- 10.2/507.1 kB ? eta -:--:--\n",
      "    --------------------------------------- 10.2/507.1 kB ? eta -:--:--\n",
      "    --------------------------------------- 10.2/507.1 kB ? eta -:--:--\n",
      "    --------------------------------------- 10.2/507.1 kB ? eta -:--:--\n",
      "    --------------------------------------- 10.2/507.1 kB ? eta -:--:--\n",
      "    --------------------------------------- 10.2/507.1 kB ? eta -:--:--\n",
      "    --------------------------------------- 10.2/507.1 kB ? eta -:--:--\n",
      "    --------------------------------------- 10.2/507.1 kB ? eta -:--:--\n",
      "    --------------------------------------- 10.2/507.1 kB ? eta -:--:--\n",
      "    --------------------------------------- 10.2/507.1 kB ? eta -:--:--\n",
      "   -- ------------------------------------- 30.7/507.1 kB 3.9 kB/s eta 0:02:02\n",
      "   -- ------------------------------------- 30.7/507.1 kB 3.9 kB/s eta 0:02:02\n",
      "   -- ------------------------------------- 30.7/507.1 kB 3.9 kB/s eta 0:02:02\n",
      "   --- ------------------------------------ 41.0/507.1 kB 5.7 kB/s eta 0:01:22\n",
      "   --- ------------------------------------ 41.0/507.1 kB 5.7 kB/s eta 0:01:22\n",
      "   --- ------------------------------------ 41.0/507.1 kB 5.7 kB/s eta 0:01:22\n",
      "   --- ------------------------------------ 41.0/507.1 kB 5.7 kB/s eta 0:01:22\n",
      "   ---- ----------------------------------- 61.4/507.1 kB 9.0 kB/s eta 0:00:50\n",
      "   ---- ----------------------------------- 61.4/507.1 kB 9.0 kB/s eta 0:00:50\n",
      "   ---- ----------------------------------- 61.4/507.1 kB 9.0 kB/s eta 0:00:50\n",
      "   ---- ----------------------------------- 61.4/507.1 kB 9.0 kB/s eta 0:00:50\n",
      "   ---- ----------------------------------- 61.4/507.1 kB 9.0 kB/s eta 0:00:50\n",
      "   ---- ----------------------------------- 61.4/507.1 kB 9.0 kB/s eta 0:00:50\n",
      "   ---- ----------------------------------- 61.4/507.1 kB 9.0 kB/s eta 0:00:50\n",
      "   ---- ----------------------------------- 61.4/507.1 kB 9.0 kB/s eta 0:00:50\n",
      "   ---- ----------------------------------- 61.4/507.1 kB 9.0 kB/s eta 0:00:50\n",
      "   ---- ----------------------------------- 61.4/507.1 kB 9.0 kB/s eta 0:00:50\n",
      "   ---- ----------------------------------- 61.4/507.1 kB 9.0 kB/s eta 0:00:50\n",
      "   ---- ----------------------------------- 61.4/507.1 kB 9.0 kB/s eta 0:00:50\n",
      "   ---- ----------------------------------- 61.4/507.1 kB 9.0 kB/s eta 0:00:50\n",
      "   ---- ----------------------------------- 61.4/507.1 kB 9.0 kB/s eta 0:00:50\n",
      "   ---- ----------------------------------- 61.4/507.1 kB 9.0 kB/s eta 0:00:50\n",
      "   ---- ----------------------------------- 61.4/507.1 kB 9.0 kB/s eta 0:00:50\n",
      "   ---- ----------------------------------- 61.4/507.1 kB 9.0 kB/s eta 0:00:50\n",
      "   ---- ----------------------------------- 61.4/507.1 kB 9.0 kB/s eta 0:00:50\n",
      "   ---- ----------------------------------- 61.4/507.1 kB 9.0 kB/s eta 0:00:50\n",
      "   ---- ----------------------------------- 61.4/507.1 kB 9.0 kB/s eta 0:00:50\n",
      "   ---- ----------------------------------- 61.4/507.1 kB 9.0 kB/s eta 0:00:50\n",
      "   ---- ----------------------------------- 61.4/507.1 kB 9.0 kB/s eta 0:00:50\n",
      "   ---- ----------------------------------- 61.4/507.1 kB 9.0 kB/s eta 0:00:50\n",
      "   ---- ----------------------------------- 61.4/507.1 kB 9.0 kB/s eta 0:00:50\n",
      "   ---- ----------------------------------- 61.4/507.1 kB 9.0 kB/s eta 0:00:50\n",
      "   ---- ----------------------------------- 61.4/507.1 kB 9.0 kB/s eta 0:00:50\n",
      "   ---- ----------------------------------- 61.4/507.1 kB 9.0 kB/s eta 0:00:50\n",
      "   ---- ----------------------------------- 61.4/507.1 kB 9.0 kB/s eta 0:00:50\n",
      "   ---- ----------------------------------- 61.4/507.1 kB 9.0 kB/s eta 0:00:50\n",
      "   ---- ----------------------------------- 61.4/507.1 kB 9.0 kB/s eta 0:00:50\n",
      "   ---- ----------------------------------- 61.4/507.1 kB 9.0 kB/s eta 0:00:50\n",
      "   ---- ----------------------------------- 61.4/507.1 kB 9.0 kB/s eta 0:00:50\n",
      "   ---- ----------------------------------- 61.4/507.1 kB 9.0 kB/s eta 0:00:50\n",
      "   ---- ----------------------------------- 61.4/507.1 kB 9.0 kB/s eta 0:00:50\n",
      "   ------ --------------------------------- 81.9/507.1 kB 7.1 kB/s eta 0:01:01\n",
      "   ------ --------------------------------- 81.9/507.1 kB 7.1 kB/s eta 0:01:01\n",
      "   ------ --------------------------------- 81.9/507.1 kB 7.1 kB/s eta 0:01:01\n",
      "   ------ --------------------------------- 81.9/507.1 kB 7.1 kB/s eta 0:01:01\n",
      "   ------ --------------------------------- 81.9/507.1 kB 7.1 kB/s eta 0:01:01\n",
      "   ------ --------------------------------- 81.9/507.1 kB 7.1 kB/s eta 0:01:01\n",
      "   ------- -------------------------------- 92.2/507.1 kB 6.8 kB/s eta 0:01:02\n",
      "   ------- -------------------------------- 92.2/507.1 kB 6.8 kB/s eta 0:01:02\n",
      "   ------- -------------------------------- 92.2/507.1 kB 6.8 kB/s eta 0:01:02\n",
      "   ------- -------------------------------- 92.2/507.1 kB 6.8 kB/s eta 0:01:02\n",
      "   ------- -------------------------------- 92.2/507.1 kB 6.8 kB/s eta 0:01:02\n",
      "   ------- -------------------------------- 92.2/507.1 kB 6.8 kB/s eta 0:01:02\n",
      "   ------- -------------------------------- 92.2/507.1 kB 6.8 kB/s eta 0:01:02\n",
      "   ------- -------------------------------- 92.2/507.1 kB 6.8 kB/s eta 0:01:02\n",
      "   ------- -------------------------------- 92.2/507.1 kB 6.8 kB/s eta 0:01:02\n",
      "   ------- -------------------------------- 92.2/507.1 kB 6.8 kB/s eta 0:01:02\n",
      "   ------- -------------------------------- 92.2/507.1 kB 6.8 kB/s eta 0:01:02\n",
      "   ------- -------------------------------- 92.2/507.1 kB 6.8 kB/s eta 0:01:02\n",
      "   ------- -------------------------------- 92.2/507.1 kB 6.8 kB/s eta 0:01:02\n",
      "   ------- -------------------------------- 92.2/507.1 kB 6.8 kB/s eta 0:01:02\n",
      "   ------- -------------------------------- 92.2/507.1 kB 6.8 kB/s eta 0:01:02\n",
      "   ------- -------------------------------- 92.2/507.1 kB 6.8 kB/s eta 0:01:02\n",
      "   ------- -------------------------------- 92.2/507.1 kB 6.8 kB/s eta 0:01:02\n",
      "   ------- -------------------------------- 92.2/507.1 kB 6.8 kB/s eta 0:01:02\n",
      "   ------- -------------------------------- 92.2/507.1 kB 6.8 kB/s eta 0:01:02\n",
      "   ------- -------------------------------- 92.2/507.1 kB 6.8 kB/s eta 0:01:02\n",
      "   ------- -------------------------------- 92.2/507.1 kB 6.8 kB/s eta 0:01:02\n",
      "   ------- -------------------------------- 92.2/507.1 kB 6.8 kB/s eta 0:01:02\n",
      "   ------- -------------------------------- 92.2/507.1 kB 6.8 kB/s eta 0:01:02\n",
      "   ------- -------------------------------- 92.2/507.1 kB 6.8 kB/s eta 0:01:02\n",
      "   ------- -------------------------------- 92.2/507.1 kB 6.8 kB/s eta 0:01:02\n",
      "   ------- -------------------------------- 92.2/507.1 kB 6.8 kB/s eta 0:01:02\n",
      "   ------- -------------------------------- 92.2/507.1 kB 6.8 kB/s eta 0:01:02\n",
      "   ------- -------------------------------- 92.2/507.1 kB 6.8 kB/s eta 0:01:02\n",
      "   ------- -------------------------------- 92.2/507.1 kB 6.8 kB/s eta 0:01:02\n",
      "   -------- ------------------------------- 112.6/507.1 kB 6.4 kB/s eta 0:01:02\n",
      "   -------- ------------------------------- 112.6/507.1 kB 6.4 kB/s eta 0:01:02\n",
      "   --------- ------------------------------ 122.9/507.1 kB 7.0 kB/s eta 0:00:55\n",
      "   ----------- ---------------------------- 143.4/507.1 kB 8.2 kB/s eta 0:00:45\n",
      "   ------------- ------------------------- 174.1/507.1 kB 10.0 kB/s eta 0:00:34\n",
      "   -------------- ------------------------ 194.6/507.1 kB 11.2 kB/s eta 0:00:28\n",
      "   -------------- ------------------------ 194.6/507.1 kB 11.2 kB/s eta 0:00:28\n",
      "   --------------- ----------------------- 204.8/507.1 kB 11.6 kB/s eta 0:00:27\n",
      "   --------------- ----------------------- 204.8/507.1 kB 11.6 kB/s eta 0:00:27\n",
      "   ------------------ -------------------- 245.8/507.1 kB 13.7 kB/s eta 0:00:20\n",
      "   ------------------- ------------------- 256.0/507.1 kB 14.3 kB/s eta 0:00:18\n",
      "   --------------------- ----------------- 276.5/507.1 kB 15.2 kB/s eta 0:00:16\n",
      "   --------------------- ----------------- 276.5/507.1 kB 15.2 kB/s eta 0:00:16\n",
      "   --------------------- ----------------- 276.5/507.1 kB 15.2 kB/s eta 0:00:16\n",
      "   ---------------------- ---------------- 286.7/507.1 kB 15.4 kB/s eta 0:00:15\n",
      "   ---------------------- ---------------- 286.7/507.1 kB 15.4 kB/s eta 0:00:15\n",
      "   ----------------------- --------------- 307.2/507.1 kB 16.3 kB/s eta 0:00:13\n",
      "   ----------------------- --------------- 307.2/507.1 kB 16.3 kB/s eta 0:00:13\n",
      "   ------------------------- ------------- 327.7/507.1 kB 17.2 kB/s eta 0:00:11\n",
      "   ------------------------- ------------- 327.7/507.1 kB 17.2 kB/s eta 0:00:11\n",
      "   ------------------------- ------------- 327.7/507.1 kB 17.2 kB/s eta 0:00:11\n",
      "   ------------------------- ------------- 327.7/507.1 kB 17.2 kB/s eta 0:00:11\n",
      "   ------------------------- ------------- 327.7/507.1 kB 17.2 kB/s eta 0:00:11\n",
      "   ------------------------- ------------- 327.7/507.1 kB 17.2 kB/s eta 0:00:11\n",
      "   ------------------------- ------------- 327.7/507.1 kB 17.2 kB/s eta 0:00:11\n",
      "   ------------------------- ------------- 327.7/507.1 kB 17.2 kB/s eta 0:00:11\n",
      "   ------------------------- ------------- 337.9/507.1 kB 17.2 kB/s eta 0:00:10\n",
      "   ------------------------- ------------- 337.9/507.1 kB 17.2 kB/s eta 0:00:10\n",
      "   ------------------------- ------------- 337.9/507.1 kB 17.2 kB/s eta 0:00:10\n",
      "   ------------------------- ------------- 337.9/507.1 kB 17.2 kB/s eta 0:00:10\n",
      "   ------------------------- ------------- 337.9/507.1 kB 17.2 kB/s eta 0:00:10\n",
      "   ------------------------- ------------- 337.9/507.1 kB 17.2 kB/s eta 0:00:10\n",
      "   ------------------------- ------------- 337.9/507.1 kB 17.2 kB/s eta 0:00:10\n",
      "   ------------------------- ------------- 337.9/507.1 kB 17.2 kB/s eta 0:00:10\n",
      "   ------------------------- ------------- 337.9/507.1 kB 17.2 kB/s eta 0:00:10\n",
      "   ------------------------- ------------- 337.9/507.1 kB 17.2 kB/s eta 0:00:10\n",
      "   ------------------------- ------------- 337.9/507.1 kB 17.2 kB/s eta 0:00:10\n",
      "   ------------------------- ------------- 337.9/507.1 kB 17.2 kB/s eta 0:00:10\n",
      "   ------------------------- ------------- 337.9/507.1 kB 17.2 kB/s eta 0:00:10\n",
      "   ------------------------- ------------- 337.9/507.1 kB 17.2 kB/s eta 0:00:10\n",
      "   ------------------------- ------------- 337.9/507.1 kB 17.2 kB/s eta 0:00:10\n",
      "   ------------------------- ------------- 337.9/507.1 kB 17.2 kB/s eta 0:00:10\n",
      "   ------------------------- ------------- 337.9/507.1 kB 17.2 kB/s eta 0:00:10\n",
      "   ------------------------- ------------- 337.9/507.1 kB 17.2 kB/s eta 0:00:10\n",
      "   ------------------------- ------------- 337.9/507.1 kB 17.2 kB/s eta 0:00:10\n",
      "   ------------------------- ------------- 337.9/507.1 kB 17.2 kB/s eta 0:00:10\n",
      "   ------------------------- ------------- 337.9/507.1 kB 17.2 kB/s eta 0:00:10\n",
      "   ------------------------- ------------- 337.9/507.1 kB 17.2 kB/s eta 0:00:10\n",
      "   ------------------------- ------------- 337.9/507.1 kB 17.2 kB/s eta 0:00:10\n",
      "   ------------------------- ------------- 337.9/507.1 kB 17.2 kB/s eta 0:00:10\n",
      "   ------------------------- ------------- 337.9/507.1 kB 17.2 kB/s eta 0:00:10\n",
      "   ------------------------- ------------- 337.9/507.1 kB 17.2 kB/s eta 0:00:10\n",
      "   ------------------------- ------------- 337.9/507.1 kB 17.2 kB/s eta 0:00:10\n",
      "   ------------------------- ------------- 337.9/507.1 kB 17.2 kB/s eta 0:00:10\n",
      "   ------------------------- ------------- 337.9/507.1 kB 17.2 kB/s eta 0:00:10\n",
      "   ------------------------- ------------- 337.9/507.1 kB 17.2 kB/s eta 0:00:10\n",
      "   ------------------------- ------------- 337.9/507.1 kB 17.2 kB/s eta 0:00:10\n",
      "   ------------------------- ------------- 337.9/507.1 kB 17.2 kB/s eta 0:00:10\n",
      "   ------------------------- ------------- 337.9/507.1 kB 17.2 kB/s eta 0:00:10\n",
      "   ------------------------- ------------- 337.9/507.1 kB 17.2 kB/s eta 0:00:10\n",
      "   ------------------------- ------------- 337.9/507.1 kB 17.2 kB/s eta 0:00:10\n",
      "   ------------------------- ------------- 337.9/507.1 kB 17.2 kB/s eta 0:00:10\n",
      "   ------------------------- ------------- 337.9/507.1 kB 17.2 kB/s eta 0:00:10\n",
      "   ------------------------- ------------- 337.9/507.1 kB 17.2 kB/s eta 0:00:10\n",
      "   ------------------------- ------------- 337.9/507.1 kB 17.2 kB/s eta 0:00:10\n",
      "   ------------------------- ------------- 337.9/507.1 kB 17.2 kB/s eta 0:00:10\n",
      "   ------------------------- ------------- 337.9/507.1 kB 17.2 kB/s eta 0:00:10\n",
      "   ------------------------- ------------- 337.9/507.1 kB 17.2 kB/s eta 0:00:10\n",
      "   ------------------------- ------------- 337.9/507.1 kB 17.2 kB/s eta 0:00:10\n",
      "   ------------------------- ------------- 337.9/507.1 kB 17.2 kB/s eta 0:00:10\n",
      "   --------------------------- ----------- 358.4/507.1 kB 14.5 kB/s eta 0:00:11\n",
      "   ---------------------------- ---------- 368.6/507.1 kB 14.8 kB/s eta 0:00:10\n",
      "   ---------------------------- ---------- 368.6/507.1 kB 14.8 kB/s eta 0:00:10\n",
      "   ---------------------------- ---------- 368.6/507.1 kB 14.8 kB/s eta 0:00:10\n",
      "   ----------------------------- --------- 389.1/507.1 kB 15.5 kB/s eta 0:00:08\n",
      "   ----------------------------- --------- 389.1/507.1 kB 15.5 kB/s eta 0:00:08\n",
      "   ------------------------------- ------- 409.6/507.1 kB 16.3 kB/s eta 0:00:06\n",
      "   ------------------------------- ------- 409.6/507.1 kB 16.3 kB/s eta 0:00:06\n",
      "   -------------------------------- ------ 419.8/507.1 kB 16.7 kB/s eta 0:00:06\n",
      "   -------------------------------- ------ 419.8/507.1 kB 16.7 kB/s eta 0:00:06\n",
      "   --------------------------------- ----- 440.3/507.1 kB 17.4 kB/s eta 0:00:04\n",
      "   ---------------------------------- ---- 450.6/507.1 kB 17.8 kB/s eta 0:00:04\n",
      "   ------------------------------------ -- 471.0/507.1 kB 18.6 kB/s eta 0:00:02\n",
      "   ------------------------------------ -- 471.0/507.1 kB 18.6 kB/s eta 0:00:02\n",
      "   ------------------------------------ -- 471.0/507.1 kB 18.6 kB/s eta 0:00:02\n",
      "   --------------------------------------- 507.1/507.1 kB 19.9 kB/s eta 0:00:00\n",
      "Downloading dill-0.3.7-py3-none-any.whl (115 kB)\n",
      "   ---------------------------------------- 0.0/115.3 kB ? eta -:--:--\n",
      "   --- ------------------------------------ 10.2/115.3 kB ? eta -:--:--\n",
      "   --- ------------------------------------ 10.2/115.3 kB ? eta -:--:--\n",
      "   ---------- ----------------------------- 30.7/115.3 kB 93.5 kB/s eta 0:00:01\n",
      "   -------------- ------------------------- 41.0/115.3 kB 93.7 kB/s eta 0:00:01\n",
      "   ------------------------------- ------- 92.2/115.3 kB 159.1 kB/s eta 0:00:01\n",
      "   -------------------------------------- 115.3/115.3 kB 168.0 kB/s eta 0:00:00\n",
      "Downloading fsspec-2023.10.0-py3-none-any.whl (166 kB)\n",
      "   ---------------------------------------- 0.0/166.4 kB ? eta -:--:--\n",
      "   --------- ----------------------------- 41.0/166.4 kB 217.9 kB/s eta 0:00:01\n",
      "   --------------------- ----------------- 92.2/166.4 kB 261.7 kB/s eta 0:00:01\n",
      "   ------------------------- ------------ 112.6/166.4 kB 211.6 kB/s eta 0:00:01\n",
      "   ---------------------------- --------- 122.9/166.4 kB 212.1 kB/s eta 0:00:01\n",
      "   -------------------------------- ----- 143.4/166.4 kB 224.1 kB/s eta 0:00:01\n",
      "   -------------------------------- ----- 143.4/166.4 kB 224.1 kB/s eta 0:00:01\n",
      "   ----------------------------------- -- 153.6/166.4 kB 213.3 kB/s eta 0:00:01\n",
      "   -------------------------------------- 166.4/166.4 kB 217.2 kB/s eta 0:00:00\n",
      "Downloading multiprocess-0.70.15-py311-none-any.whl (135 kB)\n",
      "   ---------------------------------------- 0.0/135.4 kB ? eta -:--:--\n",
      "   -------------------------- ------------ 92.2/135.4 kB 581.0 kB/s eta 0:00:01\n",
      "   -------------------------------------- 135.4/135.4 kB 347.6 kB/s eta 0:00:00\n",
      "Downloading pyarrow_hotfix-0.6-py3-none-any.whl (7.9 kB)\n",
      "Downloading xxhash-3.4.1-cp311-cp311-win_amd64.whl (29 kB)\n",
      "Installing collected packages: xxhash, pyarrow-hotfix, fsspec, dill, multiprocess, datasets\n",
      "  Attempting uninstall: fsspec\n",
      "    Found existing installation: fsspec 2023.12.2\n",
      "    Uninstalling fsspec-2023.12.2:\n",
      "      Successfully uninstalled fsspec-2023.12.2\n",
      "Successfully installed datasets-2.16.1 dill-0.3.7 fsspec-2023.10.0 multiprocess-0.70.15 pyarrow-hotfix-0.6 xxhash-3.4.1\n",
      "Requirement already satisfied: langchain in c:\\users\\varsha gupta\\appdata\\roaming\\python\\python311\\site-packages (0.0.284)\n",
      "Requirement already satisfied: PyYAML>=5.3 in c:\\users\\varsha gupta\\appdata\\roaming\\python\\python311\\site-packages (from langchain) (6.0)\n",
      "Requirement already satisfied: SQLAlchemy<3,>=1.4 in c:\\users\\varsha gupta\\appdata\\roaming\\python\\python311\\site-packages (from langchain) (1.4.46)\n",
      "Requirement already satisfied: aiohttp<4.0.0,>=3.8.3 in c:\\users\\varsha gupta\\appdata\\roaming\\python\\python311\\site-packages (from langchain) (3.8.4)\n",
      "Requirement already satisfied: dataclasses-json<0.6.0,>=0.5.7 in c:\\users\\varsha gupta\\appdata\\roaming\\python\\python311\\site-packages (from langchain) (0.5.14)\n",
      "Requirement already satisfied: langsmith<0.1.0,>=0.0.21 in c:\\users\\varsha gupta\\appdata\\roaming\\python\\python311\\site-packages (from langchain) (0.0.80)\n",
      "Requirement already satisfied: numexpr<3.0.0,>=2.8.4 in c:\\users\\varsha gupta\\appdata\\roaming\\python\\python311\\site-packages (from langchain) (2.8.8)\n",
      "Requirement already satisfied: numpy<2,>=1 in c:\\users\\varsha gupta\\appdata\\roaming\\python\\python311\\site-packages (from langchain) (1.24.3)\n",
      "Requirement already satisfied: pydantic<3,>=1 in c:\\users\\varsha gupta\\appdata\\roaming\\python\\python311\\site-packages (from langchain) (1.10.13)\n",
      "Requirement already satisfied: requests<3,>=2 in c:\\users\\varsha gupta\\appdata\\roaming\\python\\python311\\site-packages (from langchain) (2.31.0)\n",
      "Requirement already satisfied: tenacity<9.0.0,>=8.1.0 in c:\\users\\varsha gupta\\appdata\\roaming\\python\\python311\\site-packages (from langchain) (8.2.3)\n",
      "Requirement already satisfied: attrs>=17.3.0 in c:\\users\\varsha gupta\\appdata\\roaming\\python\\python311\\site-packages (from aiohttp<4.0.0,>=3.8.3->langchain) (22.2.0)\n",
      "Requirement already satisfied: charset-normalizer<4.0,>=2.0 in c:\\users\\varsha gupta\\appdata\\roaming\\python\\python311\\site-packages (from aiohttp<4.0.0,>=3.8.3->langchain) (3.3.2)\n",
      "Requirement already satisfied: multidict<7.0,>=4.5 in c:\\users\\varsha gupta\\appdata\\roaming\\python\\python311\\site-packages (from aiohttp<4.0.0,>=3.8.3->langchain) (6.0.4)\n",
      "Requirement already satisfied: async-timeout<5.0,>=4.0.0a3 in c:\\users\\varsha gupta\\appdata\\roaming\\python\\python311\\site-packages (from aiohttp<4.0.0,>=3.8.3->langchain) (4.0.2)\n",
      "Requirement already satisfied: yarl<2.0,>=1.0 in c:\\users\\varsha gupta\\appdata\\roaming\\python\\python311\\site-packages (from aiohttp<4.0.0,>=3.8.3->langchain) (1.8.2)\n",
      "Requirement already satisfied: frozenlist>=1.1.1 in c:\\users\\varsha gupta\\appdata\\roaming\\python\\python311\\site-packages (from aiohttp<4.0.0,>=3.8.3->langchain) (1.3.3)\n",
      "Requirement already satisfied: aiosignal>=1.1.2 in c:\\users\\varsha gupta\\appdata\\roaming\\python\\python311\\site-packages (from aiohttp<4.0.0,>=3.8.3->langchain) (1.3.1)\n",
      "Requirement already satisfied: marshmallow<4.0.0,>=3.18.0 in c:\\users\\varsha gupta\\appdata\\roaming\\python\\python311\\site-packages (from dataclasses-json<0.6.0,>=0.5.7->langchain) (3.19.0)\n",
      "Requirement already satisfied: typing-inspect<1,>=0.4.0 in c:\\users\\varsha gupta\\appdata\\roaming\\python\\python311\\site-packages (from dataclasses-json<0.6.0,>=0.5.7->langchain) (0.9.0)\n",
      "Requirement already satisfied: typing-extensions>=4.2.0 in c:\\users\\varsha gupta\\appdata\\roaming\\python\\python311\\site-packages (from pydantic<3,>=1->langchain) (4.9.0)\n",
      "Requirement already satisfied: idna<4,>=2.5 in c:\\users\\varsha gupta\\appdata\\roaming\\python\\python311\\site-packages (from requests<3,>=2->langchain) (3.6)\n",
      "Requirement already satisfied: urllib3<3,>=1.21.1 in c:\\users\\varsha gupta\\appdata\\roaming\\python\\python311\\site-packages (from requests<3,>=2->langchain) (2.1.0)\n",
      "Requirement already satisfied: certifi>=2017.4.17 in c:\\users\\varsha gupta\\appdata\\roaming\\python\\python311\\site-packages (from requests<3,>=2->langchain) (2023.11.17)\n",
      "Requirement already satisfied: greenlet!=0.4.17 in c:\\users\\varsha gupta\\appdata\\roaming\\python\\python311\\site-packages (from SQLAlchemy<3,>=1.4->langchain) (2.0.2)\n",
      "Requirement already satisfied: packaging>=17.0 in c:\\users\\varsha gupta\\appdata\\roaming\\python\\python311\\site-packages (from marshmallow<4.0.0,>=3.18.0->dataclasses-json<0.6.0,>=0.5.7->langchain) (23.2)\n",
      "Requirement already satisfied: mypy-extensions>=0.3.0 in c:\\users\\varsha gupta\\appdata\\roaming\\python\\python311\\site-packages (from typing-inspect<1,>=0.4.0->dataclasses-json<0.6.0,>=0.5.7->langchain) (1.0.0)\n",
      "Requirement already satisfied: openai in c:\\users\\varsha gupta\\appdata\\roaming\\python\\python311\\site-packages (0.28.0)\n",
      "Requirement already satisfied: requests>=2.20 in c:\\users\\varsha gupta\\appdata\\roaming\\python\\python311\\site-packages (from openai) (2.31.0)\n",
      "Requirement already satisfied: tqdm in c:\\users\\varsha gupta\\appdata\\roaming\\python\\python311\\site-packages (from openai) (4.65.0)\n",
      "Requirement already satisfied: aiohttp in c:\\users\\varsha gupta\\appdata\\roaming\\python\\python311\\site-packages (from openai) (3.8.4)\n",
      "Requirement already satisfied: charset-normalizer<4,>=2 in c:\\users\\varsha gupta\\appdata\\roaming\\python\\python311\\site-packages (from requests>=2.20->openai) (3.3.2)\n",
      "Requirement already satisfied: idna<4,>=2.5 in c:\\users\\varsha gupta\\appdata\\roaming\\python\\python311\\site-packages (from requests>=2.20->openai) (3.6)\n",
      "Requirement already satisfied: urllib3<3,>=1.21.1 in c:\\users\\varsha gupta\\appdata\\roaming\\python\\python311\\site-packages (from requests>=2.20->openai) (2.1.0)\n",
      "Requirement already satisfied: certifi>=2017.4.17 in c:\\users\\varsha gupta\\appdata\\roaming\\python\\python311\\site-packages (from requests>=2.20->openai) (2023.11.17)\n",
      "Requirement already satisfied: attrs>=17.3.0 in c:\\users\\varsha gupta\\appdata\\roaming\\python\\python311\\site-packages (from aiohttp->openai) (22.2.0)\n",
      "Requirement already satisfied: multidict<7.0,>=4.5 in c:\\users\\varsha gupta\\appdata\\roaming\\python\\python311\\site-packages (from aiohttp->openai) (6.0.4)\n",
      "Requirement already satisfied: async-timeout<5.0,>=4.0.0a3 in c:\\users\\varsha gupta\\appdata\\roaming\\python\\python311\\site-packages (from aiohttp->openai) (4.0.2)\n",
      "Requirement already satisfied: yarl<2.0,>=1.0 in c:\\users\\varsha gupta\\appdata\\roaming\\python\\python311\\site-packages (from aiohttp->openai) (1.8.2)\n",
      "Requirement already satisfied: frozenlist>=1.1.1 in c:\\users\\varsha gupta\\appdata\\roaming\\python\\python311\\site-packages (from aiohttp->openai) (1.3.3)\n",
      "Requirement already satisfied: aiosignal>=1.1.2 in c:\\users\\varsha gupta\\appdata\\roaming\\python\\python311\\site-packages (from aiohttp->openai) (1.3.1)\n",
      "Requirement already satisfied: colorama in c:\\users\\varsha gupta\\appdata\\roaming\\python\\python311\\site-packages (from tqdm->openai) (0.4.6)\n",
      "Requirement already satisfied: tiktoken in c:\\users\\varsha gupta\\appdata\\roaming\\python\\python311\\site-packages (0.4.0)\n",
      "Requirement already satisfied: regex>=2022.1.18 in c:\\users\\varsha gupta\\appdata\\roaming\\python\\python311\\site-packages (from tiktoken) (2022.10.31)\n",
      "Requirement already satisfied: requests>=2.26.0 in c:\\users\\varsha gupta\\appdata\\roaming\\python\\python311\\site-packages (from tiktoken) (2.31.0)\n",
      "Requirement already satisfied: charset-normalizer<4,>=2 in c:\\users\\varsha gupta\\appdata\\roaming\\python\\python311\\site-packages (from requests>=2.26.0->tiktoken) (3.3.2)\n",
      "Requirement already satisfied: idna<4,>=2.5 in c:\\users\\varsha gupta\\appdata\\roaming\\python\\python311\\site-packages (from requests>=2.26.0->tiktoken) (3.6)\n",
      "Requirement already satisfied: urllib3<3,>=1.21.1 in c:\\users\\varsha gupta\\appdata\\roaming\\python\\python311\\site-packages (from requests>=2.26.0->tiktoken) (2.1.0)\n",
      "Requirement already satisfied: certifi>=2017.4.17 in c:\\users\\varsha gupta\\appdata\\roaming\\python\\python311\\site-packages (from requests>=2.26.0->tiktoken) (2023.11.17)\n"
     ]
    }
   ],
   "source": [
    "# Install the dependencies\n",
    "!pip install -q cassio\n",
    "!pip install datasets \n",
    "!pip install langchain \n",
    "!pip install openai \n",
    "!pip install tiktoken"
   ]
  },
  {
   "cell_type": "code",
   "execution_count": 49,
   "metadata": {},
   "outputs": [
    {
     "name": "stdout",
     "output_type": "stream",
     "text": [
      "Requirement already satisfied: sqlalchemy==2.0.25 in /home/ubuntu/anaconda3/lib/python3.8/site-packages (2.0.25)\n",
      "Requirement already satisfied: typing-extensions>=4.6.0 in /home/ubuntu/anaconda3/lib/python3.8/site-packages (from sqlalchemy==2.0.25) (4.9.0)\n",
      "Requirement already satisfied: greenlet!=0.4.17 in /home/ubuntu/anaconda3/lib/python3.8/site-packages (from sqlalchemy==2.0.25) (1.0.0)\n"
     ]
    }
   ],
   "source": [
    "!pip install sqlalchemy==2.0.25"
   ]
  },
  {
   "cell_type": "code",
   "execution_count": null,
   "metadata": {},
   "outputs": [],
   "source": [
    "from langchain.vectorstores.cassandra import Cassandra \n",
    "from langchain.indexes.vectorstore import VectorStoreIndexWrapper\n",
    "from langchain.llms import OpenAI\n",
    "from langchain.embeddings import OpenAIEmbeddings\n",
    "\n",
    "# Support for dataset retrieval with Hugging Face\n",
    "from datasets import load_dataset\n",
    "\n",
    "# With Cassio, the engine powering the Astra DB integration in LangChain,\n",
    "# you will also initialize the DB connection:\n",
    "\n",
    "import cassio"
   ]
  },
  {
   "cell_type": "code",
   "execution_count": 19,
   "metadata": {},
   "outputs": [
    {
     "name": "stdout",
     "output_type": "stream",
     "text": [
      "Requirement already satisfied: PyPDF2 in /home/ubuntu/anaconda3/lib/python3.8/site-packages (3.0.1)\n",
      "Requirement already satisfied: typing_extensions>=3.10.0.0 in /home/ubuntu/anaconda3/lib/python3.8/site-packages (from PyPDF2) (4.9.0)\n"
     ]
    }
   ],
   "source": [
    "!pip install PyPDF2"
   ]
  },
  {
   "cell_type": "code",
   "execution_count": 32,
   "metadata": {},
   "outputs": [],
   "source": [
    "from PyPDF2 import PdfReader"
   ]
  },
  {
   "cell_type": "markdown",
   "metadata": {},
   "source": [
    "### Setup"
   ]
  },
  {
   "cell_type": "markdown",
   "metadata": {},
   "source": [
    "Provide your secrets:\n",
    "\n",
    "Replace the following with your ASTRA DB connection details and your OpenAI API key:"
   ]
  },
  {
   "cell_type": "code",
   "execution_count": 1,
   "metadata": {},
   "outputs": [],
   "source": [
    "ASTRA_DB_APPLICATION_TOKEN =\"YOUR_ASTRA_DB_APPLICATION_TOKEN_HERE\"\n",
    "ASTRA_DB_ID=\"YOUR_ASTRA_DB_ID_HERE\"\n",
    "\n",
    "OPENAI_API_KEY=\"YOUR_OPENAI_API_KEY_HERE\" "
   ]
  },
  {
   "cell_type": "code",
   "execution_count": 34,
   "metadata": {},
   "outputs": [],
   "source": [
    "# provide the path of pdf file/files.\n",
    "pdfreader= PdfReader('budget_speech.pdf')"
   ]
  },
  {
   "cell_type": "code",
   "execution_count": 35,
   "metadata": {},
   "outputs": [],
   "source": [
    "from typing_extensions import Concatenate\n",
    "# read text from pdf\n",
    "raw_text = ''\n",
    "for i, page in enumerate(pdfreader.pages):\n",
    "    content= page.extract_text()\n",
    "    if content:\n",
    "        raw_text += content  "
   ]
  },
  {
   "cell_type": "markdown",
   "metadata": {},
   "source": [
    "#### Initialize the connection  to your database:\n",
    "#### (do not worry if you see a few warnings, it's just that the drivers are chatty about negotiating protocol versions with the DB.)"
   ]
  },
  {
   "cell_type": "code",
   "execution_count": 36,
   "metadata": {},
   "outputs": [],
   "source": [
    "cassio.init(token=ASTRA_DB_APPLICATION_TOKEN, database_id=ASTRA_DB_ID)"
   ]
  },
  {
   "cell_type": "markdown",
   "metadata": {},
   "source": [
    "#### Create the LangChain embedding and LLM objects for later usage:"
   ]
  },
  {
   "cell_type": "code",
   "execution_count": 37,
   "metadata": {},
   "outputs": [],
   "source": [
    "llm = OpenAI(openai_api_key=OPENAI_API_KEY)\n",
    "embedding= OpenAIEmbeddings(openai_api_key=OPENAI_API_KEY)"
   ]
  },
  {
   "cell_type": "markdown",
   "metadata": {},
   "source": [
    "#### Create your LandChain vector store.....backend by Astra DB "
   ]
  },
  {
   "cell_type": "code",
   "execution_count": 38,
   "metadata": {},
   "outputs": [],
   "source": [
    "astra_vector_store = Cassandra(\n",
    "    embedding=embedding,\n",
    "    table_name=\"qa_mini_demo\",\n",
    "    session= None,\n",
    "    keyspace=None,\n",
    ")"
   ]
  },
  {
   "cell_type": "code",
   "execution_count": 39,
   "metadata": {},
   "outputs": [],
   "source": [
    "from langchain.text_splitter import CharacterTextSplitter\n",
    "# We need to split the text using Character Text Split such that it should not increase token size \n",
    "text_splitter = CharacterTextSplitter(\n",
    "    separator=\"\\n\",\n",
    "    chunk_size = 800,\n",
    "    chunk_overlap = 200,\n",
    "    length_function = len,\n",
    ")\n",
    "texts =  text_splitter.split_text(raw_text)"
   ]
  },
  {
   "cell_type": "code",
   "execution_count": 40,
   "metadata": {},
   "outputs": [
    {
     "data": {
      "text/plain": [
       "['GOVERNMENT OF INDIA\\nBUDGET 2023-2024\\nSPEECH\\nOF\\nNIRMALA SITHARAMAN\\nMINISTER OF FINANCE\\nFebruary 1,  2023CONTENTS \\nPART-A \\n Page No.  \\n\\uf0b7 Introduction 1 \\n\\uf0b7 Achievements since 2014: Leaving no one behind 2 \\n\\uf0b7 Vision for Amrit Kaal  – an empowered and inclusive economy 3 \\n\\uf0b7 Priorities of this Budget 5 \\ni. Inclusive Development  \\nii. Reaching the Last Mile \\niii. Infrastructure and Investment \\niv. Unleashing the Potential \\nv. Green Growth \\nvi. Youth Power  \\nvii. Financial Sector  \\n \\n \\n \\n \\n \\n \\n \\n \\n\\uf0b7 Fiscal Management 24 \\nPART B  \\n  \\nIndirect Taxes  27 \\n\\uf0b7 Green Mobility  \\n\\uf0b7 Electronics   \\n\\uf0b7 Electrical   \\n\\uf0b7 Chemicals and Petrochemicals   \\n\\uf0b7 Marine products  \\n\\uf0b7 Lab Grown Diamonds  \\n\\uf0b7 Precious Metals  \\n\\uf0b7 Metals  \\n\\uf0b7 Compounded Rubber  \\n\\uf0b7 Cigarettes  \\n  \\nDirect Taxes  30 \\n\\uf0b7 MSMEs and Professionals',\n",
       " '\\uf0b7 Chemicals and Petrochemicals   \\n\\uf0b7 Marine products  \\n\\uf0b7 Lab Grown Diamonds  \\n\\uf0b7 Precious Metals  \\n\\uf0b7 Metals  \\n\\uf0b7 Compounded Rubber  \\n\\uf0b7 Cigarettes  \\n  \\nDirect Taxes  30 \\n\\uf0b7 MSMEs and Professionals   \\n\\uf0b7 Cooperation  \\n\\uf0b7 Start-Ups  \\n\\uf0b7 Appeals  \\n\\uf0b7 Better targeting of tax concessions  \\n\\uf0b7 Rationalisation  \\n\\uf0b7 Others  \\n\\uf0b7 Personal Income Tax  \\n  \\nAnnexures  35 \\n\\uf0b7 Annexure to Part B of the Budget Speech 2023-24 \\ni. Amendments relating to Direct Taxes \\nii. Amendments relating to Indirect Taxes  \\n Budget 2023-2024 \\n \\nSpeech of  \\nNirmala Sitharaman \\nMinister of Finance \\nFebruary 1, 2023 \\nHon’ble Speaker,  \\n I present the Budget for 2023-24. This is the first Budget in Amrit \\nKaal . \\nIntroduction \\n1. This Budget hopes to build on the foundation laid in the previous',\n",
       " 'February 1, 2023 \\nHon’ble Speaker,  \\n I present the Budget for 2023-24. This is the first Budget in Amrit \\nKaal . \\nIntroduction \\n1. This Budget hopes to build on the foundation laid in the previous \\nBudget, and the blueprint drawn for India@100. We envision a prosperous \\nand inclusive India, in which the fruits of development reach all regions and \\ncitizens, especially our youth, women, farmers, OBCs, Scheduled Castes and \\nScheduled Tribes.  \\n2. In the 75th year of our Independence, the world has recognised the \\nIndian economy as a ‘bright star’. Our current year’s economic growth is \\nestimated to be at 7 per cent. It is notable that this is the highest among all \\nthe major economies. This is in spite of the massive slowdown globally',\n",
       " 'estimated to be at 7 per cent. It is notable that this is the highest among all \\nthe major economies. This is in spite of the massive slowdown globally \\ncaused by Covid-19 and a war. The Indian economy is therefore on the right \\ntrack, and despite a time of challenges, heading towards a bright future.  \\n3. Today as Indians stands with their head held high, and the world \\nappreciates India’s achievements and successes, we are sure that elders \\nwho had fought for India’s independence, will with joy, bless us our \\nendeavors going forward. \\nResilience amidst multiple crises \\n4. Our focus on wide-ranging reforms and sound policies, implemented \\nthrough Sabka Prayas  resulting in Jan Bhagidari  and targeted support to',\n",
       " 'Resilience amidst multiple crises \\n4. Our focus on wide-ranging reforms and sound policies, implemented \\nthrough Sabka Prayas  resulting in Jan Bhagidari  and targeted support to \\nthose in need, helped us perform well in trying times. India’s rising global 2 \\n \\n \\n profile is because of several accomplishments: unique world class digital \\npublic infrastructure, e.g., Aadhaar, Co-Win and UPI; Covid vaccination drive \\nin unparalleled scale and speed; proactive role in frontier areas such as \\nachieving the climate related goals, mission LiFE, and National Hydrogen \\nMission.  \\n5. During the Covid-19 pandemic, we ensured that no one goes to bed \\nhungry, with a scheme to supply free food grains to over 80 crore persons \\nfor 28 months. Continuing our commitment to ensure food and nutritional',\n",
       " 'hungry, with a scheme to supply free food grains to over 80 crore persons \\nfor 28 months. Continuing our commitment to ensure food and nutritional \\nsecurity, we are implementing, from 1st January 2023, a scheme to supply \\nfree food grain to all Antyodaya and priority households for the next one \\nyear, under PM Garib Kalyan Anna Yojana (PMGKAY). The entire \\nexpenditure of about ` 2 lakh crore will be borne by the Central \\nGovernment. \\nG20 Presidency: Steering the global agenda through challenges \\n6. In these times of global challenges, the G20 Presidency gives us a \\nunique opportunity to strengthen India’s role in the world economic order. \\nWith the theme of ‘ Vasudhaiva Kutumbakam’ , we are steering an \\nambitious, people-centric agenda to address global challenges, and to',\n",
       " 'With the theme of ‘ Vasudhaiva Kutumbakam’ , we are steering an \\nambitious, people-centric agenda to address global challenges, and to \\nfacilitate sustainable economic development.  \\nAchievements since 2014: Leaving no one behind \\n7. The government’s efforts since 2014 have ensured for all citizens a \\nbetter quality of living and a life of dignity. The per capita income has more \\nthan doubled to ` 1.97 lakh.   \\n8. In these nine years, the Indian economy has increased in size from \\nbeing 10th to 5th largest in the world. We have significantly improved our \\nposition as a well-governed and innovative country with a conducive \\nenvironment for business as reflected in several global indices. We have \\nmade significant progress in many Sustainable Development Goals.  3',\n",
       " 'environment for business as reflected in several global indices. We have \\nmade significant progress in many Sustainable Development Goals.  3 \\n \\n \\n 9. The economy has become a lot more formalised as reflected in the \\nEPFO membership more than doubling to 27 crore, and 7,400 crore digital \\npayments of ` 126 lakh crore through UPI in 2022.    \\n10. The efficient implementation of many schemes, with \\nuniversalisation of targeted benefits, has resulted in inclusive development. \\nSome of the schemes are: \\ni. 11.7 crore household toilets under Swachh Bharat Mission,  \\nii. 9.6 crore LPG connections under Ujjawala,  \\niii. 220 crore Covid vaccination of 102 crore persons,    \\niv. 47.8 crore PM Jan Dhan bank accounts, \\nv. Insurance cover for 44.6 crore persons under PM Suraksha',\n",
       " 'iii. 220 crore Covid vaccination of 102 crore persons,    \\niv. 47.8 crore PM Jan Dhan bank accounts, \\nv. Insurance cover for 44.6 crore persons under PM Suraksha \\nBima and PM Jeevan Jyoti Yojana, and \\nvi. Cash transfer of ` 2.2 lakh crore to over 11.4 crore farmers \\nunder PM Kisan Samman Nidhi. \\nVision for Amrit Kaal  – an empowered and inclusive economy \\n11. Our vision for the Amrit Kaal  includes technology-driven and \\nknowledge-based economy with strong public finances, and a robust \\nfinancial sector. To achieve this, Jan Bhagidari through Sabka Saath Sabka \\nPrayas  is essential.   \\n12. The economic agenda for achieving this vision focuses on three \\nthings: first, facilitating ample opportunities for citizens, especially the',\n",
       " 'Prayas  is essential.   \\n12. The economic agenda for achieving this vision focuses on three \\nthings: first, facilitating ample opportunities for citizens, especially the \\nyouth, to fulfil their aspirations; second, providing strong impetus to growth \\nand job creation; and third, strengthening macro-economic stability.    \\n13. To service these focus areas in our journey to India@100, we believe \\nthat the following four opportunities can be transformative during Amrit \\nKaal.  4 \\n \\n \\n 1) Economic Empowerment of Women : Deendayal Antyodaya Yojana \\nNational Rural Livelihood Mission has achieved remarkable success \\nby mobilizing rural women into 81 lakh Self Help Groups. We will \\nenable these groups to reach the next stage of economic',\n",
       " 'National Rural Livelihood Mission has achieved remarkable success \\nby mobilizing rural women into 81 lakh Self Help Groups. We will \\nenable these groups to reach the next stage of economic \\nempowerment through formation of large producer enterprises or \\ncollectives with each having several thousand members and \\nmanaged professionally. They will be helped with supply of raw \\nmaterials and for better design, quality, branding and marketing of \\ntheir products. Through supporting policies, they will be enabled to \\nscale up their operations to serve the large consumer markets, as \\nhas been the case with several start-ups growing into ‘Unicorns’. \\n2) PM VIshwakarma KAushal Samman (PM VIKAS) : For centuries, \\ntraditional artisans and craftspeople, who work with their hands',\n",
       " 'has been the case with several start-ups growing into ‘Unicorns’. \\n2) PM VIshwakarma KAushal Samman (PM VIKAS) : For centuries, \\ntraditional artisans and craftspeople, who work with their hands \\nusing tools, have brought renown for India. They are generally \\nreferred to as Vishwakarma. The art and handicraft created by them \\nrepresents the true spirit of Atmanirbhar Bharat. For the first time, a \\npackage of assistance for them has been conceptualized. The new \\nscheme will enable them to improve the quality, scale and reach of \\ntheir products, integrating them with the MSME value chain. The \\ncomponents of the scheme will include not only financial support \\nbut also access to advanced skill training, knowledge of modern \\ndigital techniques and efficient green technologies, brand',\n",
       " 'components of the scheme will include not only financial support \\nbut also access to advanced skill training, knowledge of modern \\ndigital techniques and efficient green technologies, brand \\npromotion, linkage with local and global markets, digital payments, \\nand social security. This will greatly benefit the Scheduled Castes, \\nScheduled Tribes, OBCs, women and people belonging to the weaker \\nsections.  \\n3) Tourism : The country offers immense attraction for domestic as well \\nas foreign tourists. There is a large potential to be tapped in tourism. \\nThe sector holds huge opportunities for jobs and entrepreneurship \\nfor youth in particular.  Promotion of tourism will be taken up on \\nmission mode, with active participation of states, convergence of',\n",
       " 'for youth in particular.  Promotion of tourism will be taken up on \\nmission mode, with active participation of states, convergence of \\ngovernment programmes and public-private partnerships. 5 \\n \\n \\n 4) Green Growth: We are implementing many programmes for green \\nfuel, green energy, green farming, green mobility, green buildings, \\nand green equipment, and policies for efficient use of energy across \\nvarious economic sectors. These green growth efforts help in \\nreducing carbon intensity of the economy and provides for large-\\nscale green job opportunities.  \\nPriorities of this Budget  \\n14. The Budget adopts the following seven priorities. They complement \\neach other and act as the ‘Saptarishi’  guiding us through the Amrit Kaal.  \\n1) Inclusive Development  \\n2) Reaching the Last Mile',\n",
       " 'each other and act as the ‘Saptarishi’  guiding us through the Amrit Kaal.  \\n1) Inclusive Development  \\n2) Reaching the Last Mile \\n3) Infrastructure and Investment \\n4) Unleashing the Potential \\n5) Green Growth \\n6) Youth Power  \\n7) Financial Sector \\nPriority 1: Inclusive Development  \\n15. The Government’s philosophy of Sabka Saath Sabka Vikas  has \\nfacilitated inclusive development covering in specific, farmers, women, \\nyouth, OBCs, Scheduled Castes, Scheduled Tribes, divyangjan and \\neconomically weaker sections, and overall priority for the underprivileged \\n(vanchiton ko variyata ). There has also been a sustained focus on Jammu & \\nKashmir, Ladakh and the North-East. This Budget builds on those efforts.  \\nAgriculture and Cooperation   \\nDigital Public Infrastructure for Agriculture',\n",
       " 'Kashmir, Ladakh and the North-East. This Budget builds on those efforts.  \\nAgriculture and Cooperation   \\nDigital Public Infrastructure for Agriculture \\n16. Digital public infrastructure for agriculture will be built as an open \\nsource, open standard and inter operable public good. This will enable 6 \\n \\n \\n inclusive, farmer-centric solutions through relevant information services for \\ncrop planning and health, improved access to farm inputs, credit, and \\ninsurance, help for crop estimation, market intelligence, and support for \\ngrowth of agri-tech industry and start-ups.  \\nAgriculture Accelerator Fund  \\n17. An Agriculture Accelerator Fund will be set-up to encourage agri-\\nstartups by young entrepreneurs in rural areas. The Fund will aim at',\n",
       " 'Agriculture Accelerator Fund  \\n17. An Agriculture Accelerator Fund will be set-up to encourage agri-\\nstartups by young entrepreneurs in rural areas. The Fund will aim at \\nbringing innovative and affordable solutions for challenges faced by \\nfarmers. It will also bring in modern technologies to transform agricultural \\npractices, increase productivity and profitability. \\nEnhancing productivity of cotton crop  \\n18. To enhance the productivity of extra-long staple cotton, we will \\nadopt a cluster-based and value chain approach through Public Private \\nPartnerships (PPP). This will mean collaboration between farmers, state and \\nindustry for input supplies, extension services, and market linkages. \\nAtmanirbhar Horticulture Clean Plant Program',\n",
       " \"Partnerships (PPP). This will mean collaboration between farmers, state and \\nindustry for input supplies, extension services, and market linkages. \\nAtmanirbhar Horticulture Clean Plant Program  \\n19. We will launch an Atmanirbhar Clean Plant Program to boost \\navailability of disease-free, quality planting material for high value \\nhorticultural crops at an outlay of ` 2,200 crore. \\nGlobal Hub for Millets: ‘Shree Anna’  \\n20. “India is at the forefront of popularizing Millets, whose consumption \\nfurthers nutrition, food security and welfare of farmers,” said Hon’ble Prime \\nMinister. \\n21.  We are the largest producer and second largest exporter of ‘Shree \\nAnna’  in the world. We grow several types of ' Shree Anna'  such as  jowar,\",\n",
       " \"Minister. \\n21.  We are the largest producer and second largest exporter of ‘Shree \\nAnna’  in the world. We grow several types of ' Shree Anna'  such as  jowar, \\nragi, bajra, kuttu, ramdana, kangni, kutki, kodo, cheena, and sama. These \\nhave a number of health benefits, and have been an integral part of our \\nfood for centuries. I acknowledge with pride the huge service done by small 7 \\n \\n \\n farmers in contributing to the health of fellow citizens by growing these \\n‘Shree Anna’.   \\n22. Now to make India a global hub for ' Shree Anna' , the Indian Institute \\nof Millet Research, Hyderabad  will be supported as the Centre of Excellence \\nfor sharing best practices, research and technologies at the international \\nlevel.    \\nAgriculture Credit\",\n",
       " 'of Millet Research, Hyderabad  will be supported as the Centre of Excellence \\nfor sharing best practices, research and technologies at the international \\nlevel.    \\nAgriculture Credit  \\n23. The agriculture credit target will be increased  \\nto ` 20 lakh crore with focus on animal husbandry, dairy and fisheries.  \\nFisheries \\n24. We will launch a new sub-scheme of PM Matsya Sampada Yojana \\nwith targeted investment of ` 6,000 crore to further enable activities of \\nfishermen, fish vendors, and micro & small enterprises, improve value chain \\nefficiencies, and expand the market. \\nCooperation \\n25. For farmers, especially small and marginal farmers, and other \\nmarginalised sections, the government is promoting cooperative-based \\neconomic development model. A new Ministry of Cooperation was formed',\n",
       " 'marginalised sections, the government is promoting cooperative-based \\neconomic development model. A new Ministry of Cooperation was formed \\nwith a mandate to realise the vision of ‘Sahakar Se Samriddhi’ . To realise \\nthis vision, the government has already initiated computerisation of 63,000 \\nPrimary Agricultural Credit Societies (PACS) with an investment of ` 2,516 \\ncrore. In consultation with all stakeholders and states, model bye-laws for \\nPACS were formulated enabling them to become multipurpose PACS. A \\nnational cooperative database is being prepared for country-wide mapping \\nof cooperative societies.  \\n26. With this backdrop, we will implement a plan to set up massive \\ndecentralised storage capacity. This will help farmers store their produce',\n",
       " 'of cooperative societies.  \\n26. With this backdrop, we will implement a plan to set up massive \\ndecentralised storage capacity. This will help farmers store their produce \\nand realize remunerative prices through sale at appropriate times. The \\ngovernment will also facilitate setting up of a large number of multipurpose 8 \\n \\n \\n cooperative societies, primary fishery societies and dairy cooperative \\nsocieties in uncovered panchayats and villages in the next 5 years.  \\nHealth, Education and Skilling \\nNursing Colleges    \\n27\\n. One hundred and fifty-seven new nursing colleges will be \\nestablished in co-location with the existing 157 medical colleges established \\nsince 2014. \\nSickle Cell Anaemia Elimination Mission  \\n28. A Mission to eliminate Sickle Cell Anaemia by 2047 will be launched.',\n",
       " 'since 2014. \\nSickle Cell Anaemia Elimination Mission  \\n28. A Mission to eliminate Sickle Cell Anaemia by 2047 will be launched. \\nIt will entail awareness creation, universal screening of 7 crore people in the \\nage group of 0-40 years in affected tribal areas, and counselling through \\ncollaborative efforts of central ministries and state governments.  \\nMedical Research  \\n29. Facilities in select ICMR Labs will be made available for research by \\npublic and private medical college faculty and private sector R&D teams for \\nencouraging collaborative research and innovation. \\nPharma Innovation  \\n30. A new programme to promote research and innovation in \\npharmaceuticals will be taken up through centers of excellence. We shall',\n",
       " 'Pharma Innovation  \\n30. A new programme to promote research and innovation in \\npharmaceuticals will be taken up through centers of excellence. We shall \\nalso encourage industry to invest in research and development in specific \\npriority areas.  \\nMultidisciplinary courses for medical devices \\n31. Dedicated multidisciplinary courses for medical devices will be \\nsupported in existing institutions to ensure availability of skilled manpower \\nfor futuristic medical technologies, high-end manufacturing and research.   \\n 9 \\n \\n \\n Teachers’ Training \\n32. Teachers’ training will be re-envisioned through innovative \\npedagogy, curriculum transaction, continuous professional development, \\ndipstick surveys, and ICT implementation. The District Institutes of',\n",
       " 'pedagogy, curriculum transaction, continuous professional development, \\ndipstick surveys, and ICT implementation. The District Institutes of \\nEducation and Training will be developed as vibrant institutes of excellence \\nfor this purpose.   \\nNational Digital Library for Children and Adolescents  \\n33. A National Digital Library for children and adolescents  will be set-up \\nfor facilitating availability of quality books across geographies, languages, \\ngenres and levels, and device agnostic accessibility. States will be \\nencouraged to set up physical libraries for them at panchayat and ward \\nlevels and provide infrastructure for accessing the National Digital Library \\nresources. \\n34. Additionally, to build a culture of reading, and to make up for',\n",
       " 'levels and provide infrastructure for accessing the National Digital Library \\nresources. \\n34. Additionally, to build a culture of reading, and to make up for \\npandemic-time learning loss, the National Book Trust, Children’s Book Trust \\nand other sources will be encouraged to provide and replenish non-\\ncurricular titles in regional languages and English to these physical libraries. \\nCollaboration with NGOs that work in literacy will also be a part of this \\ninitiative. To inculcate financial literacy, financial sector regulators and \\norganizations will be encouraged to provide age-appropriate reading \\nmaterial to these libraries.  \\nPriority 2: Reaching the Last Mile \\n35. Prime Minister Vajpayee’s government had formed the Ministry of',\n",
       " 'material to these libraries.  \\nPriority 2: Reaching the Last Mile \\n35. Prime Minister Vajpayee’s government had formed the Ministry of \\nTribal Affairs and the Department of Development of North-Eastern Region. \\nTo provide a sharper focus to the objective of ‘reaching the last mile’, our \\ngovernment has formed the ministries of AYUSH, Fisheries, Animal \\nHusbandry and Dairying, Skill Development, Jal Shakti and Cooperation.  \\n \\n 10 \\n \\n \\n Aspirational Districts and Blocks Programme \\n36. Building on the success of the Aspirational Districts Programme, the \\nGovernment has recently launched the Aspirational Blocks Programme \\ncovering 500 blocks for saturation of essential government services across \\nmultiple domains such as health, nutrition, education, agriculture, water',\n",
       " 'covering 500 blocks for saturation of essential government services across \\nmultiple domains such as health, nutrition, education, agriculture, water \\nresources, financial inclusion, skill development, and basic infrastructure. \\nPradhan Mantri PVTG Development Mission \\n37. To improve socio-economic conditions of the particularly vulnerable \\ntribal groups (PVTGs), Pradhan Mantri PVTG Development Mission will be \\nlaunched. This will saturate PVTG families and habitations with basic \\nfacilities such as safe housing, clean drinking water and sanitation, \\nimproved access to education, health and nutrition, road and telecom \\nconnectivity, and sustainable livelihood opportunities. An amount  \\nof ` 15,000 crore will be made available to implement the Mission in the',\n",
       " 'connectivity, and sustainable livelihood opportunities. An amount  \\nof ` 15,000 crore will be made available to implement the Mission in the \\nnext three years under the Development Action Plan for the Scheduled \\nTribes.  \\nEklavya Model Residential Schools \\n38. In the next three years, centre will recruit 38,800 teachers and \\nsupport staff for the 740 Eklavya Model Residential Schools, serving 3.5 lakh \\ntribal students. \\nWater for Drought Prone Region \\n39. In the drought prone central region of Karnataka, central assistance \\nof ` 5,300 crore will be given to Upper Bhadra Project to provide \\nsustainable micro irrigation and filling up of surface tanks for drinking \\nwater.  \\nPM Awas Yojana \\n40. The outlay for PM Awas Yojana is being enhanced \\n by 66 per cent to over ` 79,000 crore.  11',\n",
       " 'water.  \\nPM Awas Yojana \\n40. The outlay for PM Awas Yojana is being enhanced \\n by 66 per cent to over ` 79,000 crore.  11 \\n \\n \\n Bharat Shared Repository of Inscriptions (Bharat  SHRI) \\n41. ‘Bharat Shared Repository of Inscriptions’ will be set up in a digital \\nepigraphy museum, with digitization of one lakh ancient inscriptions in the \\nfirst stage.   \\nSupport for poor prisoners \\n42. For poor persons who are in prisons and unable to afford the \\npenalty or the bail amount, required financial support will be provided.   \\n \\nPriority 3: Infrastructure & Investment \\n43. Investments in Infrastructure and productive capacity have a large \\nmultiplier impact on growth and employment. After the subdued period of \\nthe pandemic, private investments are growing again. The Budget takes the',\n",
       " 'multiplier impact on growth and employment. After the subdued period of \\nthe pandemic, private investments are growing again. The Budget takes the \\nlead once again to ramp up the virtuous cycle of investment and job \\ncreation.    \\n \\nCapital Investment as driver of growth and jobs \\n44. Capital investment outlay is being increased steeply for the third \\nyear in a row by 33 per cent to ` 10 lakh crore, which would be 3.3 per cent \\nof GDP. This will be almost three times the outlay in 2019-20.   \\n45. This substantial increase in recent years is central to the \\ngovernment’s efforts to enhance growth potential and job creation, crowd-\\nin private investments, and provide a cushion against global headwinds. \\nEffective Capital Expenditure',\n",
       " 'government’s efforts to enhance growth potential and job creation, crowd-\\nin private investments, and provide a cushion against global headwinds. \\nEffective Capital Expenditure  \\n46. The direct capital investment by the Centre is complemented by the \\nprovision made for creation of capital assets through Grants-in-Aid to \\nStates. The ‘Effective Capital Expenditure’ of the Centre is budgeted at  \\n` 13.7 lakh crore, which will be 4.5 per cent of GDP.    12 \\n \\n \\n Support to State Governments for Capital Investment \\n47. I have decided to continue the 50-year interest free loan to state \\ngovernments for one more year to spur investment in infrastructure and to \\nincentivize them for complementary policy actions, with a significantly \\nenhanced outlay of ` 1.3 lakh crore.',\n",
       " 'governments for one more year to spur investment in infrastructure and to \\nincentivize them for complementary policy actions, with a significantly \\nenhanced outlay of ` 1.3 lakh crore.   \\nEnhancing opportunities for private investment in Infrastructure \\n48. The newly established Infrastructure Finance Secretariat will assist \\nall stakeholders for more private investment in infrastructure, including \\nrailways, roads, urban infrastructure and power, which are predominantly \\ndependent on public resources.  \\nHarmonized Master List of Infrastructure \\n49. The Harmonized Master List of Infrastructure will be reviewed by an \\nexpert committee for recommending the classification and financing \\nframework suitable for Amrit Kaal . \\nRailways',\n",
       " '49. The Harmonized Master List of Infrastructure will be reviewed by an \\nexpert committee for recommending the classification and financing \\nframework suitable for Amrit Kaal . \\nRailways \\n50. A capital outlay of ` 2.40 lakh crore has been provided for the \\nRailways. This highest ever outlay is about 9 times the outlay made in 2013-\\n14.  \\nLogistics \\n51. One hundred critical transport infrastructure projects, for last and \\nfirst mile connectivity for ports, coal, steel, fertilizer, and food grains sectors \\nhave been identified. They will be taken up on priority with investment of \\n` 75,000 crore, including ` 15,000 crore from private sources. \\nRegional Connectivity \\n52. Fifty additional airports, heliports, water aerodromes and advance',\n",
       " '` 75,000 crore, including ` 15,000 crore from private sources. \\nRegional Connectivity \\n52. Fifty additional airports, heliports, water aerodromes and advance \\nlanding grounds will be revived for improving regional air connectivity.  \\n 13 \\n \\n \\n Sustainable Cities of Tomorrow \\n53. States and cities will be encouraged to undertake urban planning \\nreforms and actions to transform our cities into ‘sustainable cities of \\ntomorrow’. This means efficient use of land resources, adequate resources \\nfor urban infrastructure, transit-oriented development, enhanced \\navailability and affordability of urban land, and opportunities for all.  \\nMaking Cities ready for Municipal Bonds \\n54. Through property tax governance reforms and ring-fencing user',\n",
       " 'availability and affordability of urban land, and opportunities for all.  \\nMaking Cities ready for Municipal Bonds \\n54. Through property tax governance reforms and ring-fencing user \\ncharges on urban infrastructure, cities will be incentivized to improve their \\ncredit worthiness for municipal bonds.   \\nUrban Infrastructure Development Fund  \\n55. Like the RIDF, an Urban Infrastructure Development Fund (UIDF) will \\nbe established through use of priority sector lending shortfall. This will be \\nmanaged by the National Housing Bank, and will be used by public agencies \\nto create urban infrastructure in Tier 2 and Tier 3 cities. States will be \\nencouraged to leverage resources from the grants of the 15th Finance \\nCommission, as well as existing schemes, to adopt appropriate user charges',\n",
       " 'encouraged to leverage resources from the grants of the 15th Finance \\nCommission, as well as existing schemes, to adopt appropriate user charges \\nwhile accessing the UIDF. We expect to make  \\navailable ` 10,000 crore per annum for this purpose. \\nUrban Sanitation \\n56. All cities and towns will be enabled for 100 per cent mechanical \\ndesludging of septic tanks and sewers to transition from manhole to \\nmachine-hole mode. Enhanced focus will be provided for scientific \\nmanagement of dry and wet waste. \\nPriority 4: Unleashing the Potential \\n57. “Good Governance is the key to a nation’s progress. Our government \\nis committed to providing a transparent and accountable administration \\nwhich works for the betterment and welfare of the common citizen,”  said \\nHon’ble Prime Minister. 14',\n",
       " 'is committed to providing a transparent and accountable administration \\nwhich works for the betterment and welfare of the common citizen,”  said \\nHon’ble Prime Minister. 14 \\n \\n \\n Mission Karmayogi \\n58. Under Mission Karmayogi, Centre, States and Union Territories are \\nmaking and implementing capacity-building plans for civil servants. The \\ngovernment has also launched an integrated online training platform, iGOT \\nKarmayogi , to provide continuous learning opportunities for lakhs of \\ngovernment employees to upgrade their skills and facilitate people-centric \\napproach.   \\n59. For enhancing ease of doing business, more than  \\n39,000 compliances have been reduced and more than  \\n3,400 legal provisions have been decriminalized. For furthering the trust-',\n",
       " 'approach.   \\n59. For enhancing ease of doing business, more than  \\n39,000 compliances have been reduced and more than  \\n3,400 legal provisions have been decriminalized. For furthering the trust-\\nbased governance, we have introduced the Jan Vishwas Bill to amend 42 \\nCentral Acts. This Budget proposes a series of measures to unleash the \\npotential of our economy.  \\nCentres of Excellence for Artificial Intelligence \\n60. For realizing the vision of “Make AI in India and Make AI work for \\nIndia”,  three centres of excellence for Artificial Intelligence will be set-up in \\ntop educational institutions. Leading industry players will partner in \\nconducting interdisciplinary research, develop cutting-edge applications and \\nscalable problem solutions in the areas of agriculture, health, and',\n",
       " 'conducting interdisciplinary research, develop cutting-edge applications and \\nscalable problem solutions in the areas of agriculture, health, and \\nsustainable cities. This will galvanize an effective AI ecosystem and nurture \\nquality human resources in the field. \\nNational Data Governance Policy  \\n61. To unleash innovation and research by start-ups and academia, a \\nNational Data Governance Policy will be brought out. This will enable access \\nto anonymized data. \\nSimplification of Know Your Customer (KYC) process  \\n62. The KYC process will be simplified adopting a ‘risk-based’ instead of \\n‘one size fits all’ approach. The financial sector regulators will also be 15 \\n \\n \\n encouraged to have a KYC system fully amenable to meet the needs of \\nDigital India.',\n",
       " '‘one size fits all’ approach. The financial sector regulators will also be 15 \\n \\n \\n encouraged to have a KYC system fully amenable to meet the needs of \\nDigital India. \\nOne stop solution for identity and address updating  \\n63. A one stop solution for reconciliation and updating of identity and \\naddress of individuals maintained by various government agencies, \\nregulators and regulated entities will be established using DigiLocker service \\nand Aadhaar as foundational identity.    \\nCommon Business Identifier   \\n64. For the business establishments required to have a Permanent \\nAccount Number (PAN), the PAN will be used as the common identifier for \\nall digital systems of specified government agencies. This will bring ease of',\n",
       " 'Account Number (PAN), the PAN will be used as the common identifier for \\nall digital systems of specified government agencies. This will bring ease of \\ndoing business; and it will be facilitated through a legal mandate. \\nUnified Filing Process \\n65. For obviating the need for separate submission of same information \\nto different government agencies, a system of ‘Unified Filing Process’ will be \\nset-up. Such filing of information or return in simplified forms on a common \\nportal, will be shared with other agencies as per filer’s choice.  \\nVivad se Vishwas I – Relief for MSMEs  \\n66. In cases of failure by MSMEs to execute contracts during the Covid \\nperiod, 95 per cent of the forfeited amount relating to bid or performance \\nsecurity, will be returned to them by government and government',\n",
       " 'period, 95 per cent of the forfeited amount relating to bid or performance \\nsecurity, will be returned to them by government and government \\nundertakings.  This will provide relief to MSMEs.  \\nVivad se Vishwas II – Settling Contractual Disputes  \\n67. To settle contractual disputes of government and government \\nundertakings, wherein arbitral award is under challenge in a court, a \\nvoluntary settlement scheme with standardized terms will be introduced. \\nThis will be done by offering graded settlement terms depending on \\npendency level of the dispute. 16 \\n \\n \\n State Support Mission  \\n68. The State Support Mission of NITI Aayog will be continued for three \\nyears for our collective efforts towards national priorities. \\nResult Based Financing',\n",
       " 'State Support Mission  \\n68. The State Support Mission of NITI Aayog will be continued for three \\nyears for our collective efforts towards national priorities. \\nResult Based Financing  \\n69. To better allocate scarce resources for competing development \\nneeds, the financing of select schemes will be changed, on a pilot basis, \\nfrom ‘input-based’ to ‘result-based’. \\nE-Courts  \\n70. For efficient administration of justice, Phase-3 of the \\n E-Courts project will be launched with an outlay  \\nof ` 7,000 crore.  \\nFintech Services  \\n71. Fintech services in India have been facilitated by our digital public \\ninfrastructure including Aadhaar, PM Jan Dhan Yojana, Video KYC, India \\nStack and UPI. To enable more Fintech innovative services, the scope of',\n",
       " 'infrastructure including Aadhaar, PM Jan Dhan Yojana, Video KYC, India \\nStack and UPI. To enable more Fintech innovative services, the scope of \\ndocuments available in DigiLocker for individuals will be expanded.  \\nEntity DigiLocker  \\n72. An Entity DigiLocker will be set up for use by MSMEs, large business \\nand charitable trusts. This will be towards storing and sharing documents \\nonline securely, whenever needed, with various authorities, regulators, \\nbanks and other business entities.  \\n5G Services  \\n73. One hundred labs for developing applications using  \\n5G services will be set up in engineering institutions to realise a new range \\nof opportunities, business models, and employment potential. The  labs will \\ncover, among others, applications such as smart classrooms, precision',\n",
       " 'of opportunities, business models, and employment potential. The  labs will \\ncover, among others, applications such as smart classrooms, precision \\nfarming, intelligent transport systems, and health care applications.   17 \\n \\n \\n Lab Grown Diamonds  \\n74. Lab Grown Diamonds (LGD) is a technology-and innovation-driven \\nemerging sector with high employment potential. These environment-\\nfriendly diamonds which have optically and chemically the same properties \\nas natural diamonds. To encourage indigenous production of LGD seeds and \\nmachines and to reduce import dependency, a research and development \\ngrant will be provided to one of the IITs for five years.   \\n75. To reduce the cost of production, a proposal to review the custom',\n",
       " 'grant will be provided to one of the IITs for five years.   \\n75. To reduce the cost of production, a proposal to review the custom \\nduty rate on LGD seeds will be indicated in Part B of the speech.   \\nPriority 5: Green Growth  \\n76. Hon’ble Prime Minister has given a vision for “LiFE”, or Lifestyle for \\nEnvironment, to spur a movement of environmentally conscious lifestyle. \\nIndia is moving forward firmly for the ‘panchamrit’  and net-zero carbon \\nemission by 2070 to usher in green industrial and economic transition. This \\nBudget builds on our focus on green growth.    \\nGreen Hydrogen Mission \\n77. The recently launched National Green Hydrogen Mission, with an \\noutlay of ` 19,700 crores, will facilitate transition of the economy to low',\n",
       " 'Green Hydrogen Mission \\n77. The recently launched National Green Hydrogen Mission, with an \\noutlay of ` 19,700 crores, will facilitate transition of the economy to low \\ncarbon intensity, reduce dependence on fossil fuel imports, and make the \\ncountry assume technology and market leadership in this sunrise sector. \\nOur target is to reach an annual production of 5 MMT by 2030.  \\nEnergy Transition \\n78. This Budget provides ` 35,000 crore for priority capital investments \\ntowards energy transition and net zero objectives, and energy security by \\nMinistry of Petroleum & Natural Gas.  \\nEnergy Storage Projects \\n79. To steer the economy on the sustainable development path, Battery \\nEnergy Storage Systems with capacity of 4,000 MWH will be supported with 18',\n",
       " 'Energy Storage Projects \\n79. To steer the economy on the sustainable development path, Battery \\nEnergy Storage Systems with capacity of 4,000 MWH will be supported with 18 \\n \\n \\n Viability Gap Funding. A detailed framework for Pumped Storage Projects \\nwill also be formulated.  \\nRenewable Energy Evacuation \\n80. The Inter-state transmission system for evacuation and grid \\nintegration of 13 GW renewable energy from Ladakh will be constructed \\nwith investment of ` 20,700 crore including central support of ` 8,300 crore. \\nGreen Credit Programme \\n81. For encouraging behavioural change, a Green Credit Programme will \\nbe notified under the Environment (Protection) Act. This will incentivize \\nenvironmentally sustainable and responsive actions by companies,',\n",
       " 'be notified under the Environment (Protection) Act. This will incentivize \\nenvironmentally sustainable and responsive actions by companies, \\nindividuals and local bodies, and help mobilize additional resources for such \\nactivities.  \\nPM-PRANAM \\n82. “PM Programme for Restoration, Awareness, Nourishment and \\nAmelioration of Mother Earth” will be launched to incentivize States and \\nUnion Territories to promote alternative fertilizers and balanced use of \\nchemical fertilizers. \\nGOBARdhan scheme \\n83. 500 new ‘waste to wealth’ plants under GOBARdhan (Galvanizing \\nOrganic Bio-Agro Resources Dhan) scheme will be established for promoting \\ncircular economy. These will include 200 compressed biogas (CBG) plants, \\nincluding 75 plants in urban areas, and 300 community or cluster-based']"
      ]
     },
     "execution_count": 40,
     "metadata": {},
     "output_type": "execute_result"
    }
   ],
   "source": [
    "texts[:50]"
   ]
  },
  {
   "cell_type": "markdown",
   "metadata": {},
   "source": [
    "### Load the dataset into the vector store "
   ]
  },
  {
   "cell_type": "code",
   "execution_count": 41,
   "metadata": {},
   "outputs": [
    {
     "name": "stdout",
     "output_type": "stream",
     "text": [
      "Inserted 50 headlines.\n"
     ]
    },
    {
     "ename": "NameError",
     "evalue": "name 'VectorStoreIndexWrapper' is not defined",
     "output_type": "error",
     "traceback": [
      "\u001b[0;31m---------------------------------------------------------------------------\u001b[0m",
      "\u001b[0;31mNameError\u001b[0m                                 Traceback (most recent call last)",
      "\u001b[0;32m/tmp/ipykernel_4125/2896426975.py\u001b[0m in \u001b[0;36m<module>\u001b[0;34m\u001b[0m\n\u001b[1;32m      1\u001b[0m \u001b[0mastra_vector_store\u001b[0m\u001b[0;34m.\u001b[0m\u001b[0madd_texts\u001b[0m\u001b[0;34m(\u001b[0m\u001b[0mtexts\u001b[0m\u001b[0;34m[\u001b[0m\u001b[0;34m:\u001b[0m\u001b[0;36m50\u001b[0m\u001b[0;34m]\u001b[0m\u001b[0;34m)\u001b[0m\u001b[0;34m\u001b[0m\u001b[0;34m\u001b[0m\u001b[0m\n\u001b[1;32m      2\u001b[0m \u001b[0mprint\u001b[0m\u001b[0;34m(\u001b[0m\u001b[0;34m\"Inserted %i headlines.\"\u001b[0m \u001b[0;34m%\u001b[0m \u001b[0mlen\u001b[0m\u001b[0;34m(\u001b[0m\u001b[0mtexts\u001b[0m\u001b[0;34m[\u001b[0m\u001b[0;34m:\u001b[0m\u001b[0;36m50\u001b[0m\u001b[0;34m]\u001b[0m\u001b[0;34m)\u001b[0m\u001b[0;34m)\u001b[0m\u001b[0;34m\u001b[0m\u001b[0;34m\u001b[0m\u001b[0m\n\u001b[0;32m----> 3\u001b[0;31m \u001b[0mastra_vector_index\u001b[0m \u001b[0;34m=\u001b[0m \u001b[0mVectorStoreIndexWrapper\u001b[0m\u001b[0;34m(\u001b[0m\u001b[0mvectorstore\u001b[0m\u001b[0;34m=\u001b[0m\u001b[0mastra_vector_store\u001b[0m\u001b[0;34m)\u001b[0m\u001b[0;34m\u001b[0m\u001b[0;34m\u001b[0m\u001b[0m\n\u001b[0m",
      "\u001b[0;31mNameError\u001b[0m: name 'VectorStoreIndexWrapper' is not defined"
     ]
    }
   ],
   "source": [
    "astra_vector_store.add_texts(texts[:50])\n",
    "print(\"Inserted %i headlines.\" % len(texts[:50]))\n",
    "astra_vector_index = VectorStoreIndexWrapper(vectorstore=astra_vector_store)"
   ]
  },
  {
   "cell_type": "markdown",
   "metadata": {},
   "source": [
    "   ### Run the QA cycle"
   ]
  },
  {
   "cell_type": "markdown",
   "metadata": {},
   "source": [
    "#### Simply run the cells and ask a question -- or quit to stop.(You can also stop execution with the \"-\" button on the top toolbar)\n",
    "\n",
    "#### Here are some suggested questions:\n",
    "####    What is the current GDP?\n",
    "####    How much the agriculture target will be increased to and what the focus will be"
   ]
  },
  {
   "cell_type": "code",
   "execution_count": null,
   "metadata": {},
   "outputs": [],
   "source": [
    "first_question= True\n",
    "while True:\n",
    "    if first_question:\n",
    "        query_text = input(\"\\nEnter your question (or type 'quit'  to exit): \").strip()\n",
    "    else:\n",
    "        query_text = input(\"\\nWhat is your next question (or type 'quit' to exit):\").strip()\n",
    "\n",
    "    if  query_text.lower() == \"quit\":\n",
    "        break\n",
    "    if query_text == \"\":\n",
    "        continue\n",
    "\n",
    "    first_question = False\n",
    "    print(\"\\nQUESTION: \\\"%s\\\"\" % query_text)\n",
    "    answer= astra_vector_index.query(query_text, llm=llm).strip()\n",
    "    print(\"ANSWER: \\\"%s\\\"\\n\" % answer)\n",
    "\n",
    "    print(\"FIRST DOCUMENTS BY RELEVANCE:\")\n",
    "    for doc, score in astra_vector_store.similarity_search_with_score(query_text,k=4):\n",
    "        print(\"  [%0.4f] \\\"%s...\\\"\" % (score,doc.page_content[:84]))     "
   ]
  },
  {
   "cell_type": "code",
   "execution_count": null,
   "metadata": {},
   "outputs": [],
   "source": []
  }
 ],
 "metadata": {
  "kernelspec": {
   "display_name": "Python 3",
   "language": "python",
   "name": "python3"
  },
  "language_info": {
   "codemirror_mode": {
    "name": "ipython",
    "version": 3
   },
   "file_extension": ".py",
   "mimetype": "text/x-python",
   "name": "python",
   "nbconvert_exporter": "python",
   "pygments_lexer": "ipython3",
   "version": "3.11.3"
  },
  "widgets": {
   "application/vnd.jupyter.widget-state+json": {
    "state": {},
    "version_major": 2,
    "version_minor": 0
   }
  }
 },
 "nbformat": 4,
 "nbformat_minor": 4
}
