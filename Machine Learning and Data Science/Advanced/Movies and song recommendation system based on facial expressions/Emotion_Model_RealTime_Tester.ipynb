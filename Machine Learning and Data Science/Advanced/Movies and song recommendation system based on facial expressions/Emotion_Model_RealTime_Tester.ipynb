{
 "cells": [
  {
   "cell_type": "code",
   "execution_count": 6,
   "id": "4c95c24a",
   "metadata": {},
   "outputs": [],
   "source": [
    "import os\n",
    "import cv2\n",
    "import numpy as np\n",
    "from keras.preprocessing import image\n",
    "import warnings\n",
    "warnings.filterwarnings(\"ignore\")\n",
    "from keras.preprocessing.image import load_img, img_to_array \n",
    "from keras.models import  load_model\n",
    "import matplotlib.pyplot as plt\n",
    "import numpy as np\n",
    "import tensorflow as tf\n",
    "\n",
    "# load model\n",
    "model = load_model(\"final_model.h5\")\n",
    "\n",
    "\n",
    "face_haar_cascade = cv2.CascadeClassifier(cv2.data.haarcascades + 'haarcascade_frontalface_default.xml')\n"
   ]
  },
  {
   "cell_type": "code",
   "execution_count": 7,
   "id": "ad462d4c",
   "metadata": {},
   "outputs": [
    {
     "name": "stdout",
     "output_type": "stream",
     "text": [
      "['neutral', 'happy', 'neutral', 'happy', 'happy', 'happy', 'happy', 'neutral', 'happy', 'happy', 'happy', 'happy', 'happy', 'happy', 'neutral', 'neutral', 'neutral', 'neutral', 'neutral', 'neutral', 'neutral', 'neutral', 'neutral', 'neutral', 'neutral', 'neutral', 'neutral', 'happy', 'neutral', 'neutral', 'neutral', 'neutral', 'neutral', 'neutral', 'neutral', 'neutral', 'neutral', 'neutral', 'neutral', 'neutral', 'neutral', 'happy', 'happy', 'neutral', 'happy', 'neutral', 'happy', 'neutral', 'neutral', 'neutral', 'neutral', 'neutral', 'neutral', 'happy', 'neutral', 'neutral', 'neutral', 'happy', 'neutral', 'neutral', 'neutral']\n"
     ]
    }
   ],
   "source": [
    "i=0\n",
    "GR_dict={0:(0,255,0),1:(0,0,255)}\n",
    "\n",
    "model = tf.keras.models.load_model('final_model.h5')\n",
    "face_cascade = cv2.CascadeClassifier('haarcascade_frontalface_default.xml')\n",
    "\n",
    "output=[]\n",
    "cap = cv2.VideoCapture(0)\n",
    "\n",
    "while (i<=50):\n",
    "    ret, img = cap.read()\n",
    "    #gray = cv2.cvtColor(img,cv2.COLOR_BGR2GRAY)\n",
    "    faces = face_cascade.detectMultiScale(img,1.05,5)\n",
    "\n",
    "    for x,y,w,h in faces:\n",
    "\n",
    "        face_img = img[y:y+h,x:x+w] \n",
    "\n",
    "        resized = cv2.resize(face_img,(224,224))\n",
    "        reshaped=resized.reshape(1, 224,224,3)/255\n",
    "        predictions = model.predict(reshaped)\n",
    "\n",
    "        # find max indexed array\n",
    "        max_index = np.argmax(predictions[0])\n",
    "\n",
    "        emotions = ('angry', 'disgust', 'fear', 'happy', 'sad', 'neutral', 'surprise')\n",
    "        predicted_emotion = emotions[max_index]\n",
    "        output.append(predicted_emotion)\n",
    "            \n",
    "            \n",
    "            \n",
    "        cv2.rectangle(img,(x,y),(x+w,y+h),GR_dict[1],2)\n",
    "        cv2.rectangle(img,(x,y-40),(x+w,y),GR_dict[1],-1)\n",
    "        cv2.putText(img, predicted_emotion, (x, y-10),cv2.FONT_HERSHEY_SIMPLEX,0.8,(255,255,255),2)\n",
    "    i = i+1\n",
    "\n",
    "    cv2.imshow('LIVE', img)\n",
    "    key = cv2.waitKey(1)\n",
    "    if key == 27: \n",
    "        cap.release()\n",
    "        cv2.destroyAllWindows()\n",
    "        break\n",
    "print(output)\n",
    "cap.release()\n",
    "cv2.destroyAllWindows()\n",
    "final_output1 = st.mode(output)"
   ]
  },
  {
   "cell_type": "code",
   "execution_count": 8,
   "id": "5bb899a2",
   "metadata": {},
   "outputs": [
    {
     "data": {
      "text/plain": [
       "'neutral'"
      ]
     },
     "execution_count": 8,
     "metadata": {},
     "output_type": "execute_result"
    }
   ],
   "source": [
    "import statistics as st\n",
    "final_output = st.mode(output)\n",
    "final_output"
   ]
  }
 ],
 "metadata": {
  "kernelspec": {
   "display_name": "Python 3",
   "language": "python",
   "name": "python3"
  },
  "language_info": {
   "codemirror_mode": {
    "name": "ipython",
    "version": 3
   },
   "file_extension": ".py",
   "mimetype": "text/x-python",
   "name": "python",
   "nbconvert_exporter": "python",
   "pygments_lexer": "ipython3",
   "version": "3.9.5"
  }
 },
 "nbformat": 4,
 "nbformat_minor": 5
}
