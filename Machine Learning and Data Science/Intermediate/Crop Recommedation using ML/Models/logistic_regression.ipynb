{
 "cells": [
  {
   "cell_type": "markdown",
   "id": "7f028ebc-aeb0-497e-b5bb-de447f22f7ae",
   "metadata": {},
   "source": [
    "### Loading and importing necessary libs"
   ]
  },
  {
   "cell_type": "code",
   "execution_count": 2,
   "id": "4c3c9337-8496-4a3b-b6de-7b878ddccfed",
   "metadata": {},
   "outputs": [],
   "source": [
    "import pandas as pd\n",
    "import numpy as np\n",
    "from sklearn.linear_model import LogisticRegression\n",
    "from sklearn.model_selection import cross_val_score\n",
    "from sklearn.model_selection import train_test_split\n",
    "import warnings\n",
    "warnings.filterwarnings('ignore')"
   ]
  },
  {
   "cell_type": "code",
   "execution_count": 3,
   "id": "06462ce5-d276-41a5-8fbd-d1ba7ca24e38",
   "metadata": {},
   "outputs": [],
   "source": [
    "data=pd.read_csv(\"Crop_recommendation.csv\")"
   ]
  },
  {
   "cell_type": "markdown",
   "id": "caa16b28-4894-4e4d-8aca-20671c6c139d",
   "metadata": {},
   "source": [
    "### Separting features & target variable"
   ]
  },
  {
   "cell_type": "code",
   "execution_count": 4,
   "id": "e5d22b3d-451c-4fde-8bd2-cd791425f591",
   "metadata": {},
   "outputs": [],
   "source": [
    "features=data[[\"N\",\"P\",\"K\",\"ph\",\"temperature\",\"humidity\",\"rainfall\"]]\n",
    "target=data[\"label\"]\n",
    "labels=data[\"label\"]"
   ]
  },
  {
   "cell_type": "markdown",
   "id": "75da34b9-c0d7-4451-af1d-9ad36aa6a23b",
   "metadata": {},
   "source": [
    "### Splitting Training & Test Data"
   ]
  },
  {
   "cell_type": "code",
   "execution_count": 5,
   "id": "926cbd80-657e-4244-9356-aaede21eaca3",
   "metadata": {},
   "outputs": [],
   "source": [
    "Xtrain,Xtest,Ytrain,Ytest=train_test_split(features,target,test_size=0.3,random_state=2)"
   ]
  },
  {
   "cell_type": "code",
   "execution_count": 6,
   "id": "696bf0cc-4819-4bb2-8feb-7d4b97657972",
   "metadata": {},
   "outputs": [],
   "source": [
    "LogReg=LogisticRegression(random_state=2)"
   ]
  },
  {
   "cell_type": "code",
   "execution_count": 7,
   "id": "92e78020-06b7-4e2c-bf4e-8da42c043c80",
   "metadata": {
    "scrolled": true
   },
   "outputs": [
    {
     "data": {
      "text/html": [
       "<style>#sk-container-id-1 {color: black;background-color: white;}#sk-container-id-1 pre{padding: 0;}#sk-container-id-1 div.sk-toggleable {background-color: white;}#sk-container-id-1 label.sk-toggleable__label {cursor: pointer;display: block;width: 100%;margin-bottom: 0;padding: 0.3em;box-sizing: border-box;text-align: center;}#sk-container-id-1 label.sk-toggleable__label-arrow:before {content: \"▸\";float: left;margin-right: 0.25em;color: #696969;}#sk-container-id-1 label.sk-toggleable__label-arrow:hover:before {color: black;}#sk-container-id-1 div.sk-estimator:hover label.sk-toggleable__label-arrow:before {color: black;}#sk-container-id-1 div.sk-toggleable__content {max-height: 0;max-width: 0;overflow: hidden;text-align: left;background-color: #f0f8ff;}#sk-container-id-1 div.sk-toggleable__content pre {margin: 0.2em;color: black;border-radius: 0.25em;background-color: #f0f8ff;}#sk-container-id-1 input.sk-toggleable__control:checked~div.sk-toggleable__content {max-height: 200px;max-width: 100%;overflow: auto;}#sk-container-id-1 input.sk-toggleable__control:checked~label.sk-toggleable__label-arrow:before {content: \"▾\";}#sk-container-id-1 div.sk-estimator input.sk-toggleable__control:checked~label.sk-toggleable__label {background-color: #d4ebff;}#sk-container-id-1 div.sk-label input.sk-toggleable__control:checked~label.sk-toggleable__label {background-color: #d4ebff;}#sk-container-id-1 input.sk-hidden--visually {border: 0;clip: rect(1px 1px 1px 1px);clip: rect(1px, 1px, 1px, 1px);height: 1px;margin: -1px;overflow: hidden;padding: 0;position: absolute;width: 1px;}#sk-container-id-1 div.sk-estimator {font-family: monospace;background-color: #f0f8ff;border: 1px dotted black;border-radius: 0.25em;box-sizing: border-box;margin-bottom: 0.5em;}#sk-container-id-1 div.sk-estimator:hover {background-color: #d4ebff;}#sk-container-id-1 div.sk-parallel-item::after {content: \"\";width: 100%;border-bottom: 1px solid gray;flex-grow: 1;}#sk-container-id-1 div.sk-label:hover label.sk-toggleable__label {background-color: #d4ebff;}#sk-container-id-1 div.sk-serial::before {content: \"\";position: absolute;border-left: 1px solid gray;box-sizing: border-box;top: 0;bottom: 0;left: 50%;z-index: 0;}#sk-container-id-1 div.sk-serial {display: flex;flex-direction: column;align-items: center;background-color: white;padding-right: 0.2em;padding-left: 0.2em;position: relative;}#sk-container-id-1 div.sk-item {position: relative;z-index: 1;}#sk-container-id-1 div.sk-parallel {display: flex;align-items: stretch;justify-content: center;background-color: white;position: relative;}#sk-container-id-1 div.sk-item::before, #sk-container-id-1 div.sk-parallel-item::before {content: \"\";position: absolute;border-left: 1px solid gray;box-sizing: border-box;top: 0;bottom: 0;left: 50%;z-index: -1;}#sk-container-id-1 div.sk-parallel-item {display: flex;flex-direction: column;z-index: 1;position: relative;background-color: white;}#sk-container-id-1 div.sk-parallel-item:first-child::after {align-self: flex-end;width: 50%;}#sk-container-id-1 div.sk-parallel-item:last-child::after {align-self: flex-start;width: 50%;}#sk-container-id-1 div.sk-parallel-item:only-child::after {width: 0;}#sk-container-id-1 div.sk-dashed-wrapped {border: 1px dashed gray;margin: 0 0.4em 0.5em 0.4em;box-sizing: border-box;padding-bottom: 0.4em;background-color: white;}#sk-container-id-1 div.sk-label label {font-family: monospace;font-weight: bold;display: inline-block;line-height: 1.2em;}#sk-container-id-1 div.sk-label-container {text-align: center;}#sk-container-id-1 div.sk-container {/* jupyter's `normalize.less` sets `[hidden] { display: none; }` but bootstrap.min.css set `[hidden] { display: none !important; }` so we also need the `!important` here to be able to override the default hidden behavior on the sphinx rendered scikit-learn.org. See: https://github.com/scikit-learn/scikit-learn/issues/21755 */display: inline-block !important;position: relative;}#sk-container-id-1 div.sk-text-repr-fallback {display: none;}</style><div id=\"sk-container-id-1\" class=\"sk-top-container\"><div class=\"sk-text-repr-fallback\"><pre>LogisticRegression(random_state=2)</pre><b>In a Jupyter environment, please rerun this cell to show the HTML representation or trust the notebook. <br />On GitHub, the HTML representation is unable to render, please try loading this page with nbviewer.org.</b></div><div class=\"sk-container\" hidden><div class=\"sk-item\"><div class=\"sk-estimator sk-toggleable\"><input class=\"sk-toggleable__control sk-hidden--visually\" id=\"sk-estimator-id-1\" type=\"checkbox\" checked><label for=\"sk-estimator-id-1\" class=\"sk-toggleable__label sk-toggleable__label-arrow\">LogisticRegression</label><div class=\"sk-toggleable__content\"><pre>LogisticRegression(random_state=2)</pre></div></div></div></div></div>"
      ],
      "text/plain": [
       "LogisticRegression(random_state=2)"
      ]
     },
     "execution_count": 7,
     "metadata": {},
     "output_type": "execute_result"
    }
   ],
   "source": [
    "LogReg.fit(Xtrain,Ytrain)"
   ]
  },
  {
   "cell_type": "code",
   "execution_count": 8,
   "id": "4a6e7817-63bb-433b-aead-397d1d340a7d",
   "metadata": {},
   "outputs": [],
   "source": [
    "predicted_values=LogReg.predict(Xtest)\n",
    "predicted_values2=LogReg.predict(Xtrain)"
   ]
  },
  {
   "cell_type": "markdown",
   "id": "805905c8-8281-44f0-a585-12085086d8c1",
   "metadata": {},
   "source": [
    "### Model Evaluation"
   ]
  },
  {
   "cell_type": "code",
   "execution_count": 9,
   "id": "70e352c2-17e6-401b-8aa3-c4a253d55fe1",
   "metadata": {},
   "outputs": [
    {
     "name": "stdout",
     "output_type": "stream",
     "text": [
      "The accuracy score on TEST is: 0.9621212121212122\n",
      "The accuracy score on TRAIN is: 0.9707792207792207\n"
     ]
    }
   ],
   "source": [
    "from sklearn import metrics\n",
    "\n",
    "accuracy_score=metrics.accuracy_score(Ytest,predicted_values)\n",
    "print(\"The accuracy score on TEST is:\",accuracy_score)\n",
    "accuracy_score2=metrics.accuracy_score(Ytrain,predicted_values2)\n",
    "print(\"The accuracy score on TRAIN is:\",accuracy_score2)"
   ]
  },
  {
   "cell_type": "code",
   "execution_count": 10,
   "id": "7a3b5e3d-4172-4f85-868d-d4533d135e48",
   "metadata": {},
   "outputs": [
    {
     "name": "stdout",
     "output_type": "stream",
     "text": [
      "              precision    recall  f1-score   support\n",
      "\n",
      "       apple       1.00      1.00      1.00        28\n",
      "      banana       1.00      1.00      1.00        26\n",
      "   blackgram       0.92      0.82      0.87        28\n",
      "    chickpea       1.00      1.00      1.00        29\n",
      "     coconut       1.00      1.00      1.00        31\n",
      "      coffee       1.00      1.00      1.00        33\n",
      "      cotton       0.91      0.94      0.92        31\n",
      "      grapes       1.00      1.00      1.00        29\n",
      "        jute       0.86      0.94      0.90        33\n",
      " kidneybeans       0.97      1.00      0.98        30\n",
      "      lentil       0.91      1.00      0.96        32\n",
      "       maize       0.94      0.91      0.92        32\n",
      "       mango       0.97      1.00      0.99        33\n",
      "   mothbeans       0.83      0.83      0.83        29\n",
      "    mungbean       1.00      1.00      1.00        32\n",
      "   muskmelon       1.00      1.00      1.00        30\n",
      "      orange       1.00      1.00      1.00        42\n",
      "      papaya       0.97      0.93      0.95        30\n",
      "  pigeonpeas       1.00      0.97      0.98        31\n",
      " pomegranate       1.00      1.00      1.00        19\n",
      "        rice       0.93      0.83      0.88        30\n",
      "  watermelon       1.00      1.00      1.00        22\n",
      "\n",
      "    accuracy                           0.96       660\n",
      "   macro avg       0.96      0.96      0.96       660\n",
      "weighted avg       0.96      0.96      0.96       660\n",
      "\n"
     ]
    }
   ],
   "source": [
    "from sklearn.metrics import classification_report,confusion_matrix,ConfusionMatrixDisplay\n",
    "\n",
    "report=classification_report(Ytest,predicted_values)\n",
    "print(report)"
   ]
  },
  {
   "cell_type": "code",
   "execution_count": 11,
   "id": "201f5b02-3b9a-45ae-9b09-e48670eaaa8f",
   "metadata": {},
   "outputs": [
    {
     "data": {
      "image/png": "[encoded data removed]",
      "text/plain": [
       "<Figure size 640x480 with 2 Axes>"
      ]
     },
     "metadata": {},
     "output_type": "display_data"
    }
   ],
   "source": [
    "cf=ConfusionMatrixDisplay(confusion_matrix(Ytest,predicted_values))\n",
    "p=cf.plot()\n"
   ]
  },
  {
   "cell_type": "markdown",
   "id": "51679815-e6a4-4cd7-b656-2a9fc6bd4996",
   "metadata": {},
   "source": [
    "#### Applying Cross Validation"
   ]
  },
  {
   "cell_type": "code",
   "execution_count": 12,
   "id": "70ac5f83-10f3-45dc-86f1-f2a67cebe6e9",
   "metadata": {
    "scrolled": true
   },
   "outputs": [
    {
     "name": "stdout",
     "output_type": "stream",
     "text": [
      "[0.95       0.96590909 0.94772727 0.96818182 0.94318182]\n",
      "0.9550000000000001\n"
     ]
    }
   ],
   "source": [
    "score = cross_val_score(LogReg,features,target,cv=5)\n",
    "print(score)\n",
    "print(score.mean())"
   ]
  },
  {
   "cell_type": "markdown",
   "id": "7ab32d4e-2ee0-4c85-9e0a-4bb061bff18c",
   "metadata": {},
   "source": [
    "### Creating a predictive function"
   ]
  },
  {
   "cell_type": "code",
   "execution_count": 13,
   "id": "7829d209-5e31-4208-85a4-a9518ce449d5",
   "metadata": {},
   "outputs": [
    {
     "name": "stdout",
     "output_type": "stream",
     "text": [
      "Predicted Crop Label: coffee\n",
      "Predicted Crop Label: coffee\n"
     ]
    }
   ],
   "source": [
    "def predict_crop_label(input_features):\n",
    "    \n",
    "    \n",
    "    input_features = np.array(input_features).reshape(1, -1) \n",
    "    \n",
    "    # Predict the crop label using the LogReg model\n",
    "    predicted_label = LogReg.predict(input_features)\n",
    "    \n",
    "    return predicted_label[0]  # Return the predicted label\n",
    "\n",
    "# Example usage:\n",
    "user_input = [83, 45, 60, 28, 70.3, 7.0, 150.9]  # Example input features (N, P, K, pH, temperature, humidity, rainfall)\n",
    "predicted_crop_label = predict_crop_label(user_input)\n",
    "print(\"Predicted Crop Label:\", predicted_crop_label)\n",
    "\n",
    "user_input = [104,18, 30, 23.603016, 60.3, 6.7, 140.91]  # Example input features (N, P, K, pH, temperature, humidity, rainfall)\n",
    "predicted_crop_label = predict_crop_label(user_input)\n",
    "print(\"Predicted Crop Label:\", predicted_crop_label)\n"
   ]
  },
  {
   "cell_type": "code",
   "execution_count": 31,
   "id": "7e663bf1-ca45-4ffc-9f37-7fc8bcf5e5b4",
   "metadata": {},
   "outputs": [
    {
     "data": {
      "text/plain": [
       "0.9707792207792207"
      ]
     },
     "execution_count": 31,
     "metadata": {},
     "output_type": "execute_result"
    }
   ],
   "source": [
    "LR_accuracy=LogReg.score(Xtrain,Ytrain)\n",
    "LR_accuracy"
   ]
  },
  {
   "cell_type": "markdown",
   "id": "a05b7919-ca25-433a-87af-9de34a16f321",
   "metadata": {},
   "source": [
    "### Train Accuracy: 0.9707792207792207\n",
    "### Test Accuracy:  0.9621212121212122\n",
    "### CV Accuracy  : 0.9550000000000001"
   ]
  },
  {
   "cell_type": "code",
   "execution_count": null,
   "id": "0d7224bf-ef70-4c08-8743-c268efece79d",
   "metadata": {},
   "outputs": [],
   "source": []
  }
 ],
 "metadata": {
  "kernelspec": {
   "display_name": "Python 3 (ipykernel)",
   "language": "python",
   "name": "python3"
  },
  "language_info": {
   "codemirror_mode": {
    "name": "ipython",
    "version": 3
   },
   "file_extension": ".py",
   "mimetype": "text/x-python",
   "name": "python",
   "nbconvert_exporter": "python",
   "pygments_lexer": "ipython3",
   "version": "3.11.3"
  }
 },
 "nbformat": 4,
 "nbformat_minor": 5
}
