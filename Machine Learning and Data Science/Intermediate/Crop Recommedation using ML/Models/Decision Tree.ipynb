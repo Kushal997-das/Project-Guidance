{
 "cells": [
  {
   "cell_type": "code",
   "execution_count": 1,
   "id": "68fda7c4-c11d-4ddf-8d7a-18d49697ebc4",
   "metadata": {},
   "outputs": [],
   "source": [
    "import pandas as pd\n",
    "import numpy as np\n",
    "from sklearn.linear_model import LogisticRegression\n",
    "from sklearn.model_selection import cross_val_score\n",
    "from sklearn.model_selection import train_test_split\n",
    "import warnings\n",
    "from sklearn import metrics\n",
    "warnings.filterwarnings('ignore')\n",
    "from sklearn.tree import DecisionTreeClassifier"
   ]
  },
  {
   "cell_type": "code",
   "execution_count": 4,
   "id": "c3f976bb-582c-4cf3-969b-cf486362439e",
   "metadata": {},
   "outputs": [],
   "source": [
    "data=pd.read_csv(\"Crop_recommendation.csv\")"
   ]
  },
  {
   "cell_type": "code",
   "execution_count": 5,
   "id": "1af75f09-0e69-4dbb-afe1-341fa05a8734",
   "metadata": {},
   "outputs": [],
   "source": [
    "features=data[[\"N\",\"P\",\"K\",\"ph\",\"temperature\",\"humidity\",\"rainfall\"]]\n",
    "target=data[\"label\"]\n",
    "labels=data[\"label\"]"
   ]
  },
  {
   "cell_type": "code",
   "execution_count": 7,
   "id": "64bca148-6148-4f4a-b5f5-eba7d3894833",
   "metadata": {},
   "outputs": [],
   "source": [
    "Xtrain,Xtest,Ytrain,Ytest=train_test_split(features,target,test_size=0.3,random_state=4)"
   ]
  },
  {
   "cell_type": "code",
   "execution_count": 9,
   "id": "48f8522a-cc66-40b1-a67b-a8932bf3a2fc",
   "metadata": {},
   "outputs": [
    {
     "data": {
      "text/html": [
       "<style>#sk-container-id-1 {color: black;background-color: white;}#sk-container-id-1 pre{padding: 0;}#sk-container-id-1 div.sk-toggleable {background-color: white;}#sk-container-id-1 label.sk-toggleable__label {cursor: pointer;display: block;width: 100%;margin-bottom: 0;padding: 0.3em;box-sizing: border-box;text-align: center;}#sk-container-id-1 label.sk-toggleable__label-arrow:before {content: \"▸\";float: left;margin-right: 0.25em;color: #696969;}#sk-container-id-1 label.sk-toggleable__label-arrow:hover:before {color: black;}#sk-container-id-1 div.sk-estimator:hover label.sk-toggleable__label-arrow:before {color: black;}#sk-container-id-1 div.sk-toggleable__content {max-height: 0;max-width: 0;overflow: hidden;text-align: left;background-color: #f0f8ff;}#sk-container-id-1 div.sk-toggleable__content pre {margin: 0.2em;color: black;border-radius: 0.25em;background-color: #f0f8ff;}#sk-container-id-1 input.sk-toggleable__control:checked~div.sk-toggleable__content {max-height: 200px;max-width: 100%;overflow: auto;}#sk-container-id-1 input.sk-toggleable__control:checked~label.sk-toggleable__label-arrow:before {content: \"▾\";}#sk-container-id-1 div.sk-estimator input.sk-toggleable__control:checked~label.sk-toggleable__label {background-color: #d4ebff;}#sk-container-id-1 div.sk-label input.sk-toggleable__control:checked~label.sk-toggleable__label {background-color: #d4ebff;}#sk-container-id-1 input.sk-hidden--visually {border: 0;clip: rect(1px 1px 1px 1px);clip: rect(1px, 1px, 1px, 1px);height: 1px;margin: -1px;overflow: hidden;padding: 0;position: absolute;width: 1px;}#sk-container-id-1 div.sk-estimator {font-family: monospace;background-color: #f0f8ff;border: 1px dotted black;border-radius: 0.25em;box-sizing: border-box;margin-bottom: 0.5em;}#sk-container-id-1 div.sk-estimator:hover {background-color: #d4ebff;}#sk-container-id-1 div.sk-parallel-item::after {content: \"\";width: 100%;border-bottom: 1px solid gray;flex-grow: 1;}#sk-container-id-1 div.sk-label:hover label.sk-toggleable__label {background-color: #d4ebff;}#sk-container-id-1 div.sk-serial::before {content: \"\";position: absolute;border-left: 1px solid gray;box-sizing: border-box;top: 0;bottom: 0;left: 50%;z-index: 0;}#sk-container-id-1 div.sk-serial {display: flex;flex-direction: column;align-items: center;background-color: white;padding-right: 0.2em;padding-left: 0.2em;position: relative;}#sk-container-id-1 div.sk-item {position: relative;z-index: 1;}#sk-container-id-1 div.sk-parallel {display: flex;align-items: stretch;justify-content: center;background-color: white;position: relative;}#sk-container-id-1 div.sk-item::before, #sk-container-id-1 div.sk-parallel-item::before {content: \"\";position: absolute;border-left: 1px solid gray;box-sizing: border-box;top: 0;bottom: 0;left: 50%;z-index: -1;}#sk-container-id-1 div.sk-parallel-item {display: flex;flex-direction: column;z-index: 1;position: relative;background-color: white;}#sk-container-id-1 div.sk-parallel-item:first-child::after {align-self: flex-end;width: 50%;}#sk-container-id-1 div.sk-parallel-item:last-child::after {align-self: flex-start;width: 50%;}#sk-container-id-1 div.sk-parallel-item:only-child::after {width: 0;}#sk-container-id-1 div.sk-dashed-wrapped {border: 1px dashed gray;margin: 0 0.4em 0.5em 0.4em;box-sizing: border-box;padding-bottom: 0.4em;background-color: white;}#sk-container-id-1 div.sk-label label {font-family: monospace;font-weight: bold;display: inline-block;line-height: 1.2em;}#sk-container-id-1 div.sk-label-container {text-align: center;}#sk-container-id-1 div.sk-container {/* jupyter's `normalize.less` sets `[hidden] { display: none; }` but bootstrap.min.css set `[hidden] { display: none !important; }` so we also need the `!important` here to be able to override the default hidden behavior on the sphinx rendered scikit-learn.org. See: https://github.com/scikit-learn/scikit-learn/issues/21755 */display: inline-block !important;position: relative;}#sk-container-id-1 div.sk-text-repr-fallback {display: none;}</style><div id=\"sk-container-id-1\" class=\"sk-top-container\"><div class=\"sk-text-repr-fallback\"><pre>DecisionTreeClassifier(criterion=&#x27;entropy&#x27;, max_depth=5, random_state=2)</pre><b>In a Jupyter environment, please rerun this cell to show the HTML representation or trust the notebook. <br />On GitHub, the HTML representation is unable to render, please try loading this page with nbviewer.org.</b></div><div class=\"sk-container\" hidden><div class=\"sk-item\"><div class=\"sk-estimator sk-toggleable\"><input class=\"sk-toggleable__control sk-hidden--visually\" id=\"sk-estimator-id-1\" type=\"checkbox\" checked><label for=\"sk-estimator-id-1\" class=\"sk-toggleable__label sk-toggleable__label-arrow\">DecisionTreeClassifier</label><div class=\"sk-toggleable__content\"><pre>DecisionTreeClassifier(criterion=&#x27;entropy&#x27;, max_depth=5, random_state=2)</pre></div></div></div></div></div>"
      ],
      "text/plain": [
       "DecisionTreeClassifier(criterion='entropy', max_depth=5, random_state=2)"
      ]
     },
     "execution_count": 9,
     "metadata": {},
     "output_type": "execute_result"
    }
   ],
   "source": [
    "DecisionTree = DecisionTreeClassifier(criterion=\"entropy\",random_state=2,max_depth=5)\n",
    "DecisionTree.fit(Xtrain,Ytrain)"
   ]
  },
  {
   "cell_type": "code",
   "execution_count": 10,
   "id": "3556d49a-dbfc-46ed-8d97-58f95e9f9df0",
   "metadata": {},
   "outputs": [
    {
     "data": {
      "text/plain": [
       "0.9075757575757576"
      ]
     },
     "execution_count": 10,
     "metadata": {},
     "output_type": "execute_result"
    }
   ],
   "source": [
    "predicted_values = DecisionTree.predict(Xtest)\n",
    "x = metrics.accuracy_score(Ytest, predicted_values)\n",
    "x"
   ]
  },
  {
   "cell_type": "code",
   "execution_count": 13,
   "id": "f1de400b-6f94-475c-9679-1d7176dfd608",
   "metadata": {},
   "outputs": [
    {
     "data": {
      "text/plain": [
       "0.9285714285714286"
      ]
     },
     "execution_count": 13,
     "metadata": {},
     "output_type": "execute_result"
    }
   ],
   "source": [
    "#Train Accuracy\n",
    "DecisionTree.score(Xtrain,Ytrain)"
   ]
  },
  {
   "cell_type": "code",
   "execution_count": 14,
   "id": "f5bed020-db32-4034-9c6c-926e07621bdc",
   "metadata": {},
   "outputs": [
    {
     "data": {
      "text/plain": [
       "0.9075757575757576"
      ]
     },
     "execution_count": 14,
     "metadata": {},
     "output_type": "execute_result"
    }
   ],
   "source": [
    "#Test Accuracy\n",
    "DecisionTree.score(Xtest,Ytest)"
   ]
  },
  {
   "cell_type": "code",
   "execution_count": 12,
   "id": "cbc4e78f-8eb5-460b-8d81-56b811b1830b",
   "metadata": {},
   "outputs": [
    {
     "name": "stdout",
     "output_type": "stream",
     "text": [
      "              precision    recall  f1-score   support\n",
      "\n",
      "       apple       1.00      1.00      1.00        26\n",
      "      banana       0.93      1.00      0.96        25\n",
      "   blackgram       0.76      0.85      0.80        33\n",
      "    chickpea       1.00      1.00      1.00        33\n",
      "     coconut       1.00      1.00      1.00        32\n",
      "      coffee       0.90      0.93      0.91        28\n",
      "      cotton       0.93      1.00      0.97        28\n",
      "      grapes       1.00      1.00      1.00        35\n",
      "        jute       1.00      0.19      0.32        32\n",
      " kidneybeans       1.00      0.68      0.81        25\n",
      "      lentil       0.94      1.00      0.97        33\n",
      "       maize       0.89      0.57      0.69        30\n",
      "       mango       1.00      0.94      0.97        34\n",
      "   mothbeans       0.59      0.88      0.71        26\n",
      "    mungbean       1.00      1.00      1.00        26\n",
      "   muskmelon       1.00      1.00      1.00        26\n",
      "      orange       1.00      1.00      1.00        27\n",
      "      papaya       1.00      0.95      0.97        38\n",
      "  pigeonpeas       0.95      1.00      0.97        35\n",
      " pomegranate       1.00      1.00      1.00        27\n",
      "        rice       0.56      1.00      0.72        29\n",
      "  watermelon       1.00      1.00      1.00        32\n",
      "\n",
      "    accuracy                           0.91       660\n",
      "   macro avg       0.93      0.91      0.90       660\n",
      "weighted avg       0.93      0.91      0.90       660\n",
      "\n"
     ]
    }
   ],
   "source": [
    "from sklearn.metrics import classification_report,confusion_matrix,ConfusionMatrixDisplay\n",
    "print(classification_report(Ytest,predicted_values))"
   ]
  },
  {
   "cell_type": "code",
   "execution_count": 15,
   "id": "cb7b216a-4264-42fe-829c-a7fca7dd43d3",
   "metadata": {},
   "outputs": [
    {
     "data": {
      "text/plain": [
       "array([0.93636364, 0.91136364, 0.92045455, 0.87272727, 0.93636364])"
      ]
     },
     "execution_count": 15,
     "metadata": {},
     "output_type": "execute_result"
    }
   ],
   "source": [
    "score = cross_val_score(DecisionTree, features, target,cv=5)\n",
    "score"
   ]
  },
  {
   "cell_type": "code",
   "execution_count": 16,
   "id": "2866cfd4-28e7-4ccc-abfb-72da64152cf6",
   "metadata": {},
   "outputs": [
    {
     "data": {
      "text/plain": [
       "0.9154545454545454"
      ]
     },
     "execution_count": 16,
     "metadata": {},
     "output_type": "execute_result"
    }
   ],
   "source": [
    "score.mean()"
   ]
  },
  {
   "cell_type": "code",
   "execution_count": 17,
   "id": "8fe3b5b6-656d-4b54-b801-fc676bf4fd81",
   "metadata": {},
   "outputs": [],
   "source": [
    "import matplotlib.pyplot as plt\n",
    "import seaborn as sns"
   ]
  },
  {
   "cell_type": "code",
   "execution_count": 18,
   "id": "bb7c5a6d-d96c-4c12-8bc4-2cd5bcf108d3",
   "metadata": {},
   "outputs": [],
   "source": [
    "scores=[0.9285714285714286,0.9075757575757576,0.9154545454545454]\n",
    "labels=[\"Train\",\"Test\",\"CV\"]"
   ]
  },
  {
   "cell_type": "code",
   "execution_count": 24,
   "id": "5154f1a7-1b48-4e11-964e-92da9b445408",
   "metadata": {},
   "outputs": [
    {
     "data": {
      "text/plain": [
       "(0.5, 1.0)"
      ]
     },
     "execution_count": 24,
     "metadata": {},
     "output_type": "execute_result"
    },
    {
     "data": {
      "image/png": "[encoded data removed]",
      "text/plain": [
       "<Figure size 600x400 with 1 Axes>"
      ]
     },
     "metadata": {},
     "output_type": "display_data"
    }
   ],
   "source": [
    "plt.figure(figsize=[6,4],dpi = 100)\n",
    "plt.title('Model Accuracies')\n",
    "plt.xlabel('Accuracy')\n",
    "plt.ylabel('Type')\n",
    "sns.barplot(x = scores,y = labels,palette=\"dark\")\n",
    "plt.xlim(0.5,1)"
   ]
  },
  {
   "cell_type": "code",
   "execution_count": 27,
   "id": "a3ef8e39-96e6-4ecd-9300-3a8f8837d77f",
   "metadata": {},
   "outputs": [
    {
     "name": "stdout",
     "output_type": "stream",
     "text": [
      "Predicted Crop Label: chickpea\n",
      "Predicted Crop Label: coffee\n"
     ]
    }
   ],
   "source": [
    "def predict_crop_label(input_features):\n",
    "    \n",
    "    \n",
    "    input_features = np.array(input_features).reshape(1, -1) \n",
    "    \n",
    "    # Predict the crop label using the LogReg model\n",
    "    predicted_label = DecisionTree.predict(input_features)\n",
    "    \n",
    "    return predicted_label[0]  # Return the predicted label\n",
    "\n",
    "# Example usage:\n",
    "user_input = [83, 45, 60, 28, 70.3, 7.0, 150.9]  # Example input features (N, P, K, pH, temperature, humidity, rainfall)\n",
    "predicted_crop_label = predict_crop_label(user_input)\n",
    "print(\"Predicted Crop Label:\", predicted_crop_label)\n",
    "\n",
    "user_input = [104,18, 30, 23.603016, 60.3, 6.7, 140.91]  # Example input features (N, P, K, pH, temperature, humidity, rainfall)\n",
    "predicted_crop_label = predict_crop_label(user_input)\n",
    "print(\"Predicted Crop Label:\", predicted_crop_label)"
   ]
  },
  {
   "cell_type": "code",
   "execution_count": null,
   "id": "5ecfa22c-1961-4960-a600-72131ea31e16",
   "metadata": {},
   "outputs": [],
   "source": []
  }
 ],
 "metadata": {
  "kernelspec": {
   "display_name": "Python 3 (ipykernel)",
   "language": "python",
   "name": "python3"
  },
  "language_info": {
   "codemirror_mode": {
    "name": "ipython",
    "version": 3
   },
   "file_extension": ".py",
   "mimetype": "text/x-python",
   "name": "python",
   "nbconvert_exporter": "python",
   "pygments_lexer": "ipython3",
   "version": "3.11.3"
  }
 },
 "nbformat": 4,
 "nbformat_minor": 5
}
