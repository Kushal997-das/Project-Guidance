{
 "cells": [
  {
   "cell_type": "code",
   "execution_count": 1,
   "id": "1729b974",
   "metadata": {},
   "outputs": [
    {
     "name": "stdout",
     "output_type": "stream",
     "text": [
      "WARNING:tensorflow:From C:\\Users\\ishit\\anaconda3\\lib\\site-packages\\keras\\src\\losses.py:2976: The name tf.losses.sparse_softmax_cross_entropy is deprecated. Please use tf.compat.v1.losses.sparse_softmax_cross_entropy instead.\n",
      "\n"
     ]
    }
   ],
   "source": [
    "import cv2\n",
    "import numpy as np\n",
    "import matplotlib.pyplot as plt\n",
    "from sklearn.model_selection import train_test_split\n",
    "from tensorflow.keras.preprocessing.image import ImageDataGenerator\n",
    "from tensorflow.keras.models import Sequential\n",
    "from tensorflow.keras.layers import Conv2D, MaxPooling2D, Flatten, Dense, Dropout, Activation, BatchNormalization\n",
    "from tensorflow.keras.models import load_model"
   ]
  },
  {
   "cell_type": "code",
   "execution_count": 2,
   "id": "bc381e86",
   "metadata": {},
   "outputs": [],
   "source": [
    "data = 'Train'"
   ]
  },
  {
   "cell_type": "code",
   "execution_count": 3,
   "id": "707a0f25",
   "metadata": {},
   "outputs": [],
   "source": [
    "datagen = ImageDataGenerator(\n",
    "    rescale=1./255,\n",
    "    rotation_range=10,\n",
    "    width_shift_range=0.1,\n",
    "    height_shift_range=0.1,\n",
    "    shear_range=0.1,\n",
    "    zoom_range=0.1,\n",
    "    horizontal_flip=False,\n",
    "    fill_mode='nearest')"
   ]
  },
  {
   "cell_type": "code",
   "execution_count": 4,
   "id": "15fb1a6c",
   "metadata": {},
   "outputs": [
    {
     "name": "stdout",
     "output_type": "stream",
     "text": [
      "Found 97224 images belonging to 100 classes.\n"
     ]
    }
   ],
   "source": [
    "data_generator = datagen.flow_from_directory(\n",
    "    data,\n",
    "    target_size=(28, 28),  \n",
    "    batch_size=32,\n",
    "    class_mode='categorical',\n",
    "    shuffle=False)"
   ]
  },
  {
   "cell_type": "code",
   "execution_count": 5,
   "id": "d93c38ea",
   "metadata": {},
   "outputs": [],
   "source": [
    "X = []\n",
    "y = []\n",
    "\n",
    "for i in range(len(data_generator)):\n",
    "    batch_x, batch_y = data_generator[i]\n",
    "    X.extend(batch_x)\n",
    "    y.extend(batch_y)\n",
    "\n",
    "X = np.array(X)\n",
    "y = np.array(y)"
   ]
  },
  {
   "cell_type": "code",
   "execution_count": 8,
   "id": "77be9e53",
   "metadata": {},
   "outputs": [
    {
     "name": "stdout",
     "output_type": "stream",
     "text": [
      "(77779, 28, 28, 3)\n",
      "(77779, 28, 28, 3)\n",
      "(77779, 100)\n",
      "(19445, 100)\n"
     ]
    }
   ],
   "source": [
    "X_train, X_test, y_train, y_test = train_test_split(X, y, test_size=0.2, random_state=42)\n",
    "print(X_train.shape)\n",
    "print(X_test.shape)\n",
    "print(y_train.shape)\n",
    "print(y_test.shape)"
   ]
  },
  {
   "cell_type": "code",
   "execution_count": 9,
   "id": "06897197",
   "metadata": {},
   "outputs": [
    {
     "name": "stdout",
     "output_type": "stream",
     "text": [
      "Model: \"sequential_1\"\n",
      "_________________________________________________________________\n",
      " Layer (type)                Output Shape              Param #   \n",
      "=================================================================\n",
      " conv2d_5 (Conv2D)           (None, 28, 28, 32)        896       \n",
      "                                                                 \n",
      " activation_6 (Activation)   (None, 28, 28, 32)        0         \n",
      "                                                                 \n",
      " batch_normalization_5 (Bat  (None, 28, 28, 32)        128       \n",
      " chNormalization)                                                \n",
      "                                                                 \n",
      " max_pooling2d_5 (MaxPoolin  (None, 14, 14, 32)        0         \n",
      " g2D)                                                            \n",
      "                                                                 \n",
      " dropout_6 (Dropout)         (None, 14, 14, 32)        0         \n",
      "                                                                 \n",
      " conv2d_6 (Conv2D)           (None, 14, 14, 64)        51264     \n",
      "                                                                 \n",
      " activation_7 (Activation)   (None, 14, 14, 64)        0         \n",
      "                                                                 \n",
      " batch_normalization_6 (Bat  (None, 14, 14, 64)        256       \n",
      " chNormalization)                                                \n",
      "                                                                 \n",
      " max_pooling2d_6 (MaxPoolin  (None, 7, 7, 64)          0         \n",
      " g2D)                                                            \n",
      "                                                                 \n",
      " dropout_7 (Dropout)         (None, 7, 7, 64)          0         \n",
      "                                                                 \n",
      " conv2d_7 (Conv2D)           (None, 7, 7, 128)         73856     \n",
      "                                                                 \n",
      " activation_8 (Activation)   (None, 7, 7, 128)         0         \n",
      "                                                                 \n",
      " batch_normalization_7 (Bat  (None, 7, 7, 128)         512       \n",
      " chNormalization)                                                \n",
      "                                                                 \n",
      " max_pooling2d_7 (MaxPoolin  (None, 4, 4, 128)         0         \n",
      " g2D)                                                            \n",
      "                                                                 \n",
      " dropout_8 (Dropout)         (None, 4, 4, 128)         0         \n",
      "                                                                 \n",
      " conv2d_8 (Conv2D)           (None, 4, 4, 256)         819456    \n",
      "                                                                 \n",
      " activation_9 (Activation)   (None, 4, 4, 256)         0         \n",
      "                                                                 \n",
      " batch_normalization_8 (Bat  (None, 4, 4, 256)         1024      \n",
      " chNormalization)                                                \n",
      "                                                                 \n",
      " max_pooling2d_8 (MaxPoolin  (None, 2, 2, 256)         0         \n",
      " g2D)                                                            \n",
      "                                                                 \n",
      " dropout_9 (Dropout)         (None, 2, 2, 256)         0         \n",
      "                                                                 \n",
      " conv2d_9 (Conv2D)           (None, 2, 2, 512)         1180160   \n",
      "                                                                 \n",
      " activation_10 (Activation)  (None, 2, 2, 512)         0         \n",
      "                                                                 \n",
      " batch_normalization_9 (Bat  (None, 2, 2, 512)         2048      \n",
      " chNormalization)                                                \n",
      "                                                                 \n",
      " max_pooling2d_9 (MaxPoolin  (None, 1, 1, 512)         0         \n",
      " g2D)                                                            \n",
      "                                                                 \n",
      " dropout_10 (Dropout)        (None, 1, 1, 512)         0         \n",
      "                                                                 \n",
      " flatten_1 (Flatten)         (None, 512)               0         \n",
      "                                                                 \n",
      " dense_2 (Dense)             (None, 2048)              1050624   \n",
      "                                                                 \n",
      " activation_11 (Activation)  (None, 2048)              0         \n",
      "                                                                 \n",
      " dropout_11 (Dropout)        (None, 2048)              0         \n",
      "                                                                 \n",
      " dense_3 (Dense)             (None, 100)               204900    \n",
      "                                                                 \n",
      "=================================================================\n",
      "Total params: 3385124 (12.91 MB)\n",
      "Trainable params: 3383140 (12.91 MB)\n",
      "Non-trainable params: 1984 (7.75 KB)\n",
      "_________________________________________________________________\n"
     ]
    }
   ],
   "source": [
    "model = Sequential()\n",
    "\n",
    "model.add(Conv2D(32, (3,3), strides = 1, padding = 'same', input_shape = (28,28,3)))\n",
    "model.add(Activation('relu'))\n",
    "model.add(BatchNormalization())\n",
    "model.add(MaxPooling2D(pool_size = (2,2), padding = 'same'))\n",
    "model.add(Dropout(0.2))\n",
    "\n",
    "model.add(Conv2D(64, (5,5), padding = 'same'))\n",
    "model.add(Activation('relu'))\n",
    "model.add(BatchNormalization())\n",
    "model.add(MaxPooling2D(pool_size = (2,2), padding = 'same'))\n",
    "model.add(Dropout(0.2))\n",
    "\n",
    "model.add(Conv2D(128, (3,3), padding = 'same'))\n",
    "model.add(Activation('relu'))\n",
    "model.add(BatchNormalization())\n",
    "model.add(MaxPooling2D(pool_size = (2,2), padding = 'same'))\n",
    "model.add(Dropout(0.3))\n",
    "\n",
    "model.add(Conv2D(256, (5,5), padding = 'same'))\n",
    "model.add(Activation('relu'))\n",
    "model.add(BatchNormalization())\n",
    "model.add(MaxPooling2D(pool_size = (2,2), padding = 'same'))\n",
    "model.add(Dropout(0.3))\n",
    "\n",
    "model.add(Conv2D(512, (3,3), padding = 'same'))\n",
    "model.add(Activation('relu'))\n",
    "model.add(BatchNormalization())\n",
    "model.add(MaxPooling2D(pool_size = (2,2), padding = 'same'))\n",
    "model.add(Dropout(0.3))\n",
    "\n",
    "model.add(Flatten())\n",
    "\n",
    "model.add(Dense(2048))\n",
    "model.add(Activation('relu'))\n",
    "model.add(Dropout(0.5))\n",
    "\n",
    "model.add(Dense(100, activation = 'softmax')) \n",
    "\n",
    "model.compile(optimizer='adam', loss='categorical_crossentropy', metrics=['accuracy'])\n",
    "model.summary()"
   ]
  },
  {
   "cell_type": "code",
   "execution_count": 10,
   "id": "0bcaf785",
   "metadata": {},
   "outputs": [
    {
     "name": "stdout",
     "output_type": "stream",
     "text": [
      "Epoch 1/30\n",
      "WARNING:tensorflow:From C:\\Users\\ishit\\anaconda3\\lib\\site-packages\\keras\\src\\utils\\tf_utils.py:492: The name tf.ragged.RaggedTensorValue is deprecated. Please use tf.compat.v1.ragged.RaggedTensorValue instead.\n",
      "\n",
      "WARNING:tensorflow:From C:\\Users\\ishit\\anaconda3\\lib\\site-packages\\keras\\src\\engine\\base_layer_utils.py:384: The name tf.executing_eagerly_outside_functions is deprecated. Please use tf.compat.v1.executing_eagerly_outside_functions instead.\n",
      "\n",
      "2431/2431 [==============================] - 486s 198ms/step - loss: 1.4032 - accuracy: 0.6323 - val_loss: 0.2121 - val_accuracy: 0.9397\n",
      "Epoch 2/30\n",
      "2431/2431 [==============================] - 471s 194ms/step - loss: 0.3937 - accuracy: 0.8948 - val_loss: 0.1531 - val_accuracy: 0.9602\n",
      "Epoch 3/30\n",
      "2431/2431 [==============================] - 473s 194ms/step - loss: 0.3044 - accuracy: 0.9205 - val_loss: 0.1462 - val_accuracy: 0.9635\n",
      "Epoch 4/30\n",
      "2431/2431 [==============================] - 484s 199ms/step - loss: 0.2626 - accuracy: 0.9322 - val_loss: 0.1200 - val_accuracy: 0.9702\n",
      "Epoch 5/30\n",
      "2431/2431 [==============================] - 477s 196ms/step - loss: 0.2198 - accuracy: 0.9430 - val_loss: 0.1046 - val_accuracy: 0.9745\n",
      "Epoch 6/30\n",
      "2431/2431 [==============================] - 473s 195ms/step - loss: 0.1986 - accuracy: 0.9479 - val_loss: 0.0906 - val_accuracy: 0.9780\n",
      "Epoch 7/30\n",
      "2431/2431 [==============================] - 480s 198ms/step - loss: 0.1754 - accuracy: 0.9545 - val_loss: 0.0801 - val_accuracy: 0.9782\n",
      "Epoch 8/30\n",
      "2431/2431 [==============================] - 474s 195ms/step - loss: 0.1576 - accuracy: 0.9582 - val_loss: 0.0694 - val_accuracy: 0.9808\n",
      "Epoch 9/30\n",
      "2431/2431 [==============================] - 476s 196ms/step - loss: 0.1439 - accuracy: 0.9627 - val_loss: 0.0669 - val_accuracy: 0.9828\n",
      "Epoch 10/30\n",
      "2431/2431 [==============================] - 474s 195ms/step - loss: 0.1250 - accuracy: 0.9668 - val_loss: 0.0575 - val_accuracy: 0.9842\n",
      "Epoch 11/30\n",
      "2431/2431 [==============================] - 478s 197ms/step - loss: 0.1175 - accuracy: 0.9690 - val_loss: 0.0505 - val_accuracy: 0.9862\n",
      "Epoch 12/30\n",
      "2431/2431 [==============================] - 480s 197ms/step - loss: 0.1081 - accuracy: 0.9696 - val_loss: 0.0613 - val_accuracy: 0.9845\n",
      "Epoch 13/30\n",
      "2431/2431 [==============================] - 474s 195ms/step - loss: 0.0983 - accuracy: 0.9729 - val_loss: 0.0493 - val_accuracy: 0.9871\n",
      "Epoch 14/30\n",
      "2431/2431 [==============================] - 474s 195ms/step - loss: 0.0899 - accuracy: 0.9751 - val_loss: 0.0468 - val_accuracy: 0.9874\n",
      "Epoch 15/30\n",
      "2431/2431 [==============================] - 425s 175ms/step - loss: 0.0878 - accuracy: 0.9757 - val_loss: 0.0471 - val_accuracy: 0.9877\n",
      "Epoch 16/30\n",
      "2431/2431 [==============================] - 381s 157ms/step - loss: 0.0802 - accuracy: 0.9772 - val_loss: 0.0471 - val_accuracy: 0.9878\n",
      "Epoch 17/30\n",
      "2431/2431 [==============================] - 385s 158ms/step - loss: 0.0768 - accuracy: 0.9786 - val_loss: 0.0528 - val_accuracy: 0.9858\n",
      "Epoch 18/30\n",
      "2431/2431 [==============================] - 382s 157ms/step - loss: 0.0755 - accuracy: 0.9792 - val_loss: 0.0460 - val_accuracy: 0.9869\n",
      "Epoch 19/30\n",
      "2431/2431 [==============================] - 381s 157ms/step - loss: 0.0677 - accuracy: 0.9807 - val_loss: 0.0471 - val_accuracy: 0.9870\n",
      "Epoch 20/30\n",
      "2431/2431 [==============================] - 377s 155ms/step - loss: 0.0679 - accuracy: 0.9802 - val_loss: 0.0486 - val_accuracy: 0.9878\n",
      "Epoch 21/30\n",
      "2431/2431 [==============================] - 377s 155ms/step - loss: 0.0667 - accuracy: 0.9813 - val_loss: 0.0393 - val_accuracy: 0.9885\n",
      "Epoch 22/30\n",
      "2431/2431 [==============================] - 382s 157ms/step - loss: 0.0650 - accuracy: 0.9817 - val_loss: 0.0385 - val_accuracy: 0.9900\n",
      "Epoch 23/30\n",
      "2431/2431 [==============================] - 378s 156ms/step - loss: 0.0610 - accuracy: 0.9830 - val_loss: 0.0397 - val_accuracy: 0.9897\n",
      "Epoch 24/30\n",
      "2431/2431 [==============================] - 381s 157ms/step - loss: 0.0633 - accuracy: 0.9825 - val_loss: 0.0369 - val_accuracy: 0.9904\n",
      "Epoch 25/30\n",
      "2431/2431 [==============================] - 379s 156ms/step - loss: 0.0581 - accuracy: 0.9836 - val_loss: 0.0457 - val_accuracy: 0.9887\n",
      "Epoch 26/30\n",
      "2431/2431 [==============================] - 381s 157ms/step - loss: 0.0592 - accuracy: 0.9835 - val_loss: 0.0317 - val_accuracy: 0.9907\n",
      "Epoch 27/30\n",
      "2431/2431 [==============================] - 377s 155ms/step - loss: 0.0566 - accuracy: 0.9844 - val_loss: 0.0407 - val_accuracy: 0.9899\n",
      "Epoch 28/30\n",
      "2431/2431 [==============================] - 375s 154ms/step - loss: 0.0562 - accuracy: 0.9844 - val_loss: 0.0426 - val_accuracy: 0.9894\n",
      "Epoch 29/30\n",
      "2431/2431 [==============================] - 380s 156ms/step - loss: 0.0533 - accuracy: 0.9854 - val_loss: 0.0371 - val_accuracy: 0.9910\n",
      "Epoch 30/30\n",
      "2431/2431 [==============================] - 380s 156ms/step - loss: 0.0550 - accuracy: 0.9847 - val_loss: 0.0399 - val_accuracy: 0.9913\n"
     ]
    }
   ],
   "source": [
    "history = model.fit(\n",
    "    X_train,\n",
    "    y_train,\n",
    "    epochs=30,\n",
    "    validation_data=(X_test, y_test)\n",
    ")"
   ]
  },
  {
   "cell_type": "code",
   "execution_count": 11,
   "id": "78521c53",
   "metadata": {},
   "outputs": [
    {
     "name": "stdout",
     "output_type": "stream",
     "text": [
      "Training Accuracy: 99.92%\n",
      "Testing Accuracy: 99.13%\n"
     ]
    }
   ],
   "source": [
    "train_loss, train_accuracy = model.evaluate(X_train, y_train, verbose=0)\n",
    "test_loss, test_accuracy = model.evaluate(X_test, y_test, verbose=0)\n",
    "\n",
    "print(f\"Training Accuracy: {train_accuracy*100:.2f}%\")\n",
    "print(f\"Testing Accuracy: {test_accuracy*100:.2f}%\")"
   ]
  },
  {
   "cell_type": "code",
   "execution_count": 12,
   "id": "f15931b7",
   "metadata": {},
   "outputs": [
    {
     "data": {
      "image/png": "[encoded data removed]",
      "text/plain": [
       "<Figure size 1200x400 with 2 Axes>"
      ]
     },
     "metadata": {},
     "output_type": "display_data"
    }
   ],
   "source": [
    "plt.figure(figsize=(12, 4))\n",
    "\n",
    "plt.subplot(1, 2, 1)\n",
    "plt.plot(history.history['accuracy'])\n",
    "plt.plot(history.history['val_accuracy'])\n",
    "plt.title('Model accuracy')\n",
    "plt.ylabel('Accuracy')\n",
    "plt.xlabel('Epoch')\n",
    "plt.legend(['Train', 'Test'], loc='upper left')\n",
    "\n",
    "plt.subplot(1, 2, 2)\n",
    "plt.plot(history.history['loss'])\n",
    "plt.plot(history.history['val_loss'])\n",
    "plt.title('Model loss')\n",
    "plt.ylabel('Loss')\n",
    "plt.xlabel('Epoch')\n",
    "plt.legend(['Train', 'Test'], loc='upper left')\n",
    "\n",
    "plt.tight_layout()\n",
    "plt.show()"
   ]
  },
  {
   "cell_type": "code",
   "execution_count": 13,
   "id": "580158d3",
   "metadata": {},
   "outputs": [
    {
     "name": "stderr",
     "output_type": "stream",
     "text": [
      "C:\\Users\\ishit\\anaconda3\\lib\\site-packages\\keras\\src\\engine\\training.py:3103: UserWarning: You are saving your model as an HDF5 file via `model.save()`. This file format is considered legacy. We recommend using instead the native Keras format, e.g. `model.save('my_model.keras')`.\n",
      "  saving_api.save_model(\n"
     ]
    },
    {
     "name": "stdout",
     "output_type": "stream",
     "text": [
      "Model saved successfully\n"
     ]
    }
   ],
   "source": [
    "model.save('model.h5')\n",
    "print(\"Model saved successfully\")"
   ]
  },
  {
   "cell_type": "code",
   "execution_count": 30,
   "id": "ff65b2c1",
   "metadata": {},
   "outputs": [
    {
     "name": "stdout",
     "output_type": "stream",
     "text": [
      "Enter image path (or 'exit' to quit): Test\\0\\img_4.png\n"
     ]
    },
    {
     "data": {
      "image/png": "[encoded data removed]",
      "text/plain": [
       "<Figure size 640x480 with 1 Axes>"
      ]
     },
     "metadata": {},
     "output_type": "display_data"
    },
    {
     "name": "stdout",
     "output_type": "stream",
     "text": [
      "1/1 [==============================] - 0s 343ms/step\n",
      "Predicted Class: 0\n",
      "Enter image path (or 'exit' to quit): Test\\97\\img_2.png\n"
     ]
    },
    {
     "data": {
      "image/png": "[encoded data removed]",
      "text/plain": [
       "<Figure size 640x480 with 1 Axes>"
      ]
     },
     "metadata": {},
     "output_type": "display_data"
    },
    {
     "name": "stdout",
     "output_type": "stream",
     "text": [
      "1/1 [==============================] - 0s 75ms/step\n",
      "Predicted Class: 97\n",
      "Enter image path (or 'exit' to quit): Test\\99\\img_3.png\n"
     ]
    },
    {
     "data": {
      "image/png": "[encoded data removed]",
      "text/plain": [
       "<Figure size 640x480 with 1 Axes>"
      ]
     },
     "metadata": {},
     "output_type": "display_data"
    },
    {
     "name": "stdout",
     "output_type": "stream",
     "text": [
      "1/1 [==============================] - 0s 54ms/step\n",
      "Predicted Class: 99\n",
      "Enter image path (or 'exit' to quit): Test\\78\\img_2.png\n"
     ]
    },
    {
     "data": {
      "image/png": "[encoded data removed]",
      "text/plain": [
       "<Figure size 640x480 with 1 Axes>"
      ]
     },
     "metadata": {},
     "output_type": "display_data"
    },
    {
     "name": "stdout",
     "output_type": "stream",
     "text": [
      "1/1 [==============================] - 0s 55ms/step\n",
      "Predicted Class: 76\n",
      "Enter image path (or 'exit' to quit): Test\\15\\img_3.png\n"
     ]
    },
    {
     "data": {
      "image/png": "[encoded data removed]",
      "text/plain": [
       "<Figure size 640x480 with 1 Axes>"
      ]
     },
     "metadata": {},
     "output_type": "display_data"
    },
    {
     "name": "stdout",
     "output_type": "stream",
     "text": [
      "1/1 [==============================] - 0s 55ms/step\n",
      "Predicted Class: 7\n",
      "Enter image path (or 'exit' to quit): exit\n",
      "Exited\n"
     ]
    }
   ],
   "source": [
    "import cv2\n",
    "import numpy as np\n",
    "import matplotlib.pyplot as plt\n",
    "from tensorflow.keras.models import load_model\n",
    "\n",
    "model = load_model('model.h5')\n",
    "\n",
    "while True:\n",
    "    image_path = input(\"Enter image path (or 'exit' to quit): \")\n",
    "    if image_path.lower() == 'exit':\n",
    "        print(\"Exited\")\n",
    "        break\n",
    "    image = cv2.imread(image_path)\n",
    "    if image is None:\n",
    "        print(\"Invalid image path. Please try again.\")\n",
    "        continue\n",
    "\n",
    "    plt.imshow(image)\n",
    "    plt.axis('off')  \n",
    "    plt.show()\n",
    "    \n",
    "    resized_image = cv2.resize(image, (28, 28))\n",
    "    processed_image = resized_image / 255.0  \n",
    "    processed_image = np.expand_dims(processed_image, axis=0)\n",
    "    \n",
    "    predictions = model.predict(processed_image)\n",
    "    predicted_class_index = np.argmax(predictions)\n",
    "    print(f\"Predicted Class: {predicted_class_index}\")"
   ]
  }
 ],
 "metadata": {
  "kernelspec": {
   "display_name": "Python 3 (ipykernel)",
   "language": "python",
   "name": "python3"
  },
  "language_info": {
   "codemirror_mode": {
    "name": "ipython",
    "version": 3
   },
   "file_extension": ".py",
   "mimetype": "text/x-python",
   "name": "python",
   "nbconvert_exporter": "python",
   "pygments_lexer": "ipython3",
   "version": "3.9.16"
  }
 },
 "nbformat": 4,
 "nbformat_minor": 5
}
