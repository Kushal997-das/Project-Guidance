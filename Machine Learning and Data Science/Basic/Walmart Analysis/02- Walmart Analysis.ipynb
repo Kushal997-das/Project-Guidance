{
 "cells": [
  {
   "cell_type": "markdown",
   "id": "b8834d2c",
   "metadata": {},
   "source": [
    "# WALMART ANALYSIS"
   ]
  },
  {
   "cell_type": "code",
   "execution_count": 1,
   "id": "9e4d1d17",
   "metadata": {},
   "outputs": [],
   "source": [
    "import numpy as np\n",
    "import pandas as pd\n",
    "import matplotlib.pyplot as plt\n",
    "import seaborn as sns\n",
    "import datetime\n",
    "%matplotlib inline"
   ]
  },
  {
   "cell_type": "code",
   "execution_count": 2,
   "id": "6aee3261",
   "metadata": {},
   "outputs": [],
   "source": [
    "train_df = pd.read_csv(\"C:\\\\Users\\\\shash\\\\OneDrive\\\\Desktop\\\\Python Projects\\Walmart Analysis\\\\train.csv\")\n",
    "test_df = pd.read_csv(\"C:\\\\Users\\\\shash\\\\OneDrive\\\\Desktop\\\\Python Projects\\Walmart Analysis\\\\test.csv\")\n",
    "features_df = pd.read_csv(\"C:\\\\Users\\\\shash\\\\OneDrive\\\\Desktop\\\\Python Projects\\Walmart Analysis\\\\features.csv\")\n",
    "stores_df = pd.read_csv(\"C:\\\\Users\\\\shash\\\\OneDrive\\\\Desktop\\\\Python Projects\\Walmart Analysis\\\\stores.csv\")"
   ]
  },
  {
   "cell_type": "code",
   "execution_count": 3,
   "id": "11fe195a",
   "metadata": {},
   "outputs": [
    {
     "data": {
      "text/html": [
       "<div>\n",
       "<style scoped>\n",
       "    .dataframe tbody tr th:only-of-type {\n",
       "        vertical-align: middle;\n",
       "    }\n",
       "\n",
       "    .dataframe tbody tr th {\n",
       "        vertical-align: top;\n",
       "    }\n",
       "\n",
       "    .dataframe thead th {\n",
       "        text-align: right;\n",
       "    }\n",
       "</style>\n",
       "<table border=\"1\" class=\"dataframe\">\n",
       "  <thead>\n",
       "    <tr style=\"text-align: right;\">\n",
       "      <th></th>\n",
       "      <th>Store</th>\n",
       "      <th>Dept</th>\n",
       "      <th>Date</th>\n",
       "      <th>Weekly_Sales</th>\n",
       "      <th>IsHoliday</th>\n",
       "    </tr>\n",
       "  </thead>\n",
       "  <tbody>\n",
       "    <tr>\n",
       "      <th>0</th>\n",
       "      <td>1</td>\n",
       "      <td>1</td>\n",
       "      <td>2010-02-05</td>\n",
       "      <td>24924.50</td>\n",
       "      <td>False</td>\n",
       "    </tr>\n",
       "    <tr>\n",
       "      <th>1</th>\n",
       "      <td>1</td>\n",
       "      <td>1</td>\n",
       "      <td>2010-02-12</td>\n",
       "      <td>46039.49</td>\n",
       "      <td>True</td>\n",
       "    </tr>\n",
       "    <tr>\n",
       "      <th>2</th>\n",
       "      <td>1</td>\n",
       "      <td>1</td>\n",
       "      <td>2010-02-19</td>\n",
       "      <td>41595.55</td>\n",
       "      <td>False</td>\n",
       "    </tr>\n",
       "    <tr>\n",
       "      <th>3</th>\n",
       "      <td>1</td>\n",
       "      <td>1</td>\n",
       "      <td>2010-02-26</td>\n",
       "      <td>19403.54</td>\n",
       "      <td>False</td>\n",
       "    </tr>\n",
       "    <tr>\n",
       "      <th>4</th>\n",
       "      <td>1</td>\n",
       "      <td>1</td>\n",
       "      <td>2010-03-05</td>\n",
       "      <td>21827.90</td>\n",
       "      <td>False</td>\n",
       "    </tr>\n",
       "  </tbody>\n",
       "</table>\n",
       "</div>"
      ],
      "text/plain": [
       "   Store  Dept        Date  Weekly_Sales  IsHoliday\n",
       "0      1     1  2010-02-05      24924.50      False\n",
       "1      1     1  2010-02-12      46039.49       True\n",
       "2      1     1  2010-02-19      41595.55      False\n",
       "3      1     1  2010-02-26      19403.54      False\n",
       "4      1     1  2010-03-05      21827.90      False"
      ]
     },
     "execution_count": 3,
     "metadata": {},
     "output_type": "execute_result"
    }
   ],
   "source": [
    "# Train Dataframe\n",
    "train_df.head()"
   ]
  },
  {
   "cell_type": "code",
   "execution_count": 4,
   "id": "9b2bbb8b",
   "metadata": {},
   "outputs": [
    {
     "data": {
      "text/html": [
       "<div>\n",
       "<style scoped>\n",
       "    .dataframe tbody tr th:only-of-type {\n",
       "        vertical-align: middle;\n",
       "    }\n",
       "\n",
       "    .dataframe tbody tr th {\n",
       "        vertical-align: top;\n",
       "    }\n",
       "\n",
       "    .dataframe thead th {\n",
       "        text-align: right;\n",
       "    }\n",
       "</style>\n",
       "<table border=\"1\" class=\"dataframe\">\n",
       "  <thead>\n",
       "    <tr style=\"text-align: right;\">\n",
       "      <th></th>\n",
       "      <th>Store</th>\n",
       "      <th>Dept</th>\n",
       "      <th>Date</th>\n",
       "      <th>IsHoliday</th>\n",
       "    </tr>\n",
       "  </thead>\n",
       "  <tbody>\n",
       "    <tr>\n",
       "      <th>0</th>\n",
       "      <td>1</td>\n",
       "      <td>1</td>\n",
       "      <td>2012-11-02</td>\n",
       "      <td>False</td>\n",
       "    </tr>\n",
       "    <tr>\n",
       "      <th>1</th>\n",
       "      <td>1</td>\n",
       "      <td>1</td>\n",
       "      <td>2012-11-09</td>\n",
       "      <td>False</td>\n",
       "    </tr>\n",
       "    <tr>\n",
       "      <th>2</th>\n",
       "      <td>1</td>\n",
       "      <td>1</td>\n",
       "      <td>2012-11-16</td>\n",
       "      <td>False</td>\n",
       "    </tr>\n",
       "    <tr>\n",
       "      <th>3</th>\n",
       "      <td>1</td>\n",
       "      <td>1</td>\n",
       "      <td>2012-11-23</td>\n",
       "      <td>True</td>\n",
       "    </tr>\n",
       "    <tr>\n",
       "      <th>4</th>\n",
       "      <td>1</td>\n",
       "      <td>1</td>\n",
       "      <td>2012-11-30</td>\n",
       "      <td>False</td>\n",
       "    </tr>\n",
       "  </tbody>\n",
       "</table>\n",
       "</div>"
      ],
      "text/plain": [
       "   Store  Dept        Date  IsHoliday\n",
       "0      1     1  2012-11-02      False\n",
       "1      1     1  2012-11-09      False\n",
       "2      1     1  2012-11-16      False\n",
       "3      1     1  2012-11-23       True\n",
       "4      1     1  2012-11-30      False"
      ]
     },
     "execution_count": 4,
     "metadata": {},
     "output_type": "execute_result"
    }
   ],
   "source": [
    "# Test Dataframe\n",
    "test_df.head()"
   ]
  },
  {
   "cell_type": "code",
   "execution_count": 5,
   "id": "47ef2c1f",
   "metadata": {},
   "outputs": [
    {
     "data": {
      "text/html": [
       "<div>\n",
       "<style scoped>\n",
       "    .dataframe tbody tr th:only-of-type {\n",
       "        vertical-align: middle;\n",
       "    }\n",
       "\n",
       "    .dataframe tbody tr th {\n",
       "        vertical-align: top;\n",
       "    }\n",
       "\n",
       "    .dataframe thead th {\n",
       "        text-align: right;\n",
       "    }\n",
       "</style>\n",
       "<table border=\"1\" class=\"dataframe\">\n",
       "  <thead>\n",
       "    <tr style=\"text-align: right;\">\n",
       "      <th></th>\n",
       "      <th>Store</th>\n",
       "      <th>Date</th>\n",
       "      <th>Temperature</th>\n",
       "      <th>Fuel_Price</th>\n",
       "      <th>MarkDown1</th>\n",
       "      <th>MarkDown2</th>\n",
       "      <th>MarkDown3</th>\n",
       "      <th>MarkDown4</th>\n",
       "      <th>MarkDown5</th>\n",
       "      <th>CPI</th>\n",
       "      <th>Unemployment</th>\n",
       "      <th>IsHoliday</th>\n",
       "    </tr>\n",
       "  </thead>\n",
       "  <tbody>\n",
       "    <tr>\n",
       "      <th>0</th>\n",
       "      <td>1</td>\n",
       "      <td>2010-02-05</td>\n",
       "      <td>42.31</td>\n",
       "      <td>2.572</td>\n",
       "      <td>NaN</td>\n",
       "      <td>NaN</td>\n",
       "      <td>NaN</td>\n",
       "      <td>NaN</td>\n",
       "      <td>NaN</td>\n",
       "      <td>211.096358</td>\n",
       "      <td>8.106</td>\n",
       "      <td>False</td>\n",
       "    </tr>\n",
       "    <tr>\n",
       "      <th>1</th>\n",
       "      <td>1</td>\n",
       "      <td>2010-02-12</td>\n",
       "      <td>38.51</td>\n",
       "      <td>2.548</td>\n",
       "      <td>NaN</td>\n",
       "      <td>NaN</td>\n",
       "      <td>NaN</td>\n",
       "      <td>NaN</td>\n",
       "      <td>NaN</td>\n",
       "      <td>211.242170</td>\n",
       "      <td>8.106</td>\n",
       "      <td>True</td>\n",
       "    </tr>\n",
       "    <tr>\n",
       "      <th>2</th>\n",
       "      <td>1</td>\n",
       "      <td>2010-02-19</td>\n",
       "      <td>39.93</td>\n",
       "      <td>2.514</td>\n",
       "      <td>NaN</td>\n",
       "      <td>NaN</td>\n",
       "      <td>NaN</td>\n",
       "      <td>NaN</td>\n",
       "      <td>NaN</td>\n",
       "      <td>211.289143</td>\n",
       "      <td>8.106</td>\n",
       "      <td>False</td>\n",
       "    </tr>\n",
       "    <tr>\n",
       "      <th>3</th>\n",
       "      <td>1</td>\n",
       "      <td>2010-02-26</td>\n",
       "      <td>46.63</td>\n",
       "      <td>2.561</td>\n",
       "      <td>NaN</td>\n",
       "      <td>NaN</td>\n",
       "      <td>NaN</td>\n",
       "      <td>NaN</td>\n",
       "      <td>NaN</td>\n",
       "      <td>211.319643</td>\n",
       "      <td>8.106</td>\n",
       "      <td>False</td>\n",
       "    </tr>\n",
       "    <tr>\n",
       "      <th>4</th>\n",
       "      <td>1</td>\n",
       "      <td>2010-03-05</td>\n",
       "      <td>46.50</td>\n",
       "      <td>2.625</td>\n",
       "      <td>NaN</td>\n",
       "      <td>NaN</td>\n",
       "      <td>NaN</td>\n",
       "      <td>NaN</td>\n",
       "      <td>NaN</td>\n",
       "      <td>211.350143</td>\n",
       "      <td>8.106</td>\n",
       "      <td>False</td>\n",
       "    </tr>\n",
       "  </tbody>\n",
       "</table>\n",
       "</div>"
      ],
      "text/plain": [
       "   Store        Date  Temperature  Fuel_Price  MarkDown1  MarkDown2  \\\n",
       "0      1  2010-02-05        42.31       2.572        NaN        NaN   \n",
       "1      1  2010-02-12        38.51       2.548        NaN        NaN   \n",
       "2      1  2010-02-19        39.93       2.514        NaN        NaN   \n",
       "3      1  2010-02-26        46.63       2.561        NaN        NaN   \n",
       "4      1  2010-03-05        46.50       2.625        NaN        NaN   \n",
       "\n",
       "   MarkDown3  MarkDown4  MarkDown5         CPI  Unemployment  IsHoliday  \n",
       "0        NaN        NaN        NaN  211.096358         8.106      False  \n",
       "1        NaN        NaN        NaN  211.242170         8.106       True  \n",
       "2        NaN        NaN        NaN  211.289143         8.106      False  \n",
       "3        NaN        NaN        NaN  211.319643         8.106      False  \n",
       "4        NaN        NaN        NaN  211.350143         8.106      False  "
      ]
     },
     "execution_count": 5,
     "metadata": {},
     "output_type": "execute_result"
    }
   ],
   "source": [
    "# Features Dataframe\n",
    "features_df.head()"
   ]
  },
  {
   "cell_type": "code",
   "execution_count": 6,
   "id": "1db312e1",
   "metadata": {},
   "outputs": [
    {
     "data": {
      "text/html": [
       "<div>\n",
       "<style scoped>\n",
       "    .dataframe tbody tr th:only-of-type {\n",
       "        vertical-align: middle;\n",
       "    }\n",
       "\n",
       "    .dataframe tbody tr th {\n",
       "        vertical-align: top;\n",
       "    }\n",
       "\n",
       "    .dataframe thead th {\n",
       "        text-align: right;\n",
       "    }\n",
       "</style>\n",
       "<table border=\"1\" class=\"dataframe\">\n",
       "  <thead>\n",
       "    <tr style=\"text-align: right;\">\n",
       "      <th></th>\n",
       "      <th>Store</th>\n",
       "      <th>Type</th>\n",
       "      <th>Size</th>\n",
       "    </tr>\n",
       "  </thead>\n",
       "  <tbody>\n",
       "    <tr>\n",
       "      <th>0</th>\n",
       "      <td>1</td>\n",
       "      <td>A</td>\n",
       "      <td>151315</td>\n",
       "    </tr>\n",
       "    <tr>\n",
       "      <th>1</th>\n",
       "      <td>2</td>\n",
       "      <td>A</td>\n",
       "      <td>202307</td>\n",
       "    </tr>\n",
       "    <tr>\n",
       "      <th>2</th>\n",
       "      <td>3</td>\n",
       "      <td>B</td>\n",
       "      <td>37392</td>\n",
       "    </tr>\n",
       "    <tr>\n",
       "      <th>3</th>\n",
       "      <td>4</td>\n",
       "      <td>A</td>\n",
       "      <td>205863</td>\n",
       "    </tr>\n",
       "    <tr>\n",
       "      <th>4</th>\n",
       "      <td>5</td>\n",
       "      <td>B</td>\n",
       "      <td>34875</td>\n",
       "    </tr>\n",
       "  </tbody>\n",
       "</table>\n",
       "</div>"
      ],
      "text/plain": [
       "   Store Type    Size\n",
       "0      1    A  151315\n",
       "1      2    A  202307\n",
       "2      3    B   37392\n",
       "3      4    A  205863\n",
       "4      5    B   34875"
      ]
     },
     "execution_count": 6,
     "metadata": {},
     "output_type": "execute_result"
    }
   ],
   "source": [
    "# Stores Dataframe\n",
    "stores_df.head()"
   ]
  },
  {
   "cell_type": "code",
   "execution_count": 7,
   "id": "382845ab",
   "metadata": {},
   "outputs": [
    {
     "name": "stdout",
     "output_type": "stream",
     "text": [
      "<class 'pandas.core.frame.DataFrame'>\n",
      "RangeIndex: 421570 entries, 0 to 421569\n",
      "Data columns (total 5 columns):\n",
      " #   Column        Non-Null Count   Dtype  \n",
      "---  ------        --------------   -----  \n",
      " 0   Store         421570 non-null  int64  \n",
      " 1   Dept          421570 non-null  int64  \n",
      " 2   Date          421570 non-null  object \n",
      " 3   Weekly_Sales  421570 non-null  float64\n",
      " 4   IsHoliday     421570 non-null  bool   \n",
      "dtypes: bool(1), float64(1), int64(2), object(1)\n",
      "memory usage: 13.3+ MB\n"
     ]
    }
   ],
   "source": [
    "train_df.info()"
   ]
  },
  {
   "cell_type": "code",
   "execution_count": 8,
   "id": "1fb5e690",
   "metadata": {},
   "outputs": [
    {
     "name": "stdout",
     "output_type": "stream",
     "text": [
      "<class 'pandas.core.frame.DataFrame'>\n",
      "RangeIndex: 115064 entries, 0 to 115063\n",
      "Data columns (total 4 columns):\n",
      " #   Column     Non-Null Count   Dtype \n",
      "---  ------     --------------   ----- \n",
      " 0   Store      115064 non-null  int64 \n",
      " 1   Dept       115064 non-null  int64 \n",
      " 2   Date       115064 non-null  object\n",
      " 3   IsHoliday  115064 non-null  bool  \n",
      "dtypes: bool(1), int64(2), object(1)\n",
      "memory usage: 2.7+ MB\n"
     ]
    }
   ],
   "source": [
    "test_df.info()"
   ]
  },
  {
   "cell_type": "code",
   "execution_count": 9,
   "id": "4771e517",
   "metadata": {},
   "outputs": [
    {
     "name": "stdout",
     "output_type": "stream",
     "text": [
      "<class 'pandas.core.frame.DataFrame'>\n",
      "RangeIndex: 8190 entries, 0 to 8189\n",
      "Data columns (total 12 columns):\n",
      " #   Column        Non-Null Count  Dtype  \n",
      "---  ------        --------------  -----  \n",
      " 0   Store         8190 non-null   int64  \n",
      " 1   Date          8190 non-null   object \n",
      " 2   Temperature   8190 non-null   float64\n",
      " 3   Fuel_Price    8190 non-null   float64\n",
      " 4   MarkDown1     4032 non-null   float64\n",
      " 5   MarkDown2     2921 non-null   float64\n",
      " 6   MarkDown3     3613 non-null   float64\n",
      " 7   MarkDown4     3464 non-null   float64\n",
      " 8   MarkDown5     4050 non-null   float64\n",
      " 9   CPI           7605 non-null   float64\n",
      " 10  Unemployment  7605 non-null   float64\n",
      " 11  IsHoliday     8190 non-null   bool   \n",
      "dtypes: bool(1), float64(9), int64(1), object(1)\n",
      "memory usage: 712.0+ KB\n"
     ]
    }
   ],
   "source": [
    "features_df.info()"
   ]
  },
  {
   "cell_type": "code",
   "execution_count": 10,
   "id": "2dc9410f",
   "metadata": {},
   "outputs": [
    {
     "name": "stdout",
     "output_type": "stream",
     "text": [
      "<class 'pandas.core.frame.DataFrame'>\n",
      "RangeIndex: 45 entries, 0 to 44\n",
      "Data columns (total 3 columns):\n",
      " #   Column  Non-Null Count  Dtype \n",
      "---  ------  --------------  ----- \n",
      " 0   Store   45 non-null     int64 \n",
      " 1   Type    45 non-null     object\n",
      " 2   Size    45 non-null     int64 \n",
      "dtypes: int64(2), object(1)\n",
      "memory usage: 1.2+ KB\n"
     ]
    }
   ],
   "source": [
    "stores_df.info()"
   ]
  },
  {
   "cell_type": "code",
   "execution_count": 11,
   "id": "456df3c0",
   "metadata": {},
   "outputs": [
    {
     "data": {
      "text/plain": [
       "(45, 3)"
      ]
     },
     "execution_count": 11,
     "metadata": {},
     "output_type": "execute_result"
    }
   ],
   "source": [
    "stores_df.shape"
   ]
  },
  {
   "cell_type": "code",
   "execution_count": 12,
   "id": "47256b70",
   "metadata": {},
   "outputs": [
    {
     "data": {
      "text/plain": [
       "(8190, 12)"
      ]
     },
     "execution_count": 12,
     "metadata": {},
     "output_type": "execute_result"
    }
   ],
   "source": [
    "features_df.shape"
   ]
  },
  {
   "cell_type": "code",
   "execution_count": 13,
   "id": "f4f08920",
   "metadata": {},
   "outputs": [
    {
     "data": {
      "text/plain": [
       "(421570, 5)"
      ]
     },
     "execution_count": 13,
     "metadata": {},
     "output_type": "execute_result"
    }
   ],
   "source": [
    "train_df.shape"
   ]
  },
  {
   "cell_type": "code",
   "execution_count": 14,
   "id": "2f19fdee",
   "metadata": {},
   "outputs": [
    {
     "data": {
      "text/plain": [
       "Store           0\n",
       "Dept            0\n",
       "Date            0\n",
       "Weekly_Sales    0\n",
       "IsHoliday       0\n",
       "dtype: int64"
      ]
     },
     "execution_count": 14,
     "metadata": {},
     "output_type": "execute_result"
    }
   ],
   "source": [
    "# Null values of train_df\n",
    "train_df.isnull().sum()"
   ]
  },
  {
   "cell_type": "code",
   "execution_count": 15,
   "id": "836367e4",
   "metadata": {},
   "outputs": [
    {
     "data": {
      "text/plain": [
       "Store        0\n",
       "Dept         0\n",
       "Date         0\n",
       "IsHoliday    0\n",
       "dtype: int64"
      ]
     },
     "execution_count": 15,
     "metadata": {},
     "output_type": "execute_result"
    }
   ],
   "source": [
    "# Null values of test_df\n",
    "test_df.isnull().sum()"
   ]
  },
  {
   "cell_type": "code",
   "execution_count": 16,
   "id": "8064f2ee",
   "metadata": {},
   "outputs": [
    {
     "data": {
      "text/plain": [
       "Store              0\n",
       "Date               0\n",
       "Temperature        0\n",
       "Fuel_Price         0\n",
       "MarkDown1       4158\n",
       "MarkDown2       5269\n",
       "MarkDown3       4577\n",
       "MarkDown4       4726\n",
       "MarkDown5       4140\n",
       "CPI              585\n",
       "Unemployment     585\n",
       "IsHoliday          0\n",
       "dtype: int64"
      ]
     },
     "execution_count": 16,
     "metadata": {},
     "output_type": "execute_result"
    }
   ],
   "source": [
    "# Null values of feature_df\n",
    "features_df.isnull().sum()"
   ]
  },
  {
   "cell_type": "code",
   "execution_count": 17,
   "id": "bbd1b8e7",
   "metadata": {},
   "outputs": [
    {
     "data": {
      "text/plain": [
       "Store    0\n",
       "Type     0\n",
       "Size     0\n",
       "dtype: int64"
      ]
     },
     "execution_count": 17,
     "metadata": {},
     "output_type": "execute_result"
    }
   ],
   "source": [
    "# Null values of store_df\n",
    "stores_df.isnull().sum()"
   ]
  },
  {
   "cell_type": "code",
   "execution_count": null,
   "id": "a6cac7d9",
   "metadata": {},
   "outputs": [],
   "source": []
  },
  {
   "cell_type": "code",
   "execution_count": 18,
   "id": "19b71950",
   "metadata": {},
   "outputs": [],
   "source": [
    "# Creating a dataset of features_df and stores_df by merging them\n",
    "# The INNER JOIN keyword selects records that have matching values in both tables.\n",
    "dataset = features_df.merge(stores_df, how='inner', on='Store')"
   ]
  },
  {
   "cell_type": "code",
   "execution_count": 19,
   "id": "cbc84724",
   "metadata": {},
   "outputs": [
    {
     "data": {
      "text/html": [
       "<div>\n",
       "<style scoped>\n",
       "    .dataframe tbody tr th:only-of-type {\n",
       "        vertical-align: middle;\n",
       "    }\n",
       "\n",
       "    .dataframe tbody tr th {\n",
       "        vertical-align: top;\n",
       "    }\n",
       "\n",
       "    .dataframe thead th {\n",
       "        text-align: right;\n",
       "    }\n",
       "</style>\n",
       "<table border=\"1\" class=\"dataframe\">\n",
       "  <thead>\n",
       "    <tr style=\"text-align: right;\">\n",
       "      <th></th>\n",
       "      <th>Store</th>\n",
       "      <th>Date</th>\n",
       "      <th>Temperature</th>\n",
       "      <th>Fuel_Price</th>\n",
       "      <th>MarkDown1</th>\n",
       "      <th>MarkDown2</th>\n",
       "      <th>MarkDown3</th>\n",
       "      <th>MarkDown4</th>\n",
       "      <th>MarkDown5</th>\n",
       "      <th>CPI</th>\n",
       "      <th>Unemployment</th>\n",
       "      <th>IsHoliday</th>\n",
       "      <th>Type</th>\n",
       "      <th>Size</th>\n",
       "    </tr>\n",
       "  </thead>\n",
       "  <tbody>\n",
       "    <tr>\n",
       "      <th>0</th>\n",
       "      <td>1</td>\n",
       "      <td>2010-02-05</td>\n",
       "      <td>42.31</td>\n",
       "      <td>2.572</td>\n",
       "      <td>NaN</td>\n",
       "      <td>NaN</td>\n",
       "      <td>NaN</td>\n",
       "      <td>NaN</td>\n",
       "      <td>NaN</td>\n",
       "      <td>211.096358</td>\n",
       "      <td>8.106</td>\n",
       "      <td>False</td>\n",
       "      <td>A</td>\n",
       "      <td>151315</td>\n",
       "    </tr>\n",
       "    <tr>\n",
       "      <th>1</th>\n",
       "      <td>1</td>\n",
       "      <td>2010-02-12</td>\n",
       "      <td>38.51</td>\n",
       "      <td>2.548</td>\n",
       "      <td>NaN</td>\n",
       "      <td>NaN</td>\n",
       "      <td>NaN</td>\n",
       "      <td>NaN</td>\n",
       "      <td>NaN</td>\n",
       "      <td>211.242170</td>\n",
       "      <td>8.106</td>\n",
       "      <td>True</td>\n",
       "      <td>A</td>\n",
       "      <td>151315</td>\n",
       "    </tr>\n",
       "    <tr>\n",
       "      <th>2</th>\n",
       "      <td>1</td>\n",
       "      <td>2010-02-19</td>\n",
       "      <td>39.93</td>\n",
       "      <td>2.514</td>\n",
       "      <td>NaN</td>\n",
       "      <td>NaN</td>\n",
       "      <td>NaN</td>\n",
       "      <td>NaN</td>\n",
       "      <td>NaN</td>\n",
       "      <td>211.289143</td>\n",
       "      <td>8.106</td>\n",
       "      <td>False</td>\n",
       "      <td>A</td>\n",
       "      <td>151315</td>\n",
       "    </tr>\n",
       "    <tr>\n",
       "      <th>3</th>\n",
       "      <td>1</td>\n",
       "      <td>2010-02-26</td>\n",
       "      <td>46.63</td>\n",
       "      <td>2.561</td>\n",
       "      <td>NaN</td>\n",
       "      <td>NaN</td>\n",
       "      <td>NaN</td>\n",
       "      <td>NaN</td>\n",
       "      <td>NaN</td>\n",
       "      <td>211.319643</td>\n",
       "      <td>8.106</td>\n",
       "      <td>False</td>\n",
       "      <td>A</td>\n",
       "      <td>151315</td>\n",
       "    </tr>\n",
       "    <tr>\n",
       "      <th>4</th>\n",
       "      <td>1</td>\n",
       "      <td>2010-03-05</td>\n",
       "      <td>46.50</td>\n",
       "      <td>2.625</td>\n",
       "      <td>NaN</td>\n",
       "      <td>NaN</td>\n",
       "      <td>NaN</td>\n",
       "      <td>NaN</td>\n",
       "      <td>NaN</td>\n",
       "      <td>211.350143</td>\n",
       "      <td>8.106</td>\n",
       "      <td>False</td>\n",
       "      <td>A</td>\n",
       "      <td>151315</td>\n",
       "    </tr>\n",
       "  </tbody>\n",
       "</table>\n",
       "</div>"
      ],
      "text/plain": [
       "   Store        Date  Temperature  Fuel_Price  MarkDown1  MarkDown2  \\\n",
       "0      1  2010-02-05        42.31       2.572        NaN        NaN   \n",
       "1      1  2010-02-12        38.51       2.548        NaN        NaN   \n",
       "2      1  2010-02-19        39.93       2.514        NaN        NaN   \n",
       "3      1  2010-02-26        46.63       2.561        NaN        NaN   \n",
       "4      1  2010-03-05        46.50       2.625        NaN        NaN   \n",
       "\n",
       "   MarkDown3  MarkDown4  MarkDown5         CPI  Unemployment  IsHoliday Type  \\\n",
       "0        NaN        NaN        NaN  211.096358         8.106      False    A   \n",
       "1        NaN        NaN        NaN  211.242170         8.106       True    A   \n",
       "2        NaN        NaN        NaN  211.289143         8.106      False    A   \n",
       "3        NaN        NaN        NaN  211.319643         8.106      False    A   \n",
       "4        NaN        NaN        NaN  211.350143         8.106      False    A   \n",
       "\n",
       "     Size  \n",
       "0  151315  \n",
       "1  151315  \n",
       "2  151315  \n",
       "3  151315  \n",
       "4  151315  "
      ]
     },
     "execution_count": 19,
     "metadata": {},
     "output_type": "execute_result"
    }
   ],
   "source": [
    "dataset.head()"
   ]
  },
  {
   "cell_type": "code",
   "execution_count": 20,
   "id": "a43a4a18",
   "metadata": {},
   "outputs": [
    {
     "name": "stdout",
     "output_type": "stream",
     "text": [
      "<class 'pandas.core.frame.DataFrame'>\n",
      "Int64Index: 8190 entries, 0 to 8189\n",
      "Data columns (total 14 columns):\n",
      " #   Column        Non-Null Count  Dtype  \n",
      "---  ------        --------------  -----  \n",
      " 0   Store         8190 non-null   int64  \n",
      " 1   Date          8190 non-null   object \n",
      " 2   Temperature   8190 non-null   float64\n",
      " 3   Fuel_Price    8190 non-null   float64\n",
      " 4   MarkDown1     4032 non-null   float64\n",
      " 5   MarkDown2     2921 non-null   float64\n",
      " 6   MarkDown3     3613 non-null   float64\n",
      " 7   MarkDown4     3464 non-null   float64\n",
      " 8   MarkDown5     4050 non-null   float64\n",
      " 9   CPI           7605 non-null   float64\n",
      " 10  Unemployment  7605 non-null   float64\n",
      " 11  IsHoliday     8190 non-null   bool   \n",
      " 12  Type          8190 non-null   object \n",
      " 13  Size          8190 non-null   int64  \n",
      "dtypes: bool(1), float64(9), int64(2), object(2)\n",
      "memory usage: 903.8+ KB\n"
     ]
    }
   ],
   "source": [
    "dataset.info()"
   ]
  },
  {
   "cell_type": "markdown",
   "id": "3b913867",
   "metadata": {},
   "source": [
    "### pd.to_datetime()\n",
    "- When a csv file is imported and a Data Frame is made, the **Date time objects** in the file are **read as a string object** rather a **Date Time** object and \n",
    "- **Hence it’s very tough to perform operations like Time difference on a string rather a Date Time object. Pandas to_datetime() method helps to convert string Date time into Python Date time object**."
   ]
  },
  {
   "cell_type": "code",
   "execution_count": 21,
   "id": "b6000b99",
   "metadata": {},
   "outputs": [],
   "source": [
    "dataset['Date'] = pd.to_datetime(dataset['Date'])"
   ]
  },
  {
   "cell_type": "code",
   "execution_count": 22,
   "id": "b7cd0005",
   "metadata": {},
   "outputs": [],
   "source": [
    "train_df['Date'] = pd.to_datetime(train_df['Date'])"
   ]
  },
  {
   "cell_type": "code",
   "execution_count": 23,
   "id": "afeea5e3",
   "metadata": {},
   "outputs": [],
   "source": [
    "final_df = train_df.merge(dataset, how='inner', on=['Store','Date','IsHoliday'])"
   ]
  },
  {
   "cell_type": "code",
   "execution_count": 24,
   "id": "56e38fd5",
   "metadata": {},
   "outputs": [
    {
     "data": {
      "text/html": [
       "<div>\n",
       "<style scoped>\n",
       "    .dataframe tbody tr th:only-of-type {\n",
       "        vertical-align: middle;\n",
       "    }\n",
       "\n",
       "    .dataframe tbody tr th {\n",
       "        vertical-align: top;\n",
       "    }\n",
       "\n",
       "    .dataframe thead th {\n",
       "        text-align: right;\n",
       "    }\n",
       "</style>\n",
       "<table border=\"1\" class=\"dataframe\">\n",
       "  <thead>\n",
       "    <tr style=\"text-align: right;\">\n",
       "      <th></th>\n",
       "      <th>Store</th>\n",
       "      <th>Dept</th>\n",
       "      <th>Date</th>\n",
       "      <th>Weekly_Sales</th>\n",
       "      <th>IsHoliday</th>\n",
       "      <th>Temperature</th>\n",
       "      <th>Fuel_Price</th>\n",
       "      <th>MarkDown1</th>\n",
       "      <th>MarkDown2</th>\n",
       "      <th>MarkDown3</th>\n",
       "      <th>MarkDown4</th>\n",
       "      <th>MarkDown5</th>\n",
       "      <th>CPI</th>\n",
       "      <th>Unemployment</th>\n",
       "      <th>Type</th>\n",
       "      <th>Size</th>\n",
       "    </tr>\n",
       "  </thead>\n",
       "  <tbody>\n",
       "    <tr>\n",
       "      <th>0</th>\n",
       "      <td>1</td>\n",
       "      <td>1</td>\n",
       "      <td>2010-02-05</td>\n",
       "      <td>24924.50</td>\n",
       "      <td>False</td>\n",
       "      <td>42.31</td>\n",
       "      <td>2.572</td>\n",
       "      <td>NaN</td>\n",
       "      <td>NaN</td>\n",
       "      <td>NaN</td>\n",
       "      <td>NaN</td>\n",
       "      <td>NaN</td>\n",
       "      <td>211.096358</td>\n",
       "      <td>8.106</td>\n",
       "      <td>A</td>\n",
       "      <td>151315</td>\n",
       "    </tr>\n",
       "    <tr>\n",
       "      <th>1</th>\n",
       "      <td>1</td>\n",
       "      <td>2</td>\n",
       "      <td>2010-02-05</td>\n",
       "      <td>50605.27</td>\n",
       "      <td>False</td>\n",
       "      <td>42.31</td>\n",
       "      <td>2.572</td>\n",
       "      <td>NaN</td>\n",
       "      <td>NaN</td>\n",
       "      <td>NaN</td>\n",
       "      <td>NaN</td>\n",
       "      <td>NaN</td>\n",
       "      <td>211.096358</td>\n",
       "      <td>8.106</td>\n",
       "      <td>A</td>\n",
       "      <td>151315</td>\n",
       "    </tr>\n",
       "    <tr>\n",
       "      <th>2</th>\n",
       "      <td>1</td>\n",
       "      <td>3</td>\n",
       "      <td>2010-02-05</td>\n",
       "      <td>13740.12</td>\n",
       "      <td>False</td>\n",
       "      <td>42.31</td>\n",
       "      <td>2.572</td>\n",
       "      <td>NaN</td>\n",
       "      <td>NaN</td>\n",
       "      <td>NaN</td>\n",
       "      <td>NaN</td>\n",
       "      <td>NaN</td>\n",
       "      <td>211.096358</td>\n",
       "      <td>8.106</td>\n",
       "      <td>A</td>\n",
       "      <td>151315</td>\n",
       "    </tr>\n",
       "    <tr>\n",
       "      <th>3</th>\n",
       "      <td>1</td>\n",
       "      <td>4</td>\n",
       "      <td>2010-02-05</td>\n",
       "      <td>39954.04</td>\n",
       "      <td>False</td>\n",
       "      <td>42.31</td>\n",
       "      <td>2.572</td>\n",
       "      <td>NaN</td>\n",
       "      <td>NaN</td>\n",
       "      <td>NaN</td>\n",
       "      <td>NaN</td>\n",
       "      <td>NaN</td>\n",
       "      <td>211.096358</td>\n",
       "      <td>8.106</td>\n",
       "      <td>A</td>\n",
       "      <td>151315</td>\n",
       "    </tr>\n",
       "    <tr>\n",
       "      <th>4</th>\n",
       "      <td>1</td>\n",
       "      <td>5</td>\n",
       "      <td>2010-02-05</td>\n",
       "      <td>32229.38</td>\n",
       "      <td>False</td>\n",
       "      <td>42.31</td>\n",
       "      <td>2.572</td>\n",
       "      <td>NaN</td>\n",
       "      <td>NaN</td>\n",
       "      <td>NaN</td>\n",
       "      <td>NaN</td>\n",
       "      <td>NaN</td>\n",
       "      <td>211.096358</td>\n",
       "      <td>8.106</td>\n",
       "      <td>A</td>\n",
       "      <td>151315</td>\n",
       "    </tr>\n",
       "  </tbody>\n",
       "</table>\n",
       "</div>"
      ],
      "text/plain": [
       "   Store  Dept       Date  Weekly_Sales  IsHoliday  Temperature  Fuel_Price  \\\n",
       "0      1     1 2010-02-05      24924.50      False        42.31       2.572   \n",
       "1      1     2 2010-02-05      50605.27      False        42.31       2.572   \n",
       "2      1     3 2010-02-05      13740.12      False        42.31       2.572   \n",
       "3      1     4 2010-02-05      39954.04      False        42.31       2.572   \n",
       "4      1     5 2010-02-05      32229.38      False        42.31       2.572   \n",
       "\n",
       "   MarkDown1  MarkDown2  MarkDown3  MarkDown4  MarkDown5         CPI  \\\n",
       "0        NaN        NaN        NaN        NaN        NaN  211.096358   \n",
       "1        NaN        NaN        NaN        NaN        NaN  211.096358   \n",
       "2        NaN        NaN        NaN        NaN        NaN  211.096358   \n",
       "3        NaN        NaN        NaN        NaN        NaN  211.096358   \n",
       "4        NaN        NaN        NaN        NaN        NaN  211.096358   \n",
       "\n",
       "   Unemployment Type    Size  \n",
       "0         8.106    A  151315  \n",
       "1         8.106    A  151315  \n",
       "2         8.106    A  151315  \n",
       "3         8.106    A  151315  \n",
       "4         8.106    A  151315  "
      ]
     },
     "execution_count": 24,
     "metadata": {},
     "output_type": "execute_result"
    }
   ],
   "source": [
    "final_df.head()"
   ]
  },
  {
   "cell_type": "code",
   "execution_count": 25,
   "id": "386d38b4",
   "metadata": {},
   "outputs": [
    {
     "name": "stdout",
     "output_type": "stream",
     "text": [
      "<class 'pandas.core.frame.DataFrame'>\n",
      "Int64Index: 421570 entries, 0 to 421569\n",
      "Data columns (total 16 columns):\n",
      " #   Column        Non-Null Count   Dtype         \n",
      "---  ------        --------------   -----         \n",
      " 0   Store         421570 non-null  int64         \n",
      " 1   Dept          421570 non-null  int64         \n",
      " 2   Date          421570 non-null  datetime64[ns]\n",
      " 3   Weekly_Sales  421570 non-null  float64       \n",
      " 4   IsHoliday     421570 non-null  bool          \n",
      " 5   Temperature   421570 non-null  float64       \n",
      " 6   Fuel_Price    421570 non-null  float64       \n",
      " 7   MarkDown1     150681 non-null  float64       \n",
      " 8   MarkDown2     111248 non-null  float64       \n",
      " 9   MarkDown3     137091 non-null  float64       \n",
      " 10  MarkDown4     134967 non-null  float64       \n",
      " 11  MarkDown5     151432 non-null  float64       \n",
      " 12  CPI           421570 non-null  float64       \n",
      " 13  Unemployment  421570 non-null  float64       \n",
      " 14  Type          421570 non-null  object        \n",
      " 15  Size          421570 non-null  int64         \n",
      "dtypes: bool(1), datetime64[ns](1), float64(10), int64(3), object(1)\n",
      "memory usage: 51.9+ MB\n"
     ]
    }
   ],
   "source": [
    "final_df.info()"
   ]
  },
  {
   "cell_type": "markdown",
   "id": "ff96f4f3",
   "metadata": {},
   "source": [
    "### Series.dt.week \n",
    "- Can be used to access the values of the series as datetime like and return several properties. \n",
    "- Pandas Series.dt.week attribute return a numpy array containing the week ordinal of the year in the underlying data of the given series object.\n",
    "- Use **Series.dt.week** attribute to **return the week ordinal of the year** in the underlying data of the given Series object."
   ]
  },
  {
   "cell_type": "code",
   "execution_count": 26,
   "id": "da74588b",
   "metadata": {},
   "outputs": [
    {
     "data": {
      "text/plain": [
       "0          5\n",
       "1          5\n",
       "2          5\n",
       "3          5\n",
       "4          5\n",
       "          ..\n",
       "421565    43\n",
       "421566    43\n",
       "421567    43\n",
       "421568    43\n",
       "421569    43\n",
       "Name: week, Length: 421570, dtype: UInt32"
      ]
     },
     "execution_count": 26,
     "metadata": {},
     "output_type": "execute_result"
    }
   ],
   "source": [
    "final_df['Date'].dt.isocalendar().week"
   ]
  },
  {
   "cell_type": "code",
   "execution_count": 27,
   "id": "7249b54d",
   "metadata": {},
   "outputs": [],
   "source": [
    "final_df['week'] = final_df['Date'].dt.isocalendar().week\n"
   ]
  },
  {
   "cell_type": "code",
   "execution_count": 28,
   "id": "c9241e6d",
   "metadata": {},
   "outputs": [],
   "source": [
    "final_df['year'] = final_df['Date'].dt.isocalendar().year"
   ]
  },
  {
   "cell_type": "markdown",
   "id": "2d2c248d",
   "metadata": {},
   "source": [
    "## isocalendar():\n",
    "- **Timestamp.isocalendar() function return a 3-tuple containing ISO year, week number, and weekday for the given Timestamp object.**\n",
    "- **Use Timestamp.isocalendar() function to return the date of the given Timestamp object based on ISO calendar.**"
   ]
  },
  {
   "cell_type": "code",
   "execution_count": 29,
   "id": "f2c4c376",
   "metadata": {},
   "outputs": [
    {
     "data": {
      "text/plain": [
       "0         5\n",
       "1         5\n",
       "2         5\n",
       "3         5\n",
       "4         5\n",
       "         ..\n",
       "421565    5\n",
       "421566    5\n",
       "421567    5\n",
       "421568    5\n",
       "421569    5\n",
       "Name: day, Length: 421570, dtype: UInt32"
      ]
     },
     "execution_count": 29,
     "metadata": {},
     "output_type": "execute_result"
    }
   ],
   "source": [
    "final_df['Date'].dt.isocalendar().day"
   ]
  },
  {
   "cell_type": "code",
   "execution_count": null,
   "id": "9f2e9e4b",
   "metadata": {},
   "outputs": [],
   "source": []
  },
  {
   "cell_type": "code",
   "execution_count": 30,
   "id": "87d9a5fc",
   "metadata": {},
   "outputs": [
    {
     "data": {
      "text/html": [
       "<div>\n",
       "<style scoped>\n",
       "    .dataframe tbody tr th:only-of-type {\n",
       "        vertical-align: middle;\n",
       "    }\n",
       "\n",
       "    .dataframe tbody tr th {\n",
       "        vertical-align: top;\n",
       "    }\n",
       "\n",
       "    .dataframe thead th {\n",
       "        text-align: right;\n",
       "    }\n",
       "</style>\n",
       "<table border=\"1\" class=\"dataframe\">\n",
       "  <thead>\n",
       "    <tr style=\"text-align: right;\">\n",
       "      <th></th>\n",
       "      <th>Store</th>\n",
       "      <th>Dept</th>\n",
       "      <th>Date</th>\n",
       "      <th>Weekly_Sales</th>\n",
       "      <th>IsHoliday</th>\n",
       "      <th>Temperature</th>\n",
       "      <th>Fuel_Price</th>\n",
       "      <th>MarkDown1</th>\n",
       "      <th>MarkDown2</th>\n",
       "      <th>MarkDown3</th>\n",
       "      <th>MarkDown4</th>\n",
       "      <th>MarkDown5</th>\n",
       "      <th>CPI</th>\n",
       "      <th>Unemployment</th>\n",
       "      <th>Type</th>\n",
       "      <th>Size</th>\n",
       "      <th>week</th>\n",
       "      <th>year</th>\n",
       "    </tr>\n",
       "  </thead>\n",
       "  <tbody>\n",
       "    <tr>\n",
       "      <th>0</th>\n",
       "      <td>1</td>\n",
       "      <td>1</td>\n",
       "      <td>2010-02-05</td>\n",
       "      <td>24924.50</td>\n",
       "      <td>False</td>\n",
       "      <td>42.31</td>\n",
       "      <td>2.572</td>\n",
       "      <td>NaN</td>\n",
       "      <td>NaN</td>\n",
       "      <td>NaN</td>\n",
       "      <td>NaN</td>\n",
       "      <td>NaN</td>\n",
       "      <td>211.096358</td>\n",
       "      <td>8.106</td>\n",
       "      <td>A</td>\n",
       "      <td>151315</td>\n",
       "      <td>5</td>\n",
       "      <td>2010</td>\n",
       "    </tr>\n",
       "    <tr>\n",
       "      <th>1</th>\n",
       "      <td>1</td>\n",
       "      <td>2</td>\n",
       "      <td>2010-02-05</td>\n",
       "      <td>50605.27</td>\n",
       "      <td>False</td>\n",
       "      <td>42.31</td>\n",
       "      <td>2.572</td>\n",
       "      <td>NaN</td>\n",
       "      <td>NaN</td>\n",
       "      <td>NaN</td>\n",
       "      <td>NaN</td>\n",
       "      <td>NaN</td>\n",
       "      <td>211.096358</td>\n",
       "      <td>8.106</td>\n",
       "      <td>A</td>\n",
       "      <td>151315</td>\n",
       "      <td>5</td>\n",
       "      <td>2010</td>\n",
       "    </tr>\n",
       "    <tr>\n",
       "      <th>2</th>\n",
       "      <td>1</td>\n",
       "      <td>3</td>\n",
       "      <td>2010-02-05</td>\n",
       "      <td>13740.12</td>\n",
       "      <td>False</td>\n",
       "      <td>42.31</td>\n",
       "      <td>2.572</td>\n",
       "      <td>NaN</td>\n",
       "      <td>NaN</td>\n",
       "      <td>NaN</td>\n",
       "      <td>NaN</td>\n",
       "      <td>NaN</td>\n",
       "      <td>211.096358</td>\n",
       "      <td>8.106</td>\n",
       "      <td>A</td>\n",
       "      <td>151315</td>\n",
       "      <td>5</td>\n",
       "      <td>2010</td>\n",
       "    </tr>\n",
       "    <tr>\n",
       "      <th>3</th>\n",
       "      <td>1</td>\n",
       "      <td>4</td>\n",
       "      <td>2010-02-05</td>\n",
       "      <td>39954.04</td>\n",
       "      <td>False</td>\n",
       "      <td>42.31</td>\n",
       "      <td>2.572</td>\n",
       "      <td>NaN</td>\n",
       "      <td>NaN</td>\n",
       "      <td>NaN</td>\n",
       "      <td>NaN</td>\n",
       "      <td>NaN</td>\n",
       "      <td>211.096358</td>\n",
       "      <td>8.106</td>\n",
       "      <td>A</td>\n",
       "      <td>151315</td>\n",
       "      <td>5</td>\n",
       "      <td>2010</td>\n",
       "    </tr>\n",
       "    <tr>\n",
       "      <th>4</th>\n",
       "      <td>1</td>\n",
       "      <td>5</td>\n",
       "      <td>2010-02-05</td>\n",
       "      <td>32229.38</td>\n",
       "      <td>False</td>\n",
       "      <td>42.31</td>\n",
       "      <td>2.572</td>\n",
       "      <td>NaN</td>\n",
       "      <td>NaN</td>\n",
       "      <td>NaN</td>\n",
       "      <td>NaN</td>\n",
       "      <td>NaN</td>\n",
       "      <td>211.096358</td>\n",
       "      <td>8.106</td>\n",
       "      <td>A</td>\n",
       "      <td>151315</td>\n",
       "      <td>5</td>\n",
       "      <td>2010</td>\n",
       "    </tr>\n",
       "  </tbody>\n",
       "</table>\n",
       "</div>"
      ],
      "text/plain": [
       "   Store  Dept       Date  Weekly_Sales  IsHoliday  Temperature  Fuel_Price  \\\n",
       "0      1     1 2010-02-05      24924.50      False        42.31       2.572   \n",
       "1      1     2 2010-02-05      50605.27      False        42.31       2.572   \n",
       "2      1     3 2010-02-05      13740.12      False        42.31       2.572   \n",
       "3      1     4 2010-02-05      39954.04      False        42.31       2.572   \n",
       "4      1     5 2010-02-05      32229.38      False        42.31       2.572   \n",
       "\n",
       "   MarkDown1  MarkDown2  MarkDown3  MarkDown4  MarkDown5         CPI  \\\n",
       "0        NaN        NaN        NaN        NaN        NaN  211.096358   \n",
       "1        NaN        NaN        NaN        NaN        NaN  211.096358   \n",
       "2        NaN        NaN        NaN        NaN        NaN  211.096358   \n",
       "3        NaN        NaN        NaN        NaN        NaN  211.096358   \n",
       "4        NaN        NaN        NaN        NaN        NaN  211.096358   \n",
       "\n",
       "   Unemployment Type    Size  week  year  \n",
       "0         8.106    A  151315     5  2010  \n",
       "1         8.106    A  151315     5  2010  \n",
       "2         8.106    A  151315     5  2010  \n",
       "3         8.106    A  151315     5  2010  \n",
       "4         8.106    A  151315     5  2010  "
      ]
     },
     "execution_count": 30,
     "metadata": {},
     "output_type": "execute_result"
    }
   ],
   "source": [
    "final_df.head()"
   ]
  },
  {
   "cell_type": "code",
   "execution_count": 31,
   "id": "4983cf4c",
   "metadata": {},
   "outputs": [
    {
     "data": {
      "text/plain": [
       "<AxesSubplot:>"
      ]
     },
     "execution_count": 31,
     "metadata": {},
     "output_type": "execute_result"
    },
    {
     "data": {
      "image/png": "[encoded data removed]",
      "text/plain": [
       "<Figure size 432x288 with 2 Axes>"
      ]
     },
     "metadata": {
      "needs_background": "light"
     },
     "output_type": "display_data"
    }
   ],
   "source": [
    "sns.heatmap(final_df.isnull())"
   ]
  },
  {
   "cell_type": "markdown",
   "id": "780875ce",
   "metadata": {},
   "source": [
    "#### TASK : write a function that will make scatter plot of weekly sales and column you paasing in as argument- in argument to pass df, column_name"
   ]
  },
  {
   "cell_type": "code",
   "execution_count": 32,
   "id": "d1f970c7",
   "metadata": {},
   "outputs": [],
   "source": [
    "def scatter(df,col):\n",
    "    plt.figure(figsize=(12,8))\n",
    "    plt.scatter(x=df['Weekly_Sales'], y=df[col])\n",
    "    plt.title(\"Weekly_Sales v/s \"+str(col))\n",
    "    plt.xlabel('Weekly_Sales')\n",
    "    plt.ylabel(col)"
   ]
  },
  {
   "cell_type": "code",
   "execution_count": 33,
   "id": "1f233f85",
   "metadata": {},
   "outputs": [
    {
     "data": {
      "text/plain": [
       "Index(['Store', 'Dept', 'Date', 'Weekly_Sales', 'IsHoliday', 'Temperature',\n",
       "       'Fuel_Price', 'MarkDown1', 'MarkDown2', 'MarkDown3', 'MarkDown4',\n",
       "       'MarkDown5', 'CPI', 'Unemployment', 'Type', 'Size', 'week', 'year'],\n",
       "      dtype='object')"
      ]
     },
     "execution_count": 33,
     "metadata": {},
     "output_type": "execute_result"
    }
   ],
   "source": [
    "final_df.columns"
   ]
  },
  {
   "cell_type": "code",
   "execution_count": 34,
   "id": "baa73717",
   "metadata": {},
   "outputs": [
    {
     "data": {
      "text/plain": [
       "45"
      ]
     },
     "execution_count": 34,
     "metadata": {},
     "output_type": "execute_result"
    }
   ],
   "source": [
    "len(final_df['Store'].unique())"
   ]
  },
  {
   "cell_type": "code",
   "execution_count": 35,
   "id": "b288bf50",
   "metadata": {},
   "outputs": [
    {
     "data": {
      "image/png": "[encoded data removed]",
      "text/plain": [
       "<Figure size 864x576 with 1 Axes>"
      ]
     },
     "metadata": {
      "needs_background": "light"
     },
     "output_type": "display_data"
    }
   ],
   "source": [
    "scatter(final_df, 'Store')"
   ]
  },
  {
   "cell_type": "code",
   "execution_count": 36,
   "id": "26024c75",
   "metadata": {},
   "outputs": [
    {
     "data": {
      "image/png": "[encoded data removed]",
      "text/plain": [
       "<Figure size 864x576 with 1 Axes>"
      ]
     },
     "metadata": {
      "needs_background": "light"
     },
     "output_type": "display_data"
    }
   ],
   "source": [
    "scatter(final_df, 'Dept')"
   ]
  },
  {
   "cell_type": "code",
   "execution_count": 37,
   "id": "ab322e2d",
   "metadata": {},
   "outputs": [
    {
     "data": {
      "image/png": "[encoded data removed]",
      "text/plain": [
       "<Figure size 864x576 with 1 Axes>"
      ]
     },
     "metadata": {
      "needs_background": "light"
     },
     "output_type": "display_data"
    }
   ],
   "source": [
    "scatter(final_df , 'IsHoliday')"
   ]
  },
  {
   "cell_type": "code",
   "execution_count": 38,
   "id": "321f8ba3",
   "metadata": {},
   "outputs": [
    {
     "data": {
      "text/plain": [
       "Index(['Store', 'Dept', 'Date', 'Weekly_Sales', 'IsHoliday', 'Temperature',\n",
       "       'Fuel_Price', 'MarkDown1', 'MarkDown2', 'MarkDown3', 'MarkDown4',\n",
       "       'MarkDown5', 'CPI', 'Unemployment', 'Type', 'Size', 'week', 'year'],\n",
       "      dtype='object')"
      ]
     },
     "execution_count": 38,
     "metadata": {},
     "output_type": "execute_result"
    }
   ],
   "source": [
    "final_df.columns"
   ]
  },
  {
   "cell_type": "code",
   "execution_count": 39,
   "id": "755852f5",
   "metadata": {},
   "outputs": [
    {
     "data": {
      "text/html": [
       "<div>\n",
       "<style scoped>\n",
       "    .dataframe tbody tr th:only-of-type {\n",
       "        vertical-align: middle;\n",
       "    }\n",
       "\n",
       "    .dataframe tbody tr th {\n",
       "        vertical-align: top;\n",
       "    }\n",
       "\n",
       "    .dataframe thead th {\n",
       "        text-align: right;\n",
       "    }\n",
       "</style>\n",
       "<table border=\"1\" class=\"dataframe\">\n",
       "  <thead>\n",
       "    <tr style=\"text-align: right;\">\n",
       "      <th></th>\n",
       "      <th>Store</th>\n",
       "      <th>Dept</th>\n",
       "      <th>Date</th>\n",
       "      <th>Weekly_Sales</th>\n",
       "      <th>IsHoliday</th>\n",
       "      <th>Temperature</th>\n",
       "      <th>Fuel_Price</th>\n",
       "      <th>MarkDown1</th>\n",
       "      <th>MarkDown2</th>\n",
       "      <th>MarkDown3</th>\n",
       "      <th>MarkDown4</th>\n",
       "      <th>MarkDown5</th>\n",
       "      <th>CPI</th>\n",
       "      <th>Unemployment</th>\n",
       "      <th>Type</th>\n",
       "      <th>Size</th>\n",
       "      <th>week</th>\n",
       "      <th>year</th>\n",
       "    </tr>\n",
       "  </thead>\n",
       "  <tbody>\n",
       "    <tr>\n",
       "      <th>0</th>\n",
       "      <td>1</td>\n",
       "      <td>1</td>\n",
       "      <td>2010-02-05</td>\n",
       "      <td>24924.50</td>\n",
       "      <td>False</td>\n",
       "      <td>42.31</td>\n",
       "      <td>2.572</td>\n",
       "      <td>NaN</td>\n",
       "      <td>NaN</td>\n",
       "      <td>NaN</td>\n",
       "      <td>NaN</td>\n",
       "      <td>NaN</td>\n",
       "      <td>211.096358</td>\n",
       "      <td>8.106</td>\n",
       "      <td>A</td>\n",
       "      <td>151315</td>\n",
       "      <td>5</td>\n",
       "      <td>2010</td>\n",
       "    </tr>\n",
       "    <tr>\n",
       "      <th>1</th>\n",
       "      <td>1</td>\n",
       "      <td>2</td>\n",
       "      <td>2010-02-05</td>\n",
       "      <td>50605.27</td>\n",
       "      <td>False</td>\n",
       "      <td>42.31</td>\n",
       "      <td>2.572</td>\n",
       "      <td>NaN</td>\n",
       "      <td>NaN</td>\n",
       "      <td>NaN</td>\n",
       "      <td>NaN</td>\n",
       "      <td>NaN</td>\n",
       "      <td>211.096358</td>\n",
       "      <td>8.106</td>\n",
       "      <td>A</td>\n",
       "      <td>151315</td>\n",
       "      <td>5</td>\n",
       "      <td>2010</td>\n",
       "    </tr>\n",
       "    <tr>\n",
       "      <th>2</th>\n",
       "      <td>1</td>\n",
       "      <td>3</td>\n",
       "      <td>2010-02-05</td>\n",
       "      <td>13740.12</td>\n",
       "      <td>False</td>\n",
       "      <td>42.31</td>\n",
       "      <td>2.572</td>\n",
       "      <td>NaN</td>\n",
       "      <td>NaN</td>\n",
       "      <td>NaN</td>\n",
       "      <td>NaN</td>\n",
       "      <td>NaN</td>\n",
       "      <td>211.096358</td>\n",
       "      <td>8.106</td>\n",
       "      <td>A</td>\n",
       "      <td>151315</td>\n",
       "      <td>5</td>\n",
       "      <td>2010</td>\n",
       "    </tr>\n",
       "    <tr>\n",
       "      <th>3</th>\n",
       "      <td>1</td>\n",
       "      <td>4</td>\n",
       "      <td>2010-02-05</td>\n",
       "      <td>39954.04</td>\n",
       "      <td>False</td>\n",
       "      <td>42.31</td>\n",
       "      <td>2.572</td>\n",
       "      <td>NaN</td>\n",
       "      <td>NaN</td>\n",
       "      <td>NaN</td>\n",
       "      <td>NaN</td>\n",
       "      <td>NaN</td>\n",
       "      <td>211.096358</td>\n",
       "      <td>8.106</td>\n",
       "      <td>A</td>\n",
       "      <td>151315</td>\n",
       "      <td>5</td>\n",
       "      <td>2010</td>\n",
       "    </tr>\n",
       "    <tr>\n",
       "      <th>4</th>\n",
       "      <td>1</td>\n",
       "      <td>5</td>\n",
       "      <td>2010-02-05</td>\n",
       "      <td>32229.38</td>\n",
       "      <td>False</td>\n",
       "      <td>42.31</td>\n",
       "      <td>2.572</td>\n",
       "      <td>NaN</td>\n",
       "      <td>NaN</td>\n",
       "      <td>NaN</td>\n",
       "      <td>NaN</td>\n",
       "      <td>NaN</td>\n",
       "      <td>211.096358</td>\n",
       "      <td>8.106</td>\n",
       "      <td>A</td>\n",
       "      <td>151315</td>\n",
       "      <td>5</td>\n",
       "      <td>2010</td>\n",
       "    </tr>\n",
       "  </tbody>\n",
       "</table>\n",
       "</div>"
      ],
      "text/plain": [
       "   Store  Dept       Date  Weekly_Sales  IsHoliday  Temperature  Fuel_Price  \\\n",
       "0      1     1 2010-02-05      24924.50      False        42.31       2.572   \n",
       "1      1     2 2010-02-05      50605.27      False        42.31       2.572   \n",
       "2      1     3 2010-02-05      13740.12      False        42.31       2.572   \n",
       "3      1     4 2010-02-05      39954.04      False        42.31       2.572   \n",
       "4      1     5 2010-02-05      32229.38      False        42.31       2.572   \n",
       "\n",
       "   MarkDown1  MarkDown2  MarkDown3  MarkDown4  MarkDown5         CPI  \\\n",
       "0        NaN        NaN        NaN        NaN        NaN  211.096358   \n",
       "1        NaN        NaN        NaN        NaN        NaN  211.096358   \n",
       "2        NaN        NaN        NaN        NaN        NaN  211.096358   \n",
       "3        NaN        NaN        NaN        NaN        NaN  211.096358   \n",
       "4        NaN        NaN        NaN        NaN        NaN  211.096358   \n",
       "\n",
       "   Unemployment Type    Size  week  year  \n",
       "0         8.106    A  151315     5  2010  \n",
       "1         8.106    A  151315     5  2010  \n",
       "2         8.106    A  151315     5  2010  \n",
       "3         8.106    A  151315     5  2010  \n",
       "4         8.106    A  151315     5  2010  "
      ]
     },
     "execution_count": 39,
     "metadata": {},
     "output_type": "execute_result"
    }
   ],
   "source": [
    "final_df.head()"
   ]
  },
  {
   "cell_type": "code",
   "execution_count": 40,
   "id": "5b571f62",
   "metadata": {},
   "outputs": [
    {
     "data": {
      "text/html": [
       "<div>\n",
       "<style scoped>\n",
       "    .dataframe tbody tr th:only-of-type {\n",
       "        vertical-align: middle;\n",
       "    }\n",
       "\n",
       "    .dataframe tbody tr th {\n",
       "        vertical-align: top;\n",
       "    }\n",
       "\n",
       "    .dataframe thead th {\n",
       "        text-align: right;\n",
       "    }\n",
       "</style>\n",
       "<table border=\"1\" class=\"dataframe\">\n",
       "  <thead>\n",
       "    <tr style=\"text-align: right;\">\n",
       "      <th></th>\n",
       "      <th>Store</th>\n",
       "      <th>Dept</th>\n",
       "      <th>Date</th>\n",
       "      <th>Weekly_Sales</th>\n",
       "      <th>IsHoliday</th>\n",
       "      <th>Temperature</th>\n",
       "      <th>Fuel_Price</th>\n",
       "      <th>MarkDown1</th>\n",
       "      <th>MarkDown2</th>\n",
       "      <th>MarkDown3</th>\n",
       "      <th>MarkDown4</th>\n",
       "      <th>MarkDown5</th>\n",
       "      <th>CPI</th>\n",
       "      <th>Unemployment</th>\n",
       "      <th>Type</th>\n",
       "      <th>Size</th>\n",
       "      <th>week</th>\n",
       "      <th>year</th>\n",
       "    </tr>\n",
       "  </thead>\n",
       "  <tbody>\n",
       "    <tr>\n",
       "      <th>421565</th>\n",
       "      <td>45</td>\n",
       "      <td>93</td>\n",
       "      <td>2012-10-26</td>\n",
       "      <td>2487.80</td>\n",
       "      <td>False</td>\n",
       "      <td>58.85</td>\n",
       "      <td>3.882</td>\n",
       "      <td>4018.91</td>\n",
       "      <td>58.08</td>\n",
       "      <td>100.0</td>\n",
       "      <td>211.94</td>\n",
       "      <td>858.33</td>\n",
       "      <td>192.308899</td>\n",
       "      <td>8.667</td>\n",
       "      <td>B</td>\n",
       "      <td>118221</td>\n",
       "      <td>43</td>\n",
       "      <td>2012</td>\n",
       "    </tr>\n",
       "    <tr>\n",
       "      <th>421566</th>\n",
       "      <td>45</td>\n",
       "      <td>94</td>\n",
       "      <td>2012-10-26</td>\n",
       "      <td>5203.31</td>\n",
       "      <td>False</td>\n",
       "      <td>58.85</td>\n",
       "      <td>3.882</td>\n",
       "      <td>4018.91</td>\n",
       "      <td>58.08</td>\n",
       "      <td>100.0</td>\n",
       "      <td>211.94</td>\n",
       "      <td>858.33</td>\n",
       "      <td>192.308899</td>\n",
       "      <td>8.667</td>\n",
       "      <td>B</td>\n",
       "      <td>118221</td>\n",
       "      <td>43</td>\n",
       "      <td>2012</td>\n",
       "    </tr>\n",
       "    <tr>\n",
       "      <th>421567</th>\n",
       "      <td>45</td>\n",
       "      <td>95</td>\n",
       "      <td>2012-10-26</td>\n",
       "      <td>56017.47</td>\n",
       "      <td>False</td>\n",
       "      <td>58.85</td>\n",
       "      <td>3.882</td>\n",
       "      <td>4018.91</td>\n",
       "      <td>58.08</td>\n",
       "      <td>100.0</td>\n",
       "      <td>211.94</td>\n",
       "      <td>858.33</td>\n",
       "      <td>192.308899</td>\n",
       "      <td>8.667</td>\n",
       "      <td>B</td>\n",
       "      <td>118221</td>\n",
       "      <td>43</td>\n",
       "      <td>2012</td>\n",
       "    </tr>\n",
       "    <tr>\n",
       "      <th>421568</th>\n",
       "      <td>45</td>\n",
       "      <td>97</td>\n",
       "      <td>2012-10-26</td>\n",
       "      <td>6817.48</td>\n",
       "      <td>False</td>\n",
       "      <td>58.85</td>\n",
       "      <td>3.882</td>\n",
       "      <td>4018.91</td>\n",
       "      <td>58.08</td>\n",
       "      <td>100.0</td>\n",
       "      <td>211.94</td>\n",
       "      <td>858.33</td>\n",
       "      <td>192.308899</td>\n",
       "      <td>8.667</td>\n",
       "      <td>B</td>\n",
       "      <td>118221</td>\n",
       "      <td>43</td>\n",
       "      <td>2012</td>\n",
       "    </tr>\n",
       "    <tr>\n",
       "      <th>421569</th>\n",
       "      <td>45</td>\n",
       "      <td>98</td>\n",
       "      <td>2012-10-26</td>\n",
       "      <td>1076.80</td>\n",
       "      <td>False</td>\n",
       "      <td>58.85</td>\n",
       "      <td>3.882</td>\n",
       "      <td>4018.91</td>\n",
       "      <td>58.08</td>\n",
       "      <td>100.0</td>\n",
       "      <td>211.94</td>\n",
       "      <td>858.33</td>\n",
       "      <td>192.308899</td>\n",
       "      <td>8.667</td>\n",
       "      <td>B</td>\n",
       "      <td>118221</td>\n",
       "      <td>43</td>\n",
       "      <td>2012</td>\n",
       "    </tr>\n",
       "  </tbody>\n",
       "</table>\n",
       "</div>"
      ],
      "text/plain": [
       "        Store  Dept       Date  Weekly_Sales  IsHoliday  Temperature  \\\n",
       "421565     45    93 2012-10-26       2487.80      False        58.85   \n",
       "421566     45    94 2012-10-26       5203.31      False        58.85   \n",
       "421567     45    95 2012-10-26      56017.47      False        58.85   \n",
       "421568     45    97 2012-10-26       6817.48      False        58.85   \n",
       "421569     45    98 2012-10-26       1076.80      False        58.85   \n",
       "\n",
       "        Fuel_Price  MarkDown1  MarkDown2  MarkDown3  MarkDown4  MarkDown5  \\\n",
       "421565       3.882    4018.91      58.08      100.0     211.94     858.33   \n",
       "421566       3.882    4018.91      58.08      100.0     211.94     858.33   \n",
       "421567       3.882    4018.91      58.08      100.0     211.94     858.33   \n",
       "421568       3.882    4018.91      58.08      100.0     211.94     858.33   \n",
       "421569       3.882    4018.91      58.08      100.0     211.94     858.33   \n",
       "\n",
       "               CPI  Unemployment Type    Size  week  year  \n",
       "421565  192.308899         8.667    B  118221    43  2012  \n",
       "421566  192.308899         8.667    B  118221    43  2012  \n",
       "421567  192.308899         8.667    B  118221    43  2012  \n",
       "421568  192.308899         8.667    B  118221    43  2012  \n",
       "421569  192.308899         8.667    B  118221    43  2012  "
      ]
     },
     "execution_count": 40,
     "metadata": {},
     "output_type": "execute_result"
    }
   ],
   "source": [
    "final_df.tail()"
   ]
  },
  {
   "cell_type": "code",
   "execution_count": 41,
   "id": "1c3fdae2",
   "metadata": {},
   "outputs": [],
   "source": [
    "## in year 2011 what is average sale weekly\n",
    "weekly_sales_2011 = final_df[final_df['year']==2011].groupby(['week'])['Weekly_Sales'].mean()"
   ]
  },
  {
   "cell_type": "code",
   "execution_count": 42,
   "id": "60fe7378",
   "metadata": {},
   "outputs": [
    {
     "data": {
      "text/plain": [
       "16029.516788214038"
      ]
     },
     "execution_count": 42,
     "metadata": {},
     "output_type": "execute_result"
    }
   ],
   "source": [
    "final_df[final_df['week']==5]['Weekly_Sales'].mean()"
   ]
  },
  {
   "cell_type": "code",
   "execution_count": 43,
   "id": "8173c8cb",
   "metadata": {},
   "outputs": [],
   "source": [
    "weekly_sales_2012 = final_df[final_df['year']==2012].groupby(['week'])['Weekly_Sales'].mean()"
   ]
  },
  {
   "cell_type": "code",
   "execution_count": 44,
   "id": "91805df0",
   "metadata": {},
   "outputs": [],
   "source": [
    "weekly_sales_2010 = final_df[final_df['year']==2010].groupby(['week'])['Weekly_Sales'].mean()"
   ]
  },
  {
   "cell_type": "code",
   "execution_count": 45,
   "id": "5602742a",
   "metadata": {},
   "outputs": [],
   "source": [
    "# print(weekly_sales_2010.index)\n",
    "# print(weekly_sales_2010.values)"
   ]
  },
  {
   "cell_type": "code",
   "execution_count": 46,
   "id": "0ce0ca4d",
   "metadata": {},
   "outputs": [
    {
     "data": {
      "text/plain": [
       "<AxesSubplot:xlabel='week'>"
      ]
     },
     "execution_count": 46,
     "metadata": {},
     "output_type": "execute_result"
    },
    {
     "data": {
      "image/png": "[encoded data removed]",
      "text/plain": [
       "<Figure size 864x576 with 1 Axes>"
      ]
     },
     "metadata": {
      "needs_background": "light"
     },
     "output_type": "display_data"
    }
   ],
   "source": [
    "# Plotting weekly_sales_2010\n",
    "plt.figure(figsize=(12,8))\n",
    "sns.lineplot(x=weekly_sales_2010.index, y=weekly_sales_2010.values, color='r')"
   ]
  },
  {
   "cell_type": "code",
   "execution_count": 47,
   "id": "27a38a87",
   "metadata": {},
   "outputs": [
    {
     "data": {
      "text/plain": [
       "<AxesSubplot:xlabel='week'>"
      ]
     },
     "execution_count": 47,
     "metadata": {},
     "output_type": "execute_result"
    },
    {
     "data": {
      "image/png": "[encoded data removed]",
      "text/plain": [
       "<Figure size 864x576 with 1 Axes>"
      ]
     },
     "metadata": {
      "needs_background": "light"
     },
     "output_type": "display_data"
    }
   ],
   "source": [
    "# Plotting weekly_sales_2011\n",
    "plt.figure(figsize=(12,8))\n",
    "sns.lineplot(x=weekly_sales_2011.index, y=weekly_sales_2011.values, color='b')"
   ]
  },
  {
   "cell_type": "code",
   "execution_count": 48,
   "id": "c646e848",
   "metadata": {},
   "outputs": [
    {
     "data": {
      "text/plain": [
       "<AxesSubplot:xlabel='week'>"
      ]
     },
     "execution_count": 48,
     "metadata": {},
     "output_type": "execute_result"
    },
    {
     "data": {
      "image/png": "[encoded data removed]",
      "text/plain": [
       "<Figure size 864x576 with 1 Axes>"
      ]
     },
     "metadata": {
      "needs_background": "light"
     },
     "output_type": "display_data"
    }
   ],
   "source": [
    "# Plotting weekly_sales_2012\n",
    "plt.figure(figsize=(12,8))\n",
    "sns.lineplot(x=weekly_sales_2012.index, y=weekly_sales_2012.values, color='g')"
   ]
  },
  {
   "cell_type": "code",
   "execution_count": 49,
   "id": "0e29ce26",
   "metadata": {},
   "outputs": [
    {
     "data": {
      "text/plain": [
       "<matplotlib.legend.Legend at 0x22d11c5a7c0>"
      ]
     },
     "execution_count": 49,
     "metadata": {},
     "output_type": "execute_result"
    },
    {
     "data": {
      "image/png": "[encoded data removed]",
      "text/plain": [
       "<Figure size 1440x720 with 1 Axes>"
      ]
     },
     "metadata": {
      "needs_background": "light"
     },
     "output_type": "display_data"
    }
   ],
   "source": [
    "# Plotting weekly sales of all 3 years together\n",
    "plt.figure(figsize=(20,10))\n",
    "sns.lineplot(x=weekly_sales_2010.index, y=weekly_sales_2010.values, color='r')\n",
    "sns.lineplot(x=weekly_sales_2011.index, y=weekly_sales_2011.values, color='b')\n",
    "sns.lineplot(x=weekly_sales_2012.index, y=weekly_sales_2012.values, color='g')\n",
    "plt.xticks(np.arange(1,55,step=1))\n",
    "plt.grid()\n",
    "plt.title('Average weekly sales per year')\n",
    "plt.xlabel('week')\n",
    "plt.ylabel('sales')\n",
    "plt.legend(['2010','2011','2012'])"
   ]
  },
  {
   "cell_type": "code",
   "execution_count": 50,
   "id": "1b8f975f",
   "metadata": {},
   "outputs": [
    {
     "name": "stderr",
     "output_type": "stream",
     "text": [
      "C:\\Users\\shash\\anaconda3\\lib\\site-packages\\seaborn\\distributions.py:2619: FutureWarning: `distplot` is a deprecated function and will be removed in a future version. Please adapt your code to use either `displot` (a figure-level function with similar flexibility) or `histplot` (an axes-level function for histograms).\n",
      "  warnings.warn(msg, FutureWarning)\n"
     ]
    },
    {
     "data": {
      "text/plain": [
       "<AxesSubplot:xlabel='Weekly_Sales', ylabel='Density'>"
      ]
     },
     "execution_count": 50,
     "metadata": {},
     "output_type": "execute_result"
    },
    {
     "data": {
      "image/png": "[encoded data removed]",
      "text/plain": [
       "<Figure size 432x288 with 1 Axes>"
      ]
     },
     "metadata": {
      "needs_background": "light"
     },
     "output_type": "display_data"
    }
   ],
   "source": [
    "sns.distplot(final_df['Weekly_Sales'])"
   ]
  },
  {
   "cell_type": "code",
   "execution_count": null,
   "id": "4c9ff92e",
   "metadata": {},
   "outputs": [],
   "source": []
  },
  {
   "cell_type": "code",
   "execution_count": 51,
   "id": "3bcf43c4",
   "metadata": {},
   "outputs": [
    {
     "data": {
      "text/plain": [
       "<AxesSubplot:xlabel='Type', ylabel='Size'>"
      ]
     },
     "execution_count": 51,
     "metadata": {},
     "output_type": "execute_result"
    },
    {
     "data": {
      "image/png": "[encoded data removed]",
      "text/plain": [
       "<Figure size 432x288 with 1 Axes>"
      ]
     },
     "metadata": {
      "needs_background": "light"
     },
     "output_type": "display_data"
    }
   ],
   "source": [
    "## box plot\n",
    "## i wanted to find the relationship between \"store type\" and \"store size\" using box plot\n",
    "sns.boxplot(data=final_df, x='Type', y='Size')"
   ]
  },
  {
   "cell_type": "code",
   "execution_count": 52,
   "id": "81e9fecc",
   "metadata": {},
   "outputs": [
    {
     "data": {
      "text/plain": [
       "Index(['Store', 'Dept', 'Date', 'Weekly_Sales', 'IsHoliday', 'Temperature',\n",
       "       'Fuel_Price', 'MarkDown1', 'MarkDown2', 'MarkDown3', 'MarkDown4',\n",
       "       'MarkDown5', 'CPI', 'Unemployment', 'Type', 'Size', 'week', 'year'],\n",
       "      dtype='object')"
      ]
     },
     "execution_count": 52,
     "metadata": {},
     "output_type": "execute_result"
    }
   ],
   "source": [
    "final_df.columns"
   ]
  },
  {
   "cell_type": "code",
   "execution_count": 53,
   "id": "4d910198",
   "metadata": {},
   "outputs": [],
   "source": [
    "# Which store have highest weekly average sales.\n",
    "weekly_store_sales = final_df['Weekly_Sales'].groupby(final_df['Store']).mean()"
   ]
  },
  {
   "cell_type": "code",
   "execution_count": 54,
   "id": "2c5c1484",
   "metadata": {},
   "outputs": [
    {
     "data": {
      "text/plain": [
       "Store\n",
       "1     21710.543621\n",
       "2     26898.070031\n",
       "3      6373.033983\n",
       "4     29161.210415\n",
       "5      5053.415813\n",
       "6     21913.243624\n",
       "7      8358.766148\n",
       "8     13133.014768\n",
       "9      8772.890379\n",
       "10    26332.303819\n",
       "11    19276.762751\n",
       "12    14867.308619\n",
       "13    27355.136891\n",
       "14    28784.851727\n",
       "15     9002.493073\n",
       "16     7863.224124\n",
       "17    12954.393636\n",
       "18    15733.313136\n",
       "19    20362.126734\n",
       "20    29508.301592\n",
       "21    11283.435496\n",
       "22    15181.218886\n",
       "23    19776.180881\n",
       "24    18969.106500\n",
       "25    10308.157810\n",
       "26    14554.129672\n",
       "27    24826.984536\n",
       "28    18714.889803\n",
       "29     8158.810609\n",
       "30     8764.237719\n",
       "31    19681.907464\n",
       "32    16351.621855\n",
       "33     5728.414053\n",
       "34    13522.081671\n",
       "35    13803.596986\n",
       "36     8584.412563\n",
       "37    10297.355026\n",
       "38     7492.478460\n",
       "39    21000.763562\n",
       "40    13763.632803\n",
       "41    17976.004648\n",
       "42    11443.370118\n",
       "43    13415.114118\n",
       "44     6038.929814\n",
       "45    11662.897315\n",
       "Name: Weekly_Sales, dtype: float64"
      ]
     },
     "execution_count": 54,
     "metadata": {},
     "output_type": "execute_result"
    }
   ],
   "source": [
    "weekly_store_sales"
   ]
  },
  {
   "cell_type": "code",
   "execution_count": 55,
   "id": "0898494c",
   "metadata": {},
   "outputs": [],
   "source": [
    "weekly_store_sale_df = pd.DataFrame(weekly_store_sales)"
   ]
  },
  {
   "cell_type": "code",
   "execution_count": 56,
   "id": "63a8ef65",
   "metadata": {},
   "outputs": [
    {
     "data": {
      "text/html": [
       "<div>\n",
       "<style scoped>\n",
       "    .dataframe tbody tr th:only-of-type {\n",
       "        vertical-align: middle;\n",
       "    }\n",
       "\n",
       "    .dataframe tbody tr th {\n",
       "        vertical-align: top;\n",
       "    }\n",
       "\n",
       "    .dataframe thead th {\n",
       "        text-align: right;\n",
       "    }\n",
       "</style>\n",
       "<table border=\"1\" class=\"dataframe\">\n",
       "  <thead>\n",
       "    <tr style=\"text-align: right;\">\n",
       "      <th></th>\n",
       "      <th>Weekly_Sales</th>\n",
       "    </tr>\n",
       "    <tr>\n",
       "      <th>Store</th>\n",
       "      <th></th>\n",
       "    </tr>\n",
       "  </thead>\n",
       "  <tbody>\n",
       "    <tr>\n",
       "      <th>1</th>\n",
       "      <td>21710.543621</td>\n",
       "    </tr>\n",
       "    <tr>\n",
       "      <th>2</th>\n",
       "      <td>26898.070031</td>\n",
       "    </tr>\n",
       "    <tr>\n",
       "      <th>3</th>\n",
       "      <td>6373.033983</td>\n",
       "    </tr>\n",
       "    <tr>\n",
       "      <th>4</th>\n",
       "      <td>29161.210415</td>\n",
       "    </tr>\n",
       "    <tr>\n",
       "      <th>5</th>\n",
       "      <td>5053.415813</td>\n",
       "    </tr>\n",
       "  </tbody>\n",
       "</table>\n",
       "</div>"
      ],
      "text/plain": [
       "       Weekly_Sales\n",
       "Store              \n",
       "1      21710.543621\n",
       "2      26898.070031\n",
       "3       6373.033983\n",
       "4      29161.210415\n",
       "5       5053.415813"
      ]
     },
     "execution_count": 56,
     "metadata": {},
     "output_type": "execute_result"
    }
   ],
   "source": [
    "weekly_store_sale_df.head()"
   ]
  },
  {
   "cell_type": "markdown",
   "id": "43921a50",
   "metadata": {},
   "source": [
    "### .sort_values():\n",
    "- Sort by the values along either axis."
   ]
  },
  {
   "cell_type": "code",
   "execution_count": 57,
   "id": "5c157689",
   "metadata": {},
   "outputs": [
    {
     "data": {
      "text/html": [
       "<style type=\"text/css\">\n",
       "#T_fabca_row0_col0 {\n",
       "  width: 10em;\n",
       "  background: linear-gradient(90deg, #FFD200 100.0%, transparent 100.0%);\n",
       "}\n",
       "#T_fabca_row1_col0 {\n",
       "  width: 10em;\n",
       "  background: linear-gradient(90deg, #FFD200 98.8%, transparent 98.8%);\n",
       "}\n",
       "#T_fabca_row2_col0 {\n",
       "  width: 10em;\n",
       "  background: linear-gradient(90deg, #FFD200 97.5%, transparent 97.5%);\n",
       "}\n",
       "#T_fabca_row3_col0 {\n",
       "  width: 10em;\n",
       "  background: linear-gradient(90deg, #FFD200 92.7%, transparent 92.7%);\n",
       "}\n",
       "#T_fabca_row4_col0 {\n",
       "  width: 10em;\n",
       "  background: linear-gradient(90deg, #FFD200 91.2%, transparent 91.2%);\n",
       "}\n",
       "#T_fabca_row5_col0 {\n",
       "  width: 10em;\n",
       "  background: linear-gradient(90deg, #FFD200 89.2%, transparent 89.2%);\n",
       "}\n",
       "#T_fabca_row6_col0 {\n",
       "  width: 10em;\n",
       "  background: linear-gradient(90deg, #FFD200 84.1%, transparent 84.1%);\n",
       "}\n",
       "#T_fabca_row7_col0 {\n",
       "  width: 10em;\n",
       "  background: linear-gradient(90deg, #FFD200 74.3%, transparent 74.3%);\n",
       "}\n",
       "#T_fabca_row8_col0 {\n",
       "  width: 10em;\n",
       "  background: linear-gradient(90deg, #FFD200 73.6%, transparent 73.6%);\n",
       "}\n",
       "#T_fabca_row9_col0 {\n",
       "  width: 10em;\n",
       "  background: linear-gradient(90deg, #FFD200 71.2%, transparent 71.2%);\n",
       "}\n",
       "#T_fabca_row10_col0 {\n",
       "  width: 10em;\n",
       "  background: linear-gradient(90deg, #FFD200 69.0%, transparent 69.0%);\n",
       "}\n",
       "#T_fabca_row11_col0 {\n",
       "  width: 10em;\n",
       "  background: linear-gradient(90deg, #FFD200 67.0%, transparent 67.0%);\n",
       "}\n",
       "#T_fabca_row12_col0 {\n",
       "  width: 10em;\n",
       "  background: linear-gradient(90deg, #FFD200 66.7%, transparent 66.7%);\n",
       "}\n",
       "#T_fabca_row13_col0 {\n",
       "  width: 10em;\n",
       "  background: linear-gradient(90deg, #FFD200 65.3%, transparent 65.3%);\n",
       "}\n",
       "#T_fabca_row14_col0 {\n",
       "  width: 10em;\n",
       "  background: linear-gradient(90deg, #FFD200 64.3%, transparent 64.3%);\n",
       "}\n",
       "#T_fabca_row15_col0 {\n",
       "  width: 10em;\n",
       "  background: linear-gradient(90deg, #FFD200 63.4%, transparent 63.4%);\n",
       "}\n",
       "#T_fabca_row16_col0 {\n",
       "  width: 10em;\n",
       "  background: linear-gradient(90deg, #FFD200 60.9%, transparent 60.9%);\n",
       "}\n",
       "#T_fabca_row17_col0 {\n",
       "  width: 10em;\n",
       "  background: linear-gradient(90deg, #FFD200 55.4%, transparent 55.4%);\n",
       "}\n",
       "#T_fabca_row18_col0 {\n",
       "  width: 10em;\n",
       "  background: linear-gradient(90deg, #FFD200 53.3%, transparent 53.3%);\n",
       "}\n",
       "#T_fabca_row19_col0 {\n",
       "  width: 10em;\n",
       "  background: linear-gradient(90deg, #FFD200 51.4%, transparent 51.4%);\n",
       "}\n",
       "#T_fabca_row20_col0 {\n",
       "  width: 10em;\n",
       "  background: linear-gradient(90deg, #FFD200 50.4%, transparent 50.4%);\n",
       "}\n",
       "#T_fabca_row21_col0 {\n",
       "  width: 10em;\n",
       "  background: linear-gradient(90deg, #FFD200 49.3%, transparent 49.3%);\n",
       "}\n",
       "#T_fabca_row22_col0 {\n",
       "  width: 10em;\n",
       "  background: linear-gradient(90deg, #FFD200 46.8%, transparent 46.8%);\n",
       "}\n",
       "#T_fabca_row23_col0 {\n",
       "  width: 10em;\n",
       "  background: linear-gradient(90deg, #FFD200 46.6%, transparent 46.6%);\n",
       "}\n",
       "#T_fabca_row24_col0 {\n",
       "  width: 10em;\n",
       "  background: linear-gradient(90deg, #FFD200 45.8%, transparent 45.8%);\n",
       "}\n",
       "#T_fabca_row25_col0 {\n",
       "  width: 10em;\n",
       "  background: linear-gradient(90deg, #FFD200 45.5%, transparent 45.5%);\n",
       "}\n",
       "#T_fabca_row26_col0 {\n",
       "  width: 10em;\n",
       "  background: linear-gradient(90deg, #FFD200 44.5%, transparent 44.5%);\n",
       "}\n",
       "#T_fabca_row27_col0 {\n",
       "  width: 10em;\n",
       "  background: linear-gradient(90deg, #FFD200 43.9%, transparent 43.9%);\n",
       "}\n",
       "#T_fabca_row28_col0 {\n",
       "  width: 10em;\n",
       "  background: linear-gradient(90deg, #FFD200 39.5%, transparent 39.5%);\n",
       "}\n",
       "#T_fabca_row29_col0 {\n",
       "  width: 10em;\n",
       "  background: linear-gradient(90deg, #FFD200 38.8%, transparent 38.8%);\n",
       "}\n",
       "#T_fabca_row30_col0 {\n",
       "  width: 10em;\n",
       "  background: linear-gradient(90deg, #FFD200 38.2%, transparent 38.2%);\n",
       "}\n",
       "#T_fabca_row31_col0, #T_fabca_row32_col0 {\n",
       "  width: 10em;\n",
       "  background: linear-gradient(90deg, #FFD200 34.9%, transparent 34.9%);\n",
       "}\n",
       "#T_fabca_row33_col0 {\n",
       "  width: 10em;\n",
       "  background: linear-gradient(90deg, #FFD200 30.5%, transparent 30.5%);\n",
       "}\n",
       "#T_fabca_row34_col0, #T_fabca_row35_col0 {\n",
       "  width: 10em;\n",
       "  background: linear-gradient(90deg, #FFD200 29.7%, transparent 29.7%);\n",
       "}\n",
       "#T_fabca_row36_col0 {\n",
       "  width: 10em;\n",
       "  background: linear-gradient(90deg, #FFD200 29.1%, transparent 29.1%);\n",
       "}\n",
       "#T_fabca_row37_col0 {\n",
       "  width: 10em;\n",
       "  background: linear-gradient(90deg, #FFD200 28.3%, transparent 28.3%);\n",
       "}\n",
       "#T_fabca_row38_col0 {\n",
       "  width: 10em;\n",
       "  background: linear-gradient(90deg, #FFD200 27.6%, transparent 27.6%);\n",
       "}\n",
       "#T_fabca_row39_col0 {\n",
       "  width: 10em;\n",
       "  background: linear-gradient(90deg, #FFD200 26.6%, transparent 26.6%);\n",
       "}\n",
       "#T_fabca_row40_col0 {\n",
       "  width: 10em;\n",
       "  background: linear-gradient(90deg, #FFD200 25.4%, transparent 25.4%);\n",
       "}\n",
       "#T_fabca_row41_col0 {\n",
       "  width: 10em;\n",
       "  background: linear-gradient(90deg, #FFD200 21.6%, transparent 21.6%);\n",
       "}\n",
       "#T_fabca_row42_col0 {\n",
       "  width: 10em;\n",
       "  background: linear-gradient(90deg, #FFD200 20.5%, transparent 20.5%);\n",
       "}\n",
       "#T_fabca_row43_col0 {\n",
       "  width: 10em;\n",
       "  background: linear-gradient(90deg, #FFD200 19.4%, transparent 19.4%);\n",
       "}\n",
       "#T_fabca_row44_col0 {\n",
       "  width: 10em;\n",
       "  background: linear-gradient(90deg, #FFD200 17.1%, transparent 17.1%);\n",
       "}\n",
       "</style>\n",
       "<table id=\"T_fabca\">\n",
       "  <thead>\n",
       "    <tr>\n",
       "      <th class=\"blank level0\" >&nbsp;</th>\n",
       "      <th id=\"T_fabca_level0_col0\" class=\"col_heading level0 col0\" >Weekly_Sales</th>\n",
       "    </tr>\n",
       "    <tr>\n",
       "      <th class=\"index_name level0\" >Store</th>\n",
       "      <th class=\"blank col0\" >&nbsp;</th>\n",
       "    </tr>\n",
       "  </thead>\n",
       "  <tbody>\n",
       "    <tr>\n",
       "      <th id=\"T_fabca_level0_row0\" class=\"row_heading level0 row0\" >20</th>\n",
       "      <td id=\"T_fabca_row0_col0\" class=\"data row0 col0\" >29508.301592</td>\n",
       "    </tr>\n",
       "    <tr>\n",
       "      <th id=\"T_fabca_level0_row1\" class=\"row_heading level0 row1\" >4</th>\n",
       "      <td id=\"T_fabca_row1_col0\" class=\"data row1 col0\" >29161.210415</td>\n",
       "    </tr>\n",
       "    <tr>\n",
       "      <th id=\"T_fabca_level0_row2\" class=\"row_heading level0 row2\" >14</th>\n",
       "      <td id=\"T_fabca_row2_col0\" class=\"data row2 col0\" >28784.851727</td>\n",
       "    </tr>\n",
       "    <tr>\n",
       "      <th id=\"T_fabca_level0_row3\" class=\"row_heading level0 row3\" >13</th>\n",
       "      <td id=\"T_fabca_row3_col0\" class=\"data row3 col0\" >27355.136891</td>\n",
       "    </tr>\n",
       "    <tr>\n",
       "      <th id=\"T_fabca_level0_row4\" class=\"row_heading level0 row4\" >2</th>\n",
       "      <td id=\"T_fabca_row4_col0\" class=\"data row4 col0\" >26898.070031</td>\n",
       "    </tr>\n",
       "    <tr>\n",
       "      <th id=\"T_fabca_level0_row5\" class=\"row_heading level0 row5\" >10</th>\n",
       "      <td id=\"T_fabca_row5_col0\" class=\"data row5 col0\" >26332.303819</td>\n",
       "    </tr>\n",
       "    <tr>\n",
       "      <th id=\"T_fabca_level0_row6\" class=\"row_heading level0 row6\" >27</th>\n",
       "      <td id=\"T_fabca_row6_col0\" class=\"data row6 col0\" >24826.984536</td>\n",
       "    </tr>\n",
       "    <tr>\n",
       "      <th id=\"T_fabca_level0_row7\" class=\"row_heading level0 row7\" >6</th>\n",
       "      <td id=\"T_fabca_row7_col0\" class=\"data row7 col0\" >21913.243624</td>\n",
       "    </tr>\n",
       "    <tr>\n",
       "      <th id=\"T_fabca_level0_row8\" class=\"row_heading level0 row8\" >1</th>\n",
       "      <td id=\"T_fabca_row8_col0\" class=\"data row8 col0\" >21710.543621</td>\n",
       "    </tr>\n",
       "    <tr>\n",
       "      <th id=\"T_fabca_level0_row9\" class=\"row_heading level0 row9\" >39</th>\n",
       "      <td id=\"T_fabca_row9_col0\" class=\"data row9 col0\" >21000.763562</td>\n",
       "    </tr>\n",
       "    <tr>\n",
       "      <th id=\"T_fabca_level0_row10\" class=\"row_heading level0 row10\" >19</th>\n",
       "      <td id=\"T_fabca_row10_col0\" class=\"data row10 col0\" >20362.126734</td>\n",
       "    </tr>\n",
       "    <tr>\n",
       "      <th id=\"T_fabca_level0_row11\" class=\"row_heading level0 row11\" >23</th>\n",
       "      <td id=\"T_fabca_row11_col0\" class=\"data row11 col0\" >19776.180881</td>\n",
       "    </tr>\n",
       "    <tr>\n",
       "      <th id=\"T_fabca_level0_row12\" class=\"row_heading level0 row12\" >31</th>\n",
       "      <td id=\"T_fabca_row12_col0\" class=\"data row12 col0\" >19681.907464</td>\n",
       "    </tr>\n",
       "    <tr>\n",
       "      <th id=\"T_fabca_level0_row13\" class=\"row_heading level0 row13\" >11</th>\n",
       "      <td id=\"T_fabca_row13_col0\" class=\"data row13 col0\" >19276.762751</td>\n",
       "    </tr>\n",
       "    <tr>\n",
       "      <th id=\"T_fabca_level0_row14\" class=\"row_heading level0 row14\" >24</th>\n",
       "      <td id=\"T_fabca_row14_col0\" class=\"data row14 col0\" >18969.106500</td>\n",
       "    </tr>\n",
       "    <tr>\n",
       "      <th id=\"T_fabca_level0_row15\" class=\"row_heading level0 row15\" >28</th>\n",
       "      <td id=\"T_fabca_row15_col0\" class=\"data row15 col0\" >18714.889803</td>\n",
       "    </tr>\n",
       "    <tr>\n",
       "      <th id=\"T_fabca_level0_row16\" class=\"row_heading level0 row16\" >41</th>\n",
       "      <td id=\"T_fabca_row16_col0\" class=\"data row16 col0\" >17976.004648</td>\n",
       "    </tr>\n",
       "    <tr>\n",
       "      <th id=\"T_fabca_level0_row17\" class=\"row_heading level0 row17\" >32</th>\n",
       "      <td id=\"T_fabca_row17_col0\" class=\"data row17 col0\" >16351.621855</td>\n",
       "    </tr>\n",
       "    <tr>\n",
       "      <th id=\"T_fabca_level0_row18\" class=\"row_heading level0 row18\" >18</th>\n",
       "      <td id=\"T_fabca_row18_col0\" class=\"data row18 col0\" >15733.313136</td>\n",
       "    </tr>\n",
       "    <tr>\n",
       "      <th id=\"T_fabca_level0_row19\" class=\"row_heading level0 row19\" >22</th>\n",
       "      <td id=\"T_fabca_row19_col0\" class=\"data row19 col0\" >15181.218886</td>\n",
       "    </tr>\n",
       "    <tr>\n",
       "      <th id=\"T_fabca_level0_row20\" class=\"row_heading level0 row20\" >12</th>\n",
       "      <td id=\"T_fabca_row20_col0\" class=\"data row20 col0\" >14867.308619</td>\n",
       "    </tr>\n",
       "    <tr>\n",
       "      <th id=\"T_fabca_level0_row21\" class=\"row_heading level0 row21\" >26</th>\n",
       "      <td id=\"T_fabca_row21_col0\" class=\"data row21 col0\" >14554.129672</td>\n",
       "    </tr>\n",
       "    <tr>\n",
       "      <th id=\"T_fabca_level0_row22\" class=\"row_heading level0 row22\" >35</th>\n",
       "      <td id=\"T_fabca_row22_col0\" class=\"data row22 col0\" >13803.596986</td>\n",
       "    </tr>\n",
       "    <tr>\n",
       "      <th id=\"T_fabca_level0_row23\" class=\"row_heading level0 row23\" >40</th>\n",
       "      <td id=\"T_fabca_row23_col0\" class=\"data row23 col0\" >13763.632803</td>\n",
       "    </tr>\n",
       "    <tr>\n",
       "      <th id=\"T_fabca_level0_row24\" class=\"row_heading level0 row24\" >34</th>\n",
       "      <td id=\"T_fabca_row24_col0\" class=\"data row24 col0\" >13522.081671</td>\n",
       "    </tr>\n",
       "    <tr>\n",
       "      <th id=\"T_fabca_level0_row25\" class=\"row_heading level0 row25\" >43</th>\n",
       "      <td id=\"T_fabca_row25_col0\" class=\"data row25 col0\" >13415.114118</td>\n",
       "    </tr>\n",
       "    <tr>\n",
       "      <th id=\"T_fabca_level0_row26\" class=\"row_heading level0 row26\" >8</th>\n",
       "      <td id=\"T_fabca_row26_col0\" class=\"data row26 col0\" >13133.014768</td>\n",
       "    </tr>\n",
       "    <tr>\n",
       "      <th id=\"T_fabca_level0_row27\" class=\"row_heading level0 row27\" >17</th>\n",
       "      <td id=\"T_fabca_row27_col0\" class=\"data row27 col0\" >12954.393636</td>\n",
       "    </tr>\n",
       "    <tr>\n",
       "      <th id=\"T_fabca_level0_row28\" class=\"row_heading level0 row28\" >45</th>\n",
       "      <td id=\"T_fabca_row28_col0\" class=\"data row28 col0\" >11662.897315</td>\n",
       "    </tr>\n",
       "    <tr>\n",
       "      <th id=\"T_fabca_level0_row29\" class=\"row_heading level0 row29\" >42</th>\n",
       "      <td id=\"T_fabca_row29_col0\" class=\"data row29 col0\" >11443.370118</td>\n",
       "    </tr>\n",
       "    <tr>\n",
       "      <th id=\"T_fabca_level0_row30\" class=\"row_heading level0 row30\" >21</th>\n",
       "      <td id=\"T_fabca_row30_col0\" class=\"data row30 col0\" >11283.435496</td>\n",
       "    </tr>\n",
       "    <tr>\n",
       "      <th id=\"T_fabca_level0_row31\" class=\"row_heading level0 row31\" >25</th>\n",
       "      <td id=\"T_fabca_row31_col0\" class=\"data row31 col0\" >10308.157810</td>\n",
       "    </tr>\n",
       "    <tr>\n",
       "      <th id=\"T_fabca_level0_row32\" class=\"row_heading level0 row32\" >37</th>\n",
       "      <td id=\"T_fabca_row32_col0\" class=\"data row32 col0\" >10297.355026</td>\n",
       "    </tr>\n",
       "    <tr>\n",
       "      <th id=\"T_fabca_level0_row33\" class=\"row_heading level0 row33\" >15</th>\n",
       "      <td id=\"T_fabca_row33_col0\" class=\"data row33 col0\" >9002.493073</td>\n",
       "    </tr>\n",
       "    <tr>\n",
       "      <th id=\"T_fabca_level0_row34\" class=\"row_heading level0 row34\" >9</th>\n",
       "      <td id=\"T_fabca_row34_col0\" class=\"data row34 col0\" >8772.890379</td>\n",
       "    </tr>\n",
       "    <tr>\n",
       "      <th id=\"T_fabca_level0_row35\" class=\"row_heading level0 row35\" >30</th>\n",
       "      <td id=\"T_fabca_row35_col0\" class=\"data row35 col0\" >8764.237719</td>\n",
       "    </tr>\n",
       "    <tr>\n",
       "      <th id=\"T_fabca_level0_row36\" class=\"row_heading level0 row36\" >36</th>\n",
       "      <td id=\"T_fabca_row36_col0\" class=\"data row36 col0\" >8584.412563</td>\n",
       "    </tr>\n",
       "    <tr>\n",
       "      <th id=\"T_fabca_level0_row37\" class=\"row_heading level0 row37\" >7</th>\n",
       "      <td id=\"T_fabca_row37_col0\" class=\"data row37 col0\" >8358.766148</td>\n",
       "    </tr>\n",
       "    <tr>\n",
       "      <th id=\"T_fabca_level0_row38\" class=\"row_heading level0 row38\" >29</th>\n",
       "      <td id=\"T_fabca_row38_col0\" class=\"data row38 col0\" >8158.810609</td>\n",
       "    </tr>\n",
       "    <tr>\n",
       "      <th id=\"T_fabca_level0_row39\" class=\"row_heading level0 row39\" >16</th>\n",
       "      <td id=\"T_fabca_row39_col0\" class=\"data row39 col0\" >7863.224124</td>\n",
       "    </tr>\n",
       "    <tr>\n",
       "      <th id=\"T_fabca_level0_row40\" class=\"row_heading level0 row40\" >38</th>\n",
       "      <td id=\"T_fabca_row40_col0\" class=\"data row40 col0\" >7492.478460</td>\n",
       "    </tr>\n",
       "    <tr>\n",
       "      <th id=\"T_fabca_level0_row41\" class=\"row_heading level0 row41\" >3</th>\n",
       "      <td id=\"T_fabca_row41_col0\" class=\"data row41 col0\" >6373.033983</td>\n",
       "    </tr>\n",
       "    <tr>\n",
       "      <th id=\"T_fabca_level0_row42\" class=\"row_heading level0 row42\" >44</th>\n",
       "      <td id=\"T_fabca_row42_col0\" class=\"data row42 col0\" >6038.929814</td>\n",
       "    </tr>\n",
       "    <tr>\n",
       "      <th id=\"T_fabca_level0_row43\" class=\"row_heading level0 row43\" >33</th>\n",
       "      <td id=\"T_fabca_row43_col0\" class=\"data row43 col0\" >5728.414053</td>\n",
       "    </tr>\n",
       "    <tr>\n",
       "      <th id=\"T_fabca_level0_row44\" class=\"row_heading level0 row44\" >5</th>\n",
       "      <td id=\"T_fabca_row44_col0\" class=\"data row44 col0\" >5053.415813</td>\n",
       "    </tr>\n",
       "  </tbody>\n",
       "</table>\n"
      ],
      "text/plain": [
       "<pandas.io.formats.style.Styler at 0x22d17b616d0>"
      ]
     },
     "execution_count": 57,
     "metadata": {},
     "output_type": "execute_result"
    }
   ],
   "source": [
    "weekly_store_sale_df.sort_values(by='Weekly_Sales', ascending=False).style.bar(color= '#FFD200')\n",
    "# store 20 have the highest sales\n",
    "# store 5 was having minimum sales"
   ]
  },
  {
   "cell_type": "code",
   "execution_count": 58,
   "id": "feb3b56f",
   "metadata": {},
   "outputs": [
    {
     "data": {
      "text/plain": [
       "array(['A'], dtype=object)"
      ]
     },
     "execution_count": 58,
     "metadata": {},
     "output_type": "execute_result"
    }
   ],
   "source": [
    "final_df[final_df['Store']==20]['Type'].unique()"
   ]
  },
  {
   "cell_type": "code",
   "execution_count": 59,
   "id": "15e06d36",
   "metadata": {},
   "outputs": [
    {
     "data": {
      "text/plain": [
       "array(['B'], dtype=object)"
      ]
     },
     "execution_count": 59,
     "metadata": {},
     "output_type": "execute_result"
    }
   ],
   "source": [
    "final_df[final_df['Store'] == 5]['Type'].unique()"
   ]
  },
  {
   "cell_type": "markdown",
   "id": "e72097f4",
   "metadata": {},
   "source": [
    "##### TASK - Plot a bar graph with store number as x values and on y axis you should have your weekly avergae sales per store"
   ]
  },
  {
   "cell_type": "code",
   "execution_count": 60,
   "id": "552f7aac",
   "metadata": {},
   "outputs": [
    {
     "data": {
      "text/plain": [
       "Text(0, 0.5, 'Sales per store')"
      ]
     },
     "execution_count": 60,
     "metadata": {},
     "output_type": "execute_result"
    },
    {
     "data": {
      "image/png": "[encoded data removed]",
      "text/plain": [
       "<Figure size 1800x864 with 1 Axes>"
      ]
     },
     "metadata": {
      "needs_background": "light"
     },
     "output_type": "display_data"
    }
   ],
   "source": [
    "plt.figure(figsize =(25,12))\n",
    "sns.barplot(x=weekly_store_sales.index, y=weekly_store_sales.values)\n",
    "plt.grid()\n",
    "plt.title(\"Average weekly sales per store\", fontsize=20)\n",
    "plt.xlabel(\"Store Number\", fontsize=16)\n",
    "plt.ylabel(\"Sales per store\", fontsize=16)"
   ]
  },
  {
   "cell_type": "code",
   "execution_count": 61,
   "id": "32c7741c",
   "metadata": {},
   "outputs": [
    {
     "data": {
      "text/plain": [
       "Index(['Store', 'Dept', 'Date', 'Weekly_Sales', 'IsHoliday', 'Temperature',\n",
       "       'Fuel_Price', 'MarkDown1', 'MarkDown2', 'MarkDown3', 'MarkDown4',\n",
       "       'MarkDown5', 'CPI', 'Unemployment', 'Type', 'Size', 'week', 'year'],\n",
       "      dtype='object')"
      ]
     },
     "execution_count": 61,
     "metadata": {},
     "output_type": "execute_result"
    }
   ],
   "source": [
    "final_df.columns"
   ]
  },
  {
   "cell_type": "markdown",
   "id": "aa6c01df",
   "metadata": {},
   "source": [
    "##### average weekly sales per department\n"
   ]
  },
  {
   "cell_type": "code",
   "execution_count": 62,
   "id": "10d5b0ad",
   "metadata": {},
   "outputs": [
    {
     "data": {
      "text/plain": [
       "array([ 1,  2,  3,  4,  5,  6,  7,  8,  9, 10, 11, 12, 13, 14, 16, 17, 18,\n",
       "       19, 20, 21, 22, 23, 24, 25, 26, 27, 28, 29, 30, 31, 32, 33, 34, 35,\n",
       "       36, 37, 38, 40, 41, 42, 44, 45, 46, 47, 48, 49, 51, 52, 54, 55, 56,\n",
       "       58, 59, 60, 67, 71, 72, 74, 79, 80, 81, 82, 83, 85, 87, 90, 91, 92,\n",
       "       93, 94, 95, 97, 98, 78, 96, 99, 77, 39, 50, 43, 65], dtype=int64)"
      ]
     },
     "execution_count": 62,
     "metadata": {},
     "output_type": "execute_result"
    }
   ],
   "source": [
    "final_df['Dept'].unique()"
   ]
  },
  {
   "cell_type": "code",
   "execution_count": 63,
   "id": "80c01422",
   "metadata": {},
   "outputs": [],
   "source": [
    "weekly_sales_dept = final_df.groupby(['Dept'])['Weekly_Sales'].mean()"
   ]
  },
  {
   "cell_type": "code",
   "execution_count": 64,
   "id": "80c06779",
   "metadata": {},
   "outputs": [],
   "source": [
    "weekly_sales_dept_df = pd.DataFrame(weekly_sales_dept)"
   ]
  },
  {
   "cell_type": "code",
   "execution_count": 65,
   "id": "4f0a13e8",
   "metadata": {},
   "outputs": [
    {
     "data": {
      "text/html": [
       "<div>\n",
       "<style scoped>\n",
       "    .dataframe tbody tr th:only-of-type {\n",
       "        vertical-align: middle;\n",
       "    }\n",
       "\n",
       "    .dataframe tbody tr th {\n",
       "        vertical-align: top;\n",
       "    }\n",
       "\n",
       "    .dataframe thead th {\n",
       "        text-align: right;\n",
       "    }\n",
       "</style>\n",
       "<table border=\"1\" class=\"dataframe\">\n",
       "  <thead>\n",
       "    <tr style=\"text-align: right;\">\n",
       "      <th></th>\n",
       "      <th>Weekly_Sales</th>\n",
       "    </tr>\n",
       "    <tr>\n",
       "      <th>Dept</th>\n",
       "      <th></th>\n",
       "    </tr>\n",
       "  </thead>\n",
       "  <tbody>\n",
       "    <tr>\n",
       "      <th>1</th>\n",
       "      <td>19213.485088</td>\n",
       "    </tr>\n",
       "    <tr>\n",
       "      <th>2</th>\n",
       "      <td>43607.020113</td>\n",
       "    </tr>\n",
       "    <tr>\n",
       "      <th>3</th>\n",
       "      <td>11793.698516</td>\n",
       "    </tr>\n",
       "    <tr>\n",
       "      <th>4</th>\n",
       "      <td>25974.630238</td>\n",
       "    </tr>\n",
       "    <tr>\n",
       "      <th>5</th>\n",
       "      <td>21365.583515</td>\n",
       "    </tr>\n",
       "  </tbody>\n",
       "</table>\n",
       "</div>"
      ],
      "text/plain": [
       "      Weekly_Sales\n",
       "Dept              \n",
       "1     19213.485088\n",
       "2     43607.020113\n",
       "3     11793.698516\n",
       "4     25974.630238\n",
       "5     21365.583515"
      ]
     },
     "execution_count": 65,
     "metadata": {},
     "output_type": "execute_result"
    }
   ],
   "source": [
    "weekly_sales_dept_df.head()"
   ]
  },
  {
   "cell_type": "code",
   "execution_count": 66,
   "id": "77b248e5",
   "metadata": {},
   "outputs": [
    {
     "data": {
      "text/html": [
       "<style type=\"text/css\">\n",
       "#T_31525_row0_col0 {\n",
       "  width: 10em;\n",
       "  background: linear-gradient(90deg, transparent 0.0%, #d65f5f 0.0%, #d65f5f 100.0%, transparent 100.0%);\n",
       "}\n",
       "#T_31525_row1_col0 {\n",
       "  width: 10em;\n",
       "  background: linear-gradient(90deg, transparent 0.0%, #d65f5f 0.0%, #d65f5f 92.8%, transparent 92.8%);\n",
       "}\n",
       "#T_31525_row2_col0 {\n",
       "  width: 10em;\n",
       "  background: linear-gradient(90deg, transparent 0.0%, #d65f5f 0.0%, #d65f5f 81.2%, transparent 81.2%);\n",
       "}\n",
       "#T_31525_row3_col0 {\n",
       "  width: 10em;\n",
       "  background: linear-gradient(90deg, transparent 0.0%, #d65f5f 0.0%, #d65f5f 67.2%, transparent 67.2%);\n",
       "}\n",
       "#T_31525_row4_col0 {\n",
       "  width: 10em;\n",
       "  background: linear-gradient(90deg, transparent 0.0%, #d65f5f 0.0%, #d65f5f 60.4%, transparent 60.4%);\n",
       "}\n",
       "#T_31525_row5_col0 {\n",
       "  width: 10em;\n",
       "  background: linear-gradient(90deg, transparent 0.0%, #d65f5f 0.0%, #d65f5f 60.1%, transparent 60.1%);\n",
       "}\n",
       "#T_31525_row6_col0 {\n",
       "  width: 10em;\n",
       "  background: linear-gradient(90deg, transparent 0.0%, #d65f5f 0.0%, #d65f5f 59.7%, transparent 59.7%);\n",
       "}\n",
       "#T_31525_row7_col0 {\n",
       "  width: 10em;\n",
       "  background: linear-gradient(90deg, transparent 0.0%, #d65f5f 0.0%, #d65f5f 58.0%, transparent 58.0%);\n",
       "}\n",
       "#T_31525_row8_col0 {\n",
       "  width: 10em;\n",
       "  background: linear-gradient(90deg, transparent 0.0%, #d65f5f 0.0%, #d65f5f 44.8%, transparent 44.8%);\n",
       "}\n",
       "#T_31525_row9_col0 {\n",
       "  width: 10em;\n",
       "  background: linear-gradient(90deg, transparent 0.0%, #d65f5f 0.0%, #d65f5f 44.4%, transparent 44.4%);\n",
       "}\n",
       "#T_31525_row10_col0 {\n",
       "  width: 10em;\n",
       "  background: linear-gradient(90deg, transparent 0.0%, #d65f5f 0.0%, #d65f5f 40.8%, transparent 40.8%);\n",
       "}\n",
       "#T_31525_row11_col0 {\n",
       "  width: 10em;\n",
       "  background: linear-gradient(90deg, transparent 0.0%, #d65f5f 0.0%, #d65f5f 40.2%, transparent 40.2%);\n",
       "}\n",
       "#T_31525_row12_col0 {\n",
       "  width: 10em;\n",
       "  background: linear-gradient(90deg, transparent 0.0%, #d65f5f 0.0%, #d65f5f 35.9%, transparent 35.9%);\n",
       "}\n",
       "#T_31525_row13_col0 {\n",
       "  width: 10em;\n",
       "  background: linear-gradient(90deg, transparent 0.0%, #d65f5f 0.0%, #d65f5f 34.5%, transparent 34.5%);\n",
       "}\n",
       "#T_31525_row14_col0 {\n",
       "  width: 10em;\n",
       "  background: linear-gradient(90deg, transparent 0.0%, #d65f5f 0.0%, #d65f5f 32.1%, transparent 32.1%);\n",
       "}\n",
       "#T_31525_row15_col0 {\n",
       "  width: 10em;\n",
       "  background: linear-gradient(90deg, transparent 0.0%, #d65f5f 0.0%, #d65f5f 31.8%, transparent 31.8%);\n",
       "}\n",
       "#T_31525_row16_col0 {\n",
       "  width: 10em;\n",
       "  background: linear-gradient(90deg, transparent 0.0%, #d65f5f 0.0%, #d65f5f 29.2%, transparent 29.2%);\n",
       "}\n",
       "#T_31525_row17_col0 {\n",
       "  width: 10em;\n",
       "  background: linear-gradient(90deg, transparent 0.0%, #d65f5f 0.0%, #d65f5f 28.4%, transparent 28.4%);\n",
       "}\n",
       "#T_31525_row18_col0 {\n",
       "  width: 10em;\n",
       "  background: linear-gradient(90deg, transparent 0.0%, #d65f5f 0.0%, #d65f5f 26.9%, transparent 26.9%);\n",
       "}\n",
       "#T_31525_row19_col0 {\n",
       "  width: 10em;\n",
       "  background: linear-gradient(90deg, transparent 0.0%, #d65f5f 0.0%, #d65f5f 26.5%, transparent 26.5%);\n",
       "}\n",
       "#T_31525_row20_col0 {\n",
       "  width: 10em;\n",
       "  background: linear-gradient(90deg, transparent 0.0%, #d65f5f 0.0%, #d65f5f 25.6%, transparent 25.6%);\n",
       "}\n",
       "#T_31525_row21_col0 {\n",
       "  width: 10em;\n",
       "  background: linear-gradient(90deg, transparent 0.0%, #d65f5f 0.0%, #d65f5f 24.4%, transparent 24.4%);\n",
       "}\n",
       "#T_31525_row22_col0 {\n",
       "  width: 10em;\n",
       "  background: linear-gradient(90deg, transparent 0.0%, #d65f5f 0.0%, #d65f5f 20.8%, transparent 20.8%);\n",
       "}\n",
       "#T_31525_row23_col0, #T_31525_row24_col0 {\n",
       "  width: 10em;\n",
       "  background: linear-gradient(90deg, transparent 0.0%, #d65f5f 0.0%, #d65f5f 20.6%, transparent 20.6%);\n",
       "}\n",
       "#T_31525_row25_col0 {\n",
       "  width: 10em;\n",
       "  background: linear-gradient(90deg, transparent 0.0%, #d65f5f 0.0%, #d65f5f 20.2%, transparent 20.2%);\n",
       "}\n",
       "#T_31525_row26_col0 {\n",
       "  width: 10em;\n",
       "  background: linear-gradient(90deg, transparent 0.0%, #d65f5f 0.0%, #d65f5f 19.8%, transparent 19.8%);\n",
       "}\n",
       "#T_31525_row27_col0 {\n",
       "  width: 10em;\n",
       "  background: linear-gradient(90deg, transparent 0.0%, #d65f5f 0.0%, #d65f5f 19.3%, transparent 19.3%);\n",
       "}\n",
       "#T_31525_row28_col0, #T_31525_row29_col0 {\n",
       "  width: 10em;\n",
       "  background: linear-gradient(90deg, transparent 0.0%, #d65f5f 0.0%, #d65f5f 19.0%, transparent 19.0%);\n",
       "}\n",
       "#T_31525_row30_col0 {\n",
       "  width: 10em;\n",
       "  background: linear-gradient(90deg, transparent 0.0%, #d65f5f 0.0%, #d65f5f 18.4%, transparent 18.4%);\n",
       "}\n",
       "#T_31525_row31_col0 {\n",
       "  width: 10em;\n",
       "  background: linear-gradient(90deg, transparent 0.0%, #d65f5f 0.0%, #d65f5f 17.9%, transparent 17.9%);\n",
       "}\n",
       "#T_31525_row32_col0 {\n",
       "  width: 10em;\n",
       "  background: linear-gradient(90deg, transparent 0.0%, #d65f5f 0.0%, #d65f5f 16.2%, transparent 16.2%);\n",
       "}\n",
       "#T_31525_row33_col0 {\n",
       "  width: 10em;\n",
       "  background: linear-gradient(90deg, transparent 0.0%, #d65f5f 0.0%, #d65f5f 15.7%, transparent 15.7%);\n",
       "}\n",
       "#T_31525_row34_col0, #T_31525_row35_col0 {\n",
       "  width: 10em;\n",
       "  background: linear-gradient(90deg, transparent 0.0%, #d65f5f 0.0%, #d65f5f 14.3%, transparent 14.3%);\n",
       "}\n",
       "#T_31525_row36_col0 {\n",
       "  width: 10em;\n",
       "  background: linear-gradient(90deg, transparent 0.0%, #d65f5f 0.0%, #d65f5f 13.6%, transparent 13.6%);\n",
       "}\n",
       "#T_31525_row37_col0 {\n",
       "  width: 10em;\n",
       "  background: linear-gradient(90deg, transparent 0.0%, #d65f5f 0.0%, #d65f5f 12.0%, transparent 12.0%);\n",
       "}\n",
       "#T_31525_row38_col0 {\n",
       "  width: 10em;\n",
       "  background: linear-gradient(90deg, transparent 0.0%, #d65f5f 0.0%, #d65f5f 10.9%, transparent 10.9%);\n",
       "}\n",
       "#T_31525_row39_col0 {\n",
       "  width: 10em;\n",
       "  background: linear-gradient(90deg, transparent 0.0%, #d65f5f 0.0%, #d65f5f 10.2%, transparent 10.2%);\n",
       "}\n",
       "#T_31525_row40_col0 {\n",
       "  width: 10em;\n",
       "  background: linear-gradient(90deg, transparent 0.0%, #d65f5f 0.0%, #d65f5f 9.9%, transparent 9.9%);\n",
       "}\n",
       "#T_31525_row41_col0 {\n",
       "  width: 10em;\n",
       "  background: linear-gradient(90deg, transparent 0.0%, #d65f5f 0.0%, #d65f5f 9.8%, transparent 9.8%);\n",
       "}\n",
       "#T_31525_row42_col0, #T_31525_row43_col0 {\n",
       "  width: 10em;\n",
       "  background: linear-gradient(90deg, transparent 0.0%, #d65f5f 0.0%, #d65f5f 9.1%, transparent 9.1%);\n",
       "}\n",
       "#T_31525_row44_col0 {\n",
       "  width: 10em;\n",
       "  background: linear-gradient(90deg, transparent 0.0%, #d65f5f 0.0%, #d65f5f 8.6%, transparent 8.6%);\n",
       "}\n",
       "#T_31525_row45_col0 {\n",
       "  width: 10em;\n",
       "  background: linear-gradient(90deg, transparent 0.0%, #d65f5f 0.0%, #d65f5f 8.5%, transparent 8.5%);\n",
       "}\n",
       "#T_31525_row46_col0 {\n",
       "  width: 10em;\n",
       "  background: linear-gradient(90deg, transparent 0.0%, #d65f5f 0.0%, #d65f5f 7.6%, transparent 7.6%);\n",
       "}\n",
       "#T_31525_row47_col0 {\n",
       "  width: 10em;\n",
       "  background: linear-gradient(90deg, transparent 0.0%, #d65f5f 0.0%, #d65f5f 7.5%, transparent 7.5%);\n",
       "}\n",
       "#T_31525_row48_col0 {\n",
       "  width: 10em;\n",
       "  background: linear-gradient(90deg, transparent 0.0%, #d65f5f 0.0%, #d65f5f 7.4%, transparent 7.4%);\n",
       "}\n",
       "#T_31525_row49_col0 {\n",
       "  width: 10em;\n",
       "  background: linear-gradient(90deg, transparent 0.0%, #d65f5f 0.0%, #d65f5f 6.9%, transparent 6.9%);\n",
       "}\n",
       "#T_31525_row50_col0 {\n",
       "  width: 10em;\n",
       "  background: linear-gradient(90deg, transparent 0.0%, #d65f5f 0.0%, #d65f5f 6.6%, transparent 6.6%);\n",
       "}\n",
       "#T_31525_row51_col0 {\n",
       "  width: 10em;\n",
       "  background: linear-gradient(90deg, transparent 0.0%, #d65f5f 0.0%, #d65f5f 6.3%, transparent 6.3%);\n",
       "}\n",
       "#T_31525_row52_col0 {\n",
       "  width: 10em;\n",
       "  background: linear-gradient(90deg, transparent 0.0%, #d65f5f 0.0%, #d65f5f 6.2%, transparent 6.2%);\n",
       "}\n",
       "#T_31525_row53_col0 {\n",
       "  width: 10em;\n",
       "  background: linear-gradient(90deg, transparent 0.0%, #d65f5f 0.0%, #d65f5f 5.6%, transparent 5.6%);\n",
       "}\n",
       "#T_31525_row54_col0 {\n",
       "  width: 10em;\n",
       "  background: linear-gradient(90deg, transparent 0.0%, #d65f5f 0.0%, #d65f5f 5.5%, transparent 5.5%);\n",
       "}\n",
       "#T_31525_row55_col0 {\n",
       "  width: 10em;\n",
       "  background: linear-gradient(90deg, transparent 0.0%, #d65f5f 0.0%, #d65f5f 5.1%, transparent 5.1%);\n",
       "}\n",
       "#T_31525_row56_col0 {\n",
       "  width: 10em;\n",
       "  background: linear-gradient(90deg, transparent 0.0%, #d65f5f 0.0%, #d65f5f 4.9%, transparent 4.9%);\n",
       "}\n",
       "#T_31525_row57_col0 {\n",
       "  width: 10em;\n",
       "  background: linear-gradient(90deg, transparent 0.0%, #d65f5f 0.0%, #d65f5f 4.5%, transparent 4.5%);\n",
       "}\n",
       "#T_31525_row58_col0 {\n",
       "  width: 10em;\n",
       "  background: linear-gradient(90deg, transparent 0.0%, #d65f5f 0.0%, #d65f5f 4.1%, transparent 4.1%);\n",
       "}\n",
       "#T_31525_row59_col0 {\n",
       "  width: 10em;\n",
       "  background: linear-gradient(90deg, transparent 0.0%, #d65f5f 0.0%, #d65f5f 3.9%, transparent 3.9%);\n",
       "}\n",
       "#T_31525_row60_col0 {\n",
       "  width: 10em;\n",
       "  background: linear-gradient(90deg, transparent 0.0%, #d65f5f 0.0%, #d65f5f 3.5%, transparent 3.5%);\n",
       "}\n",
       "#T_31525_row61_col0 {\n",
       "  width: 10em;\n",
       "  background: linear-gradient(90deg, transparent 0.0%, #d65f5f 0.0%, #d65f5f 3.1%, transparent 3.1%);\n",
       "}\n",
       "#T_31525_row62_col0 {\n",
       "  width: 10em;\n",
       "  background: linear-gradient(90deg, transparent 0.0%, #d65f5f 0.0%, #d65f5f 3.0%, transparent 3.0%);\n",
       "}\n",
       "#T_31525_row63_col0 {\n",
       "  width: 10em;\n",
       "  background: linear-gradient(90deg, transparent 0.0%, #d65f5f 0.0%, #d65f5f 2.7%, transparent 2.7%);\n",
       "}\n",
       "#T_31525_row64_col0, #T_31525_row65_col0 {\n",
       "  width: 10em;\n",
       "  background: linear-gradient(90deg, transparent 0.0%, #d65f5f 0.0%, #d65f5f 2.6%, transparent 2.6%);\n",
       "}\n",
       "#T_31525_row66_col0 {\n",
       "  width: 10em;\n",
       "  background: linear-gradient(90deg, transparent 0.0%, #d65f5f 0.0%, #d65f5f 2.2%, transparent 2.2%);\n",
       "}\n",
       "#T_31525_row67_col0 {\n",
       "  width: 10em;\n",
       "  background: linear-gradient(90deg, transparent 0.0%, #d65f5f 0.0%, #d65f5f 2.1%, transparent 2.1%);\n",
       "}\n",
       "#T_31525_row68_col0 {\n",
       "  width: 10em;\n",
       "  background: linear-gradient(90deg, transparent 0.0%, #d65f5f 0.0%, #d65f5f 1.8%, transparent 1.8%);\n",
       "}\n",
       "#T_31525_row69_col0 {\n",
       "  width: 10em;\n",
       "  background: linear-gradient(90deg, transparent 0.0%, #d65f5f 0.0%, #d65f5f 0.9%, transparent 0.9%);\n",
       "}\n",
       "#T_31525_row70_col0 {\n",
       "  width: 10em;\n",
       "  background: linear-gradient(90deg, transparent 0.0%, #d65f5f 0.0%, #d65f5f 0.8%, transparent 0.8%);\n",
       "}\n",
       "#T_31525_row71_col0 {\n",
       "  width: 10em;\n",
       "  background: linear-gradient(90deg, transparent 0.0%, #d65f5f 0.0%, #d65f5f 0.6%, transparent 0.6%);\n",
       "}\n",
       "#T_31525_row72_col0 {\n",
       "  width: 10em;\n",
       "  background: linear-gradient(90deg, transparent 0.0%, #d65f5f 0.0%, #d65f5f 0.5%, transparent 0.5%);\n",
       "}\n",
       "#T_31525_row73_col0 {\n",
       "  width: 10em;\n",
       "  background: linear-gradient(90deg, transparent 0.0%, #d65f5f 0.0%, #d65f5f 0.4%, transparent 0.4%);\n",
       "}\n",
       "#T_31525_row74_col0 {\n",
       "  width: 10em;\n",
       "  background: linear-gradient(90deg, transparent 0.0%, #d65f5f 0.0%, #d65f5f 0.2%, transparent 0.2%);\n",
       "}\n",
       "#T_31525_row75_col0, #T_31525_row76_col0, #T_31525_row77_col0, #T_31525_row78_col0, #T_31525_row79_col0 {\n",
       "  width: 10em;\n",
       "  background: linear-gradient(90deg, transparent 0.0%, #d65f5f 0.0%, #d65f5f 0.0%, transparent 0.0%);\n",
       "}\n",
       "#T_31525_row80_col0 {\n",
       "  width: 10em;\n",
       "  background: linear-gradient(90deg, #d65f5f 0.0%, transparent 0.0%);\n",
       "}\n",
       "</style>\n",
       "<table id=\"T_31525\">\n",
       "  <thead>\n",
       "    <tr>\n",
       "      <th class=\"blank level0\" >&nbsp;</th>\n",
       "      <th id=\"T_31525_level0_col0\" class=\"col_heading level0 col0\" >Weekly_Sales</th>\n",
       "    </tr>\n",
       "    <tr>\n",
       "      <th class=\"index_name level0\" >Dept</th>\n",
       "      <th class=\"blank col0\" >&nbsp;</th>\n",
       "    </tr>\n",
       "  </thead>\n",
       "  <tbody>\n",
       "    <tr>\n",
       "      <th id=\"T_31525_level0_row0\" class=\"row_heading level0 row0\" >92</th>\n",
       "      <td id=\"T_31525_row0_col0\" class=\"data row0 col0\" >75204.870531</td>\n",
       "    </tr>\n",
       "    <tr>\n",
       "      <th id=\"T_31525_level0_row1\" class=\"row_heading level0 row1\" >95</th>\n",
       "      <td id=\"T_31525_row1_col0\" class=\"data row1 col0\" >69824.423080</td>\n",
       "    </tr>\n",
       "    <tr>\n",
       "      <th id=\"T_31525_level0_row2\" class=\"row_heading level0 row2\" >38</th>\n",
       "      <td id=\"T_31525_row2_col0\" class=\"data row2 col0\" >61090.619568</td>\n",
       "    </tr>\n",
       "    <tr>\n",
       "      <th id=\"T_31525_level0_row3\" class=\"row_heading level0 row3\" >72</th>\n",
       "      <td id=\"T_31525_row3_col0\" class=\"data row3 col0\" >50566.515417</td>\n",
       "    </tr>\n",
       "    <tr>\n",
       "      <th id=\"T_31525_level0_row4\" class=\"row_heading level0 row4\" >65</th>\n",
       "      <td id=\"T_31525_row4_col0\" class=\"data row4 col0\" >45441.706224</td>\n",
       "    </tr>\n",
       "    <tr>\n",
       "      <th id=\"T_31525_level0_row5\" class=\"row_heading level0 row5\" >90</th>\n",
       "      <td id=\"T_31525_row5_col0\" class=\"data row5 col0\" >45232.084488</td>\n",
       "    </tr>\n",
       "    <tr>\n",
       "      <th id=\"T_31525_level0_row6\" class=\"row_heading level0 row6\" >40</th>\n",
       "      <td id=\"T_31525_row6_col0\" class=\"data row6 col0\" >44900.702727</td>\n",
       "    </tr>\n",
       "    <tr>\n",
       "      <th id=\"T_31525_level0_row7\" class=\"row_heading level0 row7\" >2</th>\n",
       "      <td id=\"T_31525_row7_col0\" class=\"data row7 col0\" >43607.020113</td>\n",
       "    </tr>\n",
       "    <tr>\n",
       "      <th id=\"T_31525_level0_row8\" class=\"row_heading level0 row8\" >91</th>\n",
       "      <td id=\"T_31525_row8_col0\" class=\"data row8 col0\" >33687.910758</td>\n",
       "    </tr>\n",
       "    <tr>\n",
       "      <th id=\"T_31525_level0_row9\" class=\"row_heading level0 row9\" >94</th>\n",
       "      <td id=\"T_31525_row9_col0\" class=\"data row9 col0\" >33405.883963</td>\n",
       "    </tr>\n",
       "    <tr>\n",
       "      <th id=\"T_31525_level0_row10\" class=\"row_heading level0 row10\" >13</th>\n",
       "      <td id=\"T_31525_row10_col0\" class=\"data row10 col0\" >30663.802634</td>\n",
       "    </tr>\n",
       "    <tr>\n",
       "      <th id=\"T_31525_level0_row11\" class=\"row_heading level0 row11\" >8</th>\n",
       "      <td id=\"T_31525_row11_col0\" class=\"data row11 col0\" >30191.263517</td>\n",
       "    </tr>\n",
       "    <tr>\n",
       "      <th id=\"T_31525_level0_row12\" class=\"row_heading level0 row12\" >93</th>\n",
       "      <td id=\"T_31525_row12_col0\" class=\"data row12 col0\" >27008.060746</td>\n",
       "    </tr>\n",
       "    <tr>\n",
       "      <th id=\"T_31525_level0_row13\" class=\"row_heading level0 row13\" >4</th>\n",
       "      <td id=\"T_31525_row13_col0\" class=\"data row13 col0\" >25974.630238</td>\n",
       "    </tr>\n",
       "    <tr>\n",
       "      <th id=\"T_31525_level0_row14\" class=\"row_heading level0 row14\" >7</th>\n",
       "      <td id=\"T_31525_row14_col0\" class=\"data row14 col0\" >24161.237413</td>\n",
       "    </tr>\n",
       "    <tr>\n",
       "      <th id=\"T_31525_level0_row15\" class=\"row_heading level0 row15\" >23</th>\n",
       "      <td id=\"T_31525_row15_col0\" class=\"data row15 col0\" >23931.473983</td>\n",
       "    </tr>\n",
       "    <tr>\n",
       "      <th id=\"T_31525_level0_row16\" class=\"row_heading level0 row16\" >79</th>\n",
       "      <td id=\"T_31525_row16_col0\" class=\"data row16 col0\" >21973.044932</td>\n",
       "    </tr>\n",
       "    <tr>\n",
       "      <th id=\"T_31525_level0_row17\" class=\"row_heading level0 row17\" >5</th>\n",
       "      <td id=\"T_31525_row17_col0\" class=\"data row17 col0\" >21365.583515</td>\n",
       "    </tr>\n",
       "    <tr>\n",
       "      <th id=\"T_31525_level0_row18\" class=\"row_heading level0 row18\" >9</th>\n",
       "      <td id=\"T_31525_row18_col0\" class=\"data row18 col0\" >20206.681878</td>\n",
       "    </tr>\n",
       "    <tr>\n",
       "      <th id=\"T_31525_level0_row19\" class=\"row_heading level0 row19\" >46</th>\n",
       "      <td id=\"T_31525_row19_col0\" class=\"data row19 col0\" >19944.741483</td>\n",
       "    </tr>\n",
       "    <tr>\n",
       "      <th id=\"T_31525_level0_row20\" class=\"row_heading level0 row20\" >1</th>\n",
       "      <td id=\"T_31525_row20_col0\" class=\"data row20 col0\" >19213.485088</td>\n",
       "    </tr>\n",
       "    <tr>\n",
       "      <th id=\"T_31525_level0_row21\" class=\"row_heading level0 row21\" >10</th>\n",
       "      <td id=\"T_31525_row21_col0\" class=\"data row21 col0\" >18321.272351</td>\n",
       "    </tr>\n",
       "    <tr>\n",
       "      <th id=\"T_31525_level0_row22\" class=\"row_heading level0 row22\" >34</th>\n",
       "      <td id=\"T_31525_row22_col0\" class=\"data row22 col0\" >15625.915402</td>\n",
       "    </tr>\n",
       "    <tr>\n",
       "      <th id=\"T_31525_level0_row23\" class=\"row_heading level0 row23\" >81</th>\n",
       "      <td id=\"T_31525_row23_col0\" class=\"data row23 col0\" >15470.400825</td>\n",
       "    </tr>\n",
       "    <tr>\n",
       "      <th id=\"T_31525_level0_row24\" class=\"row_heading level0 row24\" >82</th>\n",
       "      <td id=\"T_31525_row24_col0\" class=\"data row24 col0\" >15469.631753</td>\n",
       "    </tr>\n",
       "    <tr>\n",
       "      <th id=\"T_31525_level0_row25\" class=\"row_heading level0 row25\" >96</th>\n",
       "      <td id=\"T_31525_row25_col0\" class=\"data row25 col0\" >15210.942761</td>\n",
       "    </tr>\n",
       "    <tr>\n",
       "      <th id=\"T_31525_level0_row26\" class=\"row_heading level0 row26\" >14</th>\n",
       "      <td id=\"T_31525_row26_col0\" class=\"data row26 col0\" >14870.966037</td>\n",
       "    </tr>\n",
       "    <tr>\n",
       "      <th id=\"T_31525_level0_row27\" class=\"row_heading level0 row27\" >11</th>\n",
       "      <td id=\"T_31525_row27_col0\" class=\"data row27 col0\" >14505.638231</td>\n",
       "    </tr>\n",
       "    <tr>\n",
       "      <th id=\"T_31525_level0_row28\" class=\"row_heading level0 row28\" >97</th>\n",
       "      <td id=\"T_31525_row28_col0\" class=\"data row28 col0\" >14255.576919</td>\n",
       "    </tr>\n",
       "    <tr>\n",
       "      <th id=\"T_31525_level0_row29\" class=\"row_heading level0 row29\" >16</th>\n",
       "      <td id=\"T_31525_row29_col0\" class=\"data row29 col0\" >14245.638270</td>\n",
       "    </tr>\n",
       "    <tr>\n",
       "      <th id=\"T_31525_level0_row30\" class=\"row_heading level0 row30\" >74</th>\n",
       "      <td id=\"T_31525_row30_col0\" class=\"data row30 col0\" >13807.462764</td>\n",
       "    </tr>\n",
       "    <tr>\n",
       "      <th id=\"T_31525_level0_row31\" class=\"row_heading level0 row31\" >87</th>\n",
       "      <td id=\"T_31525_row31_col0\" class=\"data row31 col0\" >13418.882117</td>\n",
       "    </tr>\n",
       "    <tr>\n",
       "      <th id=\"T_31525_level0_row32\" class=\"row_heading level0 row32\" >80</th>\n",
       "      <td id=\"T_31525_row32_col0\" class=\"data row32 col0\" >12183.680224</td>\n",
       "    </tr>\n",
       "    <tr>\n",
       "      <th id=\"T_31525_level0_row33\" class=\"row_heading level0 row33\" >3</th>\n",
       "      <td id=\"T_31525_row33_col0\" class=\"data row33 col0\" >11793.698516</td>\n",
       "    </tr>\n",
       "    <tr>\n",
       "      <th id=\"T_31525_level0_row34\" class=\"row_heading level0 row34\" >22</th>\n",
       "      <td id=\"T_31525_row34_col0\" class=\"data row34 col0\" >10774.509717</td>\n",
       "    </tr>\n",
       "    <tr>\n",
       "      <th id=\"T_31525_level0_row35\" class=\"row_heading level0 row35\" >55</th>\n",
       "      <td id=\"T_31525_row35_col0\" class=\"data row35 col0\" >10716.664644</td>\n",
       "    </tr>\n",
       "    <tr>\n",
       "      <th id=\"T_31525_level0_row36\" class=\"row_heading level0 row36\" >17</th>\n",
       "      <td id=\"T_31525_row36_col0\" class=\"data row36 col0\" >10187.120498</td>\n",
       "    </tr>\n",
       "    <tr>\n",
       "      <th id=\"T_31525_level0_row37\" class=\"row_heading level0 row37\" >25</th>\n",
       "      <td id=\"T_31525_row37_col0\" class=\"data row37 col0\" >8988.230818</td>\n",
       "    </tr>\n",
       "    <tr>\n",
       "      <th id=\"T_31525_level0_row38\" class=\"row_heading level0 row38\" >49</th>\n",
       "      <td id=\"T_31525_row38_col0\" class=\"data row38 col0\" >8159.951296</td>\n",
       "    </tr>\n",
       "    <tr>\n",
       "      <th id=\"T_31525_level0_row39\" class=\"row_heading level0 row39\" >26</th>\n",
       "      <td id=\"T_31525_row39_col0\" class=\"data row39 col0\" >7649.417947</td>\n",
       "    </tr>\n",
       "    <tr>\n",
       "      <th id=\"T_31525_level0_row40\" class=\"row_heading level0 row40\" >67</th>\n",
       "      <td id=\"T_31525_row40_col0\" class=\"data row40 col0\" >7440.680292</td>\n",
       "    </tr>\n",
       "    <tr>\n",
       "      <th id=\"T_31525_level0_row41\" class=\"row_heading level0 row41\" >18</th>\n",
       "      <td id=\"T_31525_row41_col0\" class=\"data row41 col0\" >7336.943539</td>\n",
       "    </tr>\n",
       "    <tr>\n",
       "      <th id=\"T_31525_level0_row42\" class=\"row_heading level0 row42\" >32</th>\n",
       "      <td id=\"T_31525_row42_col0\" class=\"data row42 col0\" >6833.270787</td>\n",
       "    </tr>\n",
       "    <tr>\n",
       "      <th id=\"T_31525_level0_row43\" class=\"row_heading level0 row43\" >98</th>\n",
       "      <td id=\"T_31525_row43_col0\" class=\"data row43 col0\" >6824.694889</td>\n",
       "    </tr>\n",
       "    <tr>\n",
       "      <th id=\"T_31525_level0_row44\" class=\"row_heading level0 row44\" >33</th>\n",
       "      <td id=\"T_31525_row44_col0\" class=\"data row44 col0\" >6471.979579</td>\n",
       "    </tr>\n",
       "    <tr>\n",
       "      <th id=\"T_31525_level0_row45\" class=\"row_heading level0 row45\" >24</th>\n",
       "      <td id=\"T_31525_row45_col0\" class=\"data row45 col0\" >6353.604562</td>\n",
       "    </tr>\n",
       "    <tr>\n",
       "      <th id=\"T_31525_level0_row46\" class=\"row_heading level0 row46\" >71</th>\n",
       "      <td id=\"T_31525_row46_col0\" class=\"data row46 col0\" >5722.927649</td>\n",
       "    </tr>\n",
       "    <tr>\n",
       "      <th id=\"T_31525_level0_row47\" class=\"row_heading level0 row47\" >29</th>\n",
       "      <td id=\"T_31525_row47_col0\" class=\"data row47 col0\" >5653.655317</td>\n",
       "    </tr>\n",
       "    <tr>\n",
       "      <th id=\"T_31525_level0_row48\" class=\"row_heading level0 row48\" >20</th>\n",
       "      <td id=\"T_31525_row48_col0\" class=\"data row48 col0\" >5528.787319</td>\n",
       "    </tr>\n",
       "    <tr>\n",
       "      <th id=\"T_31525_level0_row49\" class=\"row_heading level0 row49\" >42</th>\n",
       "      <td id=\"T_31525_row49_col0\" class=\"data row49 col0\" >5189.703417</td>\n",
       "    </tr>\n",
       "    <tr>\n",
       "      <th id=\"T_31525_level0_row50\" class=\"row_heading level0 row50\" >21</th>\n",
       "      <td id=\"T_31525_row50_col0\" class=\"data row50 col0\" >4982.850828</td>\n",
       "    </tr>\n",
       "    <tr>\n",
       "      <th id=\"T_31525_level0_row51\" class=\"row_heading level0 row51\" >6</th>\n",
       "      <td id=\"T_31525_row51_col0\" class=\"data row51 col0\" >4747.856188</td>\n",
       "    </tr>\n",
       "    <tr>\n",
       "      <th id=\"T_31525_level0_row52\" class=\"row_heading level0 row52\" >44</th>\n",
       "      <td id=\"T_31525_row52_col0\" class=\"data row52 col0\" >4651.729658</td>\n",
       "    </tr>\n",
       "    <tr>\n",
       "      <th id=\"T_31525_level0_row53\" class=\"row_heading level0 row53\" >12</th>\n",
       "      <td id=\"T_31525_row53_col0\" class=\"data row53 col0\" >4175.397021</td>\n",
       "    </tr>\n",
       "    <tr>\n",
       "      <th id=\"T_31525_level0_row54\" class=\"row_heading level0 row54\" >30</th>\n",
       "      <td id=\"T_31525_row54_col0\" class=\"data row54 col0\" >4118.197208</td>\n",
       "    </tr>\n",
       "    <tr>\n",
       "      <th id=\"T_31525_level0_row55\" class=\"row_heading level0 row55\" >56</th>\n",
       "      <td id=\"T_31525_row55_col0\" class=\"data row55 col0\" >3833.706211</td>\n",
       "    </tr>\n",
       "    <tr>\n",
       "      <th id=\"T_31525_level0_row56\" class=\"row_heading level0 row56\" >58</th>\n",
       "      <td id=\"T_31525_row56_col0\" class=\"data row56 col0\" >3702.907419</td>\n",
       "    </tr>\n",
       "    <tr>\n",
       "      <th id=\"T_31525_level0_row57\" class=\"row_heading level0 row57\" >83</th>\n",
       "      <td id=\"T_31525_row57_col0\" class=\"data row57 col0\" >3383.349838</td>\n",
       "    </tr>\n",
       "    <tr>\n",
       "      <th id=\"T_31525_level0_row58\" class=\"row_heading level0 row58\" >37</th>\n",
       "      <td id=\"T_31525_row58_col0\" class=\"data row58 col0\" >3111.076193</td>\n",
       "    </tr>\n",
       "    <tr>\n",
       "      <th id=\"T_31525_level0_row59\" class=\"row_heading level0 row59\" >35</th>\n",
       "      <td id=\"T_31525_row59_col0\" class=\"data row59 col0\" >2921.044946</td>\n",
       "    </tr>\n",
       "    <tr>\n",
       "      <th id=\"T_31525_level0_row60\" class=\"row_heading level0 row60\" >50</th>\n",
       "      <td id=\"T_31525_row60_col0\" class=\"data row60 col0\" >2658.897010</td>\n",
       "    </tr>\n",
       "    <tr>\n",
       "      <th id=\"T_31525_level0_row61\" class=\"row_heading level0 row61\" >31</th>\n",
       "      <td id=\"T_31525_row61_col0\" class=\"data row61 col0\" >2339.440287</td>\n",
       "    </tr>\n",
       "    <tr>\n",
       "      <th id=\"T_31525_level0_row62\" class=\"row_heading level0 row62\" >85</th>\n",
       "      <td id=\"T_31525_row62_col0\" class=\"data row62 col0\" >2264.359407</td>\n",
       "    </tr>\n",
       "    <tr>\n",
       "      <th id=\"T_31525_level0_row63\" class=\"row_heading level0 row63\" >36</th>\n",
       "      <td id=\"T_31525_row63_col0\" class=\"data row63 col0\" >2022.571061</td>\n",
       "    </tr>\n",
       "    <tr>\n",
       "      <th id=\"T_31525_level0_row64\" class=\"row_heading level0 row64\" >41</th>\n",
       "      <td id=\"T_31525_row64_col0\" class=\"data row64 col0\" >1965.559998</td>\n",
       "    </tr>\n",
       "    <tr>\n",
       "      <th id=\"T_31525_level0_row65\" class=\"row_heading level0 row65\" >52</th>\n",
       "      <td id=\"T_31525_row65_col0\" class=\"data row65 col0\" >1928.356252</td>\n",
       "    </tr>\n",
       "    <tr>\n",
       "      <th id=\"T_31525_level0_row66\" class=\"row_heading level0 row66\" >19</th>\n",
       "      <td id=\"T_31525_row66_col0\" class=\"data row66 col0\" >1654.815030</td>\n",
       "    </tr>\n",
       "    <tr>\n",
       "      <th id=\"T_31525_level0_row67\" class=\"row_heading level0 row67\" >27</th>\n",
       "      <td id=\"T_31525_row67_col0\" class=\"data row67 col0\" >1583.437727</td>\n",
       "    </tr>\n",
       "    <tr>\n",
       "      <th id=\"T_31525_level0_row68\" class=\"row_heading level0 row68\" >48</th>\n",
       "      <td id=\"T_31525_row68_col0\" class=\"data row68 col0\" >1344.893576</td>\n",
       "    </tr>\n",
       "    <tr>\n",
       "      <th id=\"T_31525_level0_row69\" class=\"row_heading level0 row69\" >59</th>\n",
       "      <td id=\"T_31525_row69_col0\" class=\"data row69 col0\" >694.463564</td>\n",
       "    </tr>\n",
       "    <tr>\n",
       "      <th id=\"T_31525_level0_row70\" class=\"row_heading level0 row70\" >28</th>\n",
       "      <td id=\"T_31525_row70_col0\" class=\"data row70 col0\" >618.085116</td>\n",
       "    </tr>\n",
       "    <tr>\n",
       "      <th id=\"T_31525_level0_row71\" class=\"row_heading level0 row71\" >99</th>\n",
       "      <td id=\"T_31525_row71_col0\" class=\"data row71 col0\" >415.487065</td>\n",
       "    </tr>\n",
       "    <tr>\n",
       "      <th id=\"T_31525_level0_row72\" class=\"row_heading level0 row72\" >60</th>\n",
       "      <td id=\"T_31525_row72_col0\" class=\"data row72 col0\" >347.370229</td>\n",
       "    </tr>\n",
       "    <tr>\n",
       "      <th id=\"T_31525_level0_row73\" class=\"row_heading level0 row73\" >77</th>\n",
       "      <td id=\"T_31525_row73_col0\" class=\"data row73 col0\" >328.961800</td>\n",
       "    </tr>\n",
       "    <tr>\n",
       "      <th id=\"T_31525_level0_row74\" class=\"row_heading level0 row74\" >54</th>\n",
       "      <td id=\"T_31525_row74_col0\" class=\"data row74 col0\" >108.305985</td>\n",
       "    </tr>\n",
       "    <tr>\n",
       "      <th id=\"T_31525_level0_row75\" class=\"row_heading level0 row75\" >45</th>\n",
       "      <td id=\"T_31525_row75_col0\" class=\"data row75 col0\" >23.211586</td>\n",
       "    </tr>\n",
       "    <tr>\n",
       "      <th id=\"T_31525_level0_row76\" class=\"row_heading level0 row76\" >51</th>\n",
       "      <td id=\"T_31525_row76_col0\" class=\"data row76 col0\" >21.931729</td>\n",
       "    </tr>\n",
       "    <tr>\n",
       "      <th id=\"T_31525_level0_row77\" class=\"row_heading level0 row77\" >39</th>\n",
       "      <td id=\"T_31525_row77_col0\" class=\"data row77 col0\" >11.123750</td>\n",
       "    </tr>\n",
       "    <tr>\n",
       "      <th id=\"T_31525_level0_row78\" class=\"row_heading level0 row78\" >78</th>\n",
       "      <td id=\"T_31525_row78_col0\" class=\"data row78 col0\" >7.296638</td>\n",
       "    </tr>\n",
       "    <tr>\n",
       "      <th id=\"T_31525_level0_row79\" class=\"row_heading level0 row79\" >43</th>\n",
       "      <td id=\"T_31525_row79_col0\" class=\"data row79 col0\" >1.193333</td>\n",
       "    </tr>\n",
       "    <tr>\n",
       "      <th id=\"T_31525_level0_row80\" class=\"row_heading level0 row80\" >47</th>\n",
       "      <td id=\"T_31525_row80_col0\" class=\"data row80 col0\" >-7.682554</td>\n",
       "    </tr>\n",
       "  </tbody>\n",
       "</table>\n"
      ],
      "text/plain": [
       "<pandas.io.formats.style.Styler at 0x22d13d7a8b0>"
      ]
     },
     "execution_count": 66,
     "metadata": {},
     "output_type": "execute_result"
    }
   ],
   "source": [
    "weekly_sales_dept_df.sort_values(by='Weekly_Sales', ascending=False).style.bar()\n",
    "# department 92 have highest sales\n",
    "# 43 is having the lowest sales"
   ]
  },
  {
   "cell_type": "code",
   "execution_count": 67,
   "id": "d592dabd",
   "metadata": {},
   "outputs": [
    {
     "data": {
      "text/plain": [
       "Text(0, 0.5, 'Sales per Department')"
      ]
     },
     "execution_count": 67,
     "metadata": {},
     "output_type": "execute_result"
    },
    {
     "data": {
      "image/png": "[encoded data removed]",
      "text/plain": [
       "<Figure size 1800x864 with 1 Axes>"
      ]
     },
     "metadata": {
      "needs_background": "light"
     },
     "output_type": "display_data"
    }
   ],
   "source": [
    "plt.figure(figsize =(25,12))\n",
    "sns.barplot(x=weekly_sales_dept.index, y=weekly_sales_dept.values)\n",
    "plt.grid()\n",
    "plt.title('Average weekly sales per department', fontsize = 20)\n",
    "plt.xlabel('Department', fontsize=16)\n",
    "plt.ylabel('Sales per Department', fontsize = 16)"
   ]
  },
  {
   "cell_type": "markdown",
   "id": "e1fec6ab",
   "metadata": {},
   "source": [
    "# correlation between features"
   ]
  },
  {
   "cell_type": "code",
   "execution_count": 68,
   "id": "d1fd9d83",
   "metadata": {},
   "outputs": [
    {
     "data": {
      "text/plain": [
       "<AxesSubplot:>"
      ]
     },
     "execution_count": 68,
     "metadata": {},
     "output_type": "execute_result"
    },
    {
     "data": {
      "image/png": "[encoded data removed]",
      "text/plain": [
       "<Figure size 1080x576 with 2 Axes>"
      ]
     },
     "metadata": {
      "needs_background": "light"
     },
     "output_type": "display_data"
    }
   ],
   "source": [
    "plt.figure(figsize=(15,8))\n",
    "sns.heatmap(final_df.corr(), annot=True)"
   ]
  },
  {
   "cell_type": "markdown",
   "id": "3ed5edd6",
   "metadata": {},
   "source": [
    "## Conclusion:\n",
    "1. department 92 having highest sales\n",
    "2. store 20 having highest sales\n",
    "3. store 5 have lowest sales\n",
    "4. department 43 have lowest sales\n",
    "5. all years display same pattern and we can clearly see higher sales in the end weeks of the year.\n",
    "6. we can see some higher sales scenarios when isHoliday is true\n",
    "7. Type a stores have the larger size whereas type c stores have the smaller size.\n",
    "8. store 20 that have highest sales belongs so type a whereas store 5 that have lowest sales belong to type c\n",
    "9. Higher correlation between fuel prices and years."
   ]
  },
  {
   "cell_type": "code",
   "execution_count": null,
   "id": "a44b43a3",
   "metadata": {},
   "outputs": [],
   "source": []
  },
  {
   "cell_type": "code",
   "execution_count": null,
   "id": "f348404a",
   "metadata": {},
   "outputs": [],
   "source": []
  },
  {
   "cell_type": "code",
   "execution_count": null,
   "id": "98a0a9f5",
   "metadata": {},
   "outputs": [],
   "source": []
  },
  {
   "cell_type": "code",
   "execution_count": null,
   "id": "9b4adab7",
   "metadata": {},
   "outputs": [],
   "source": []
  }
 ],
 "metadata": {
  "kernelspec": {
   "display_name": "Python 3 (ipykernel)",
   "language": "python",
   "name": "python3"
  },
  "language_info": {
   "codemirror_mode": {
    "name": "ipython",
    "version": 3
   },
   "file_extension": ".py",
   "mimetype": "text/x-python",
   "name": "python",
   "nbconvert_exporter": "python",
   "pygments_lexer": "ipython3",
   "version": "3.9.12"
  }
 },
 "nbformat": 4,
 "nbformat_minor": 5
}
