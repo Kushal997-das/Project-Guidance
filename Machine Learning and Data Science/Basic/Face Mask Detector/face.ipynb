{
 "cells": [
  {
   "cell_type": "markdown",
   "metadata": {},
   "source": [
    "# Importing Required Modules"
   ]
  },
  {
   "cell_type": "code",
   "execution_count": 22,
   "metadata": {},
   "outputs": [],
   "source": [
    "import cv2\n",
    "import numpy as np\n",
    "import requests\n",
    "from sklearn.svm import SVC\n",
    "from sklearn.metrics import accuracy_score\n",
    "from sklearn.decomposition import PCA\n",
    "from sklearn.model_selection import train_test_split\n"
   ]
  },
  {
   "cell_type": "markdown",
   "metadata": {},
   "source": [
    "# Downloading the HAAR Data File"
   ]
  },
  {
   "cell_type": "code",
   "execution_count": 23,
   "metadata": {},
   "outputs": [],
   "source": [
    "def gethaar(url=\"https://raw.githubusercontent.com/opencv/opencv/22f0bcaf8f4fb406ae251830cf99b7ea05de40e4/data/haarcascades/haarcascade_frontalface_default.xml\"):    \n",
    "    haar = requests.get(url)\n",
    "    return haar"
   ]
  },
  {
   "cell_type": "markdown",
   "metadata": {},
   "source": [
    "# Saving the HAAR Data File"
   ]
  },
  {
   "cell_type": "code",
   "execution_count": 24,
   "metadata": {},
   "outputs": [],
   "source": [
    "def savehaar(haar):\n",
    "    datafile = open(\"data.xml\", \"wb\")\n",
    "    datafile.write(haar.content)\n",
    "    datafile.close()"
   ]
  },
  {
   "cell_type": "markdown",
   "metadata": {},
   "source": [
    "# Using the Classifier to get the Face Cooridinate"
   ]
  },
  {
   "cell_type": "code",
   "execution_count": 25,
   "metadata": {},
   "outputs": [],
   "source": [
    "def classify():\n",
    "    haar_data = cv2.CascadeClassifier('data.xml')\n",
    "    return haar_data"
   ]
  },
  {
   "cell_type": "markdown",
   "metadata": {},
   "source": [
    "# Using the Default Video Capture Device"
   ]
  },
  {
   "cell_type": "code",
   "execution_count": 26,
   "metadata": {},
   "outputs": [],
   "source": [
    "def setcam():\n",
    "    capture = cv2.VideoCapture(0)\n",
    "    return capture\n",
    "def releasecam(capture):\n",
    "    capture.release()"
   ]
  },
  {
   "cell_type": "markdown",
   "metadata": {},
   "source": [
    "# Storing the Mask And Umasked Data / Predict"
   ]
  },
  {
   "cell_type": "markdown",
   "metadata": {},
   "source": [
    "Test - 1"
   ]
  },
  {
   "cell_type": "code",
   "execution_count": 27,
   "metadata": {},
   "outputs": [],
   "source": [
    "# capture = setcam()\n",
    "# flag, img = capture.read()\n",
    "# haar_data = classify()\n",
    "# data = []\n",
    "# while len(data)!=3:\n",
    "#     faces = haar_data.detectMultiScale(img)\n",
    "#     for x, y, w, h in faces: \n",
    "#         face = img[y:y+h, x:x+w, :]\n",
    "#         face = cv2.resize(face, (50, 50))\n",
    "#         data.append(face)\n",
    "# np.save(\"tempdata.npy\", data)\n",
    "# facer = np.load(\"tempdata.npy\")\n",
    "# facer = facer.reshape(-1, 3)\n",
    "# print(facer)\n",
    "# facer = fit(facer)\n",
    "# print(facer)\n"
   ]
  },
  {
   "cell_type": "markdown",
   "metadata": {},
   "source": [
    "Test - 2"
   ]
  },
  {
   "cell_type": "code",
   "execution_count": 28,
   "metadata": {},
   "outputs": [],
   "source": [
    "# # load()\n",
    "# # reshape()\n",
    "# # X = combine(with_mask, without_mask)\n",
    "# # labels = divide(X)\n",
    "# # X = fit(X)\n",
    "# # svm = train(X, labels)\n",
    "# capture = setcam()\n",
    "# flag, img = capture.read()\n",
    "# haar_data = classify()\n",
    "# faces = haar_data.detectMultiScale(img)\n",
    "# for x, y, w, h in faces: \n",
    "#     face = img[y:y+h, x:x+w, :]\n",
    "#     face = cv2.resize(face, (50, 50))\n",
    "#     face = face.reshape(3, -1)\n",
    "#     pca = PCA(n_components=3)\n",
    "#     pca.fit(face)\n",
    "#     face = pca.transform(face)\n",
    "#     print(face)\n",
    "# releasecam(capture)"
   ]
  },
  {
   "cell_type": "markdown",
   "metadata": {},
   "source": [
    "Final"
   ]
  },
  {
   "cell_type": "code",
   "execution_count": 29,
   "metadata": {},
   "outputs": [],
   "source": [
    "def facedata(haar_data, data=[], predicting=False):\n",
    "    capture = setcam()\n",
    "    font = cv2.FONT_HERSHEY_COMPLEX\n",
    "    names = {0: 'Mask', 1: 'No Mask'}\n",
    "    prepared = False\n",
    "    while True:\n",
    "        flag, img = capture.read()\n",
    "        if flag:\n",
    "            faces = haar_data.detectMultiScale(img)\n",
    "            for x, y, w, h in faces:\n",
    "                if not predicting:\n",
    "                    cv2.rectangle(img, (x,y), (x+w, y+h), (255,0,255), 4)\n",
    "                    cv2.putText(img, \"Preparing Phase\", (x, y), font, 1, (250, 250, 250), 2)\n",
    "                face = img[y:y+h, x:x+w, :]\n",
    "                face = cv2.resize(face, (50, 50))\n",
    "                if predicting:\n",
    "                    if not prepared:\n",
    "                        load()\n",
    "                        reshape()\n",
    "                        X = combine(with_mask, without_mask)\n",
    "                        labels = divide(X)\n",
    "                        # X = fit(X)\n",
    "                        svm = train(X, labels)\n",
    "                        prepared = True\n",
    "                    face = face.reshape(1, -1)\n",
    "                    pred = svm.predict(face)\n",
    "                    pred_name = names[int(pred[0])]\n",
    "                    if pred_name == 'Mask':\n",
    "                        cv2.rectangle(img, (x,y), (x+w, y+h), (0,255,0), 4)\n",
    "                    else:\n",
    "                        cv2.rectangle(img, (x,y), (x+w, y+h), (0,0,255), 4)\n",
    "                    # acc = accuracy(fit(labels.reshape(1, -1), n=1), pred)\n",
    "                    cv2.putText(img, pred_name, (x+x//2, y), font, 1, (250, 250, 250), 2)\n",
    "                    # cv2.putText(img, str(acc*100)+\"%\", (x+x//2, y+h), font, 1, (250, 250, 250), 2)\n",
    "                if len(data)<250 and not predicting:\n",
    "                    data.append(face)\n",
    "            cv2.imshow(\"Seal's Face Mask Detector\", img)\n",
    "            if cv2.waitKey(10) == 27 or len(data)>=250:\n",
    "                break\n",
    "    releasecam(capture)\n",
    "    cv2.destroyAllWindows()\n",
    "    if not predicting:\n",
    "        return data"
   ]
  },
  {
   "cell_type": "markdown",
   "metadata": {},
   "source": [
    "# Storing Unmasked Data"
   ]
  },
  {
   "cell_type": "code",
   "execution_count": 30,
   "metadata": {},
   "outputs": [],
   "source": [
    "def unmasked(haar_data):\n",
    "    print(\"Don't Wear A Mask. Press Escape to Exit.\")\n",
    "    data = facedata(haar_data, data=[])\n",
    "    np.save('without_mask.npy', data)\n",
    "    return True"
   ]
  },
  {
   "cell_type": "markdown",
   "metadata": {},
   "source": [
    "# Storing Masked Data"
   ]
  },
  {
   "cell_type": "code",
   "execution_count": 31,
   "metadata": {},
   "outputs": [],
   "source": [
    "def masked(haar_data):\n",
    "    print(\"Wear A Mask. Press Escape to Exit.\")\n",
    "    data = facedata(haar_data, data=[])\n",
    "    np.save('with_mask.npy', data)\n",
    "    return True"
   ]
  },
  {
   "cell_type": "markdown",
   "metadata": {},
   "source": [
    "# Loading the saved files"
   ]
  },
  {
   "cell_type": "code",
   "execution_count": 32,
   "metadata": {},
   "outputs": [],
   "source": [
    "def load():\n",
    "    global with_mask, without_mask\n",
    "    with_mask = np.load(\"with_mask.npy\")\n",
    "    without_mask = np.load(\"without_mask.npy\")"
   ]
  },
  {
   "cell_type": "markdown",
   "metadata": {},
   "source": [
    "# Reshaping the saved files"
   ]
  },
  {
   "cell_type": "code",
   "execution_count": 33,
   "metadata": {},
   "outputs": [],
   "source": [
    "def reshape():\n",
    "    global with_mask, without_mask\n",
    "    with_mask = with_mask.reshape(250, 50*50*3)\n",
    "    without_mask = without_mask.reshape(250, 50*50*3)"
   ]
  },
  {
   "cell_type": "markdown",
   "metadata": {},
   "source": [
    "# Combining the Reshaped Files"
   ]
  },
  {
   "cell_type": "code",
   "execution_count": 34,
   "metadata": {},
   "outputs": [],
   "source": [
    "def combine(lst1, lst2):\n",
    "    X = np.r_[lst1, lst2]\n",
    "    return X"
   ]
  },
  {
   "cell_type": "markdown",
   "metadata": {},
   "source": [
    "# Segregating the Dependent Variable "
   ]
  },
  {
   "cell_type": "code",
   "execution_count": 35,
   "metadata": {},
   "outputs": [],
   "source": [
    "def divide(X):\n",
    "    labels = np.zeros(X.shape[0])\n",
    "    labels[250:] = 1.0\n",
    "    return labels"
   ]
  },
  {
   "cell_type": "markdown",
   "metadata": {},
   "source": [
    "# Fitting Data"
   ]
  },
  {
   "cell_type": "code",
   "execution_count": 36,
   "metadata": {},
   "outputs": [],
   "source": [
    "def fit(X, n=3):\n",
    "    pca = PCA(n_components=n)\n",
    "    X = pca.fit_transform(X)\n",
    "    return X"
   ]
  },
  {
   "cell_type": "markdown",
   "metadata": {},
   "source": [
    "# Training"
   ]
  },
  {
   "cell_type": "code",
   "execution_count": 37,
   "metadata": {},
   "outputs": [],
   "source": [
    "def train(x_train, y_train):\n",
    "    global svm\n",
    "    svm = SVC()\n",
    "    # x_train, x_useless, y_train, y_useless = train_test_split(x_train, y_train, test_size=0.01)\n",
    "    svm.fit(x_train, y_train)\n",
    "    return svm"
   ]
  },
  {
   "cell_type": "markdown",
   "metadata": {},
   "source": [
    "# Predicting"
   ]
  },
  {
   "cell_type": "code",
   "execution_count": 38,
   "metadata": {},
   "outputs": [],
   "source": [
    "def predict(var, svm):\n",
    "    y_pred = svm.predict(var)\n",
    "    return y_pred"
   ]
  },
  {
   "cell_type": "markdown",
   "metadata": {},
   "source": [
    "# Calculating Accuracy"
   ]
  },
  {
   "cell_type": "code",
   "execution_count": 39,
   "metadata": {},
   "outputs": [],
   "source": [
    "def accuracy(y_train, y_pred):\n",
    "    return accuracy_score(y_train, y_pred)"
   ]
  },
  {
   "cell_type": "markdown",
   "metadata": {},
   "source": [
    "# Prepare Predictor"
   ]
  },
  {
   "cell_type": "code",
   "execution_count": 40,
   "metadata": {},
   "outputs": [],
   "source": [
    "def preparepredictor():\n",
    "    load()\n",
    "    reshape()\n",
    "    X = combine(with_mask, without_mask)\n",
    "    # print(X)\n",
    "    labels = divide(X)\n",
    "    # X = fit(X)\n",
    "    svm = train(X, labels)\n",
    "    # print(X)\n",
    "    # print(len(X))\n",
    "preparepredictor()"
   ]
  },
  {
   "cell_type": "markdown",
   "metadata": {},
   "source": [
    "# Driver Function"
   ]
  },
  {
   "cell_type": "code",
   "execution_count": 41,
   "metadata": {},
   "outputs": [],
   "source": [
    "def resetconfirmation():\n",
    "    return \"n\"\n",
    "def main(ispredicting):\n",
    "    if not ispredicting:\n",
    "        url = \"https://raw.githubusercontent.com/opencv/opencv/22f0bcaf8f4fb406ae251830cf99b7ea05de40e4/data/haarcascades/haarcascade_frontalface_default.xml\"\n",
    "        haar = gethaar(url)\n",
    "        savehaar(haar)\n",
    "        haar_data = classify()\n",
    "        confirm = resetconfirmation()\n",
    "        while confirm.lower() != \"y\":\n",
    "            print(\"Remove a Mask if you are wearing one.\\nSit In a well-lit environment.\\nPress Y to confirm: \")\n",
    "            confirm = input()\n",
    "        unmasked(haar_data)\n",
    "        confirm = resetconfirmation()\n",
    "        while confirm.lower() != \"y\":\n",
    "            print(\"Wear a Mask if you are not wearing one.\\nSit In a well-lit environment.\\nPress Y to confirm: \")\n",
    "            confirm = input()\n",
    "        masked(haar_data)\n",
    "    elif ispredicting:\n",
    "        haar_data = classify()\n",
    "        facedata(haar_data, [], predicting=ispredicting)\n"
   ]
  },
  {
   "cell_type": "markdown",
   "metadata": {},
   "source": [
    "# Calling Main"
   ]
  },
  {
   "cell_type": "code",
   "execution_count": 42,
   "metadata": {},
   "outputs": [],
   "source": [
    "if __name__ == \"__main__\":\n",
    "    predictornot = int(input(\"1-Predict | 2-Train | 3-Train and Predict\"))\n",
    "    for i in range((2 if predictornot>2 else 1)):\n",
    "        default = (False if i%2==0 else True)\n",
    "        main(ispredicting = (default if predictornot==3 else True if predictornot==1 else False))"
   ]
  }
 ],
 "metadata": {
  "interpreter": {
   "hash": "38d51dd8e8d25c2b4859ddf5fde4d8615b38902fd48d30a19bf46ddb81d406a6"
  },
  "kernelspec": {
   "display_name": "Python 3.9.9 64-bit (windows store)",
   "language": "python",
   "name": "python3"
  },
  "language_info": {
   "codemirror_mode": {
    "name": "ipython",
    "version": 3
   },
   "file_extension": ".py",
   "mimetype": "text/x-python",
   "name": "python",
   "nbconvert_exporter": "python",
   "pygments_lexer": "ipython3",
   "version": "3.9.10"
  },
  "orig_nbformat": 4
 },
 "nbformat": 4,
 "nbformat_minor": 2
}
