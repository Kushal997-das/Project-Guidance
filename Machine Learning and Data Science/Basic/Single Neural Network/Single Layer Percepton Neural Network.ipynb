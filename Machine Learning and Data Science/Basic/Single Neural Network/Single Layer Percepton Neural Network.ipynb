{
 "cells": [
  {
   "cell_type": "code",
   "execution_count": 3,
   "metadata": {},
   "outputs": [
    {
     "data": {
      "image/png": "[encoded data removed]",
      "text/plain": [
       "<Figure size 432x288 with 1 Axes>"
      ]
     },
     "metadata": {
      "needs_background": "light"
     },
     "output_type": "display_data"
    }
   ],
   "source": [
    "#importing libraries\n",
    "import pandas as pd\n",
    "from numpy import *\n",
    "import matplotlib.pyplot as plt\n",
    "\n",
    "#defining the transfer function or hard limit\n",
    "def tf(n):\n",
    "    \n",
    "    if n<0:\n",
    "        return -1\n",
    "    elif n >=0:\n",
    "        return 1\n",
    "    else:\n",
    "        return 0\n",
    "\n",
    "#defining the single neuron\n",
    "def singleNeuron(xx, yy): \n",
    "    ww= [0,0,0,0]\n",
    "    weight = matrix(ww)\n",
    "    b = matrix([0])\n",
    "    temp_err = []\n",
    "\n",
    "    \n",
    "    for pat, tar in zip(xx, yy):\n",
    "        pat = matrix(pat)\n",
    "        tar = matrix(tar)\n",
    "        net = weight*pat.T + b\n",
    "        ao = tf(net)\n",
    "\n",
    "        \n",
    "        error = (tar - ao).tolist()[0][0]\n",
    "        temp_err.append(error)\n",
    "        alpha = -1\n",
    "        #error and weight bias updatation\n",
    "        if error <0:\n",
    "            weight=weight - alpha*pat\n",
    "            b = b + alpha*error\n",
    "        elif error > 0:\n",
    "            weight=weight + alpha*pat\n",
    "            b = b + alpha*error\n",
    "        elif error == 0:\n",
    "            weight = weight\n",
    "            b = b\n",
    "        \n",
    "    return temp_err\n",
    "    \n",
    " \n",
    "def main():     \n",
    "    #DATASET#\n",
    "    \n",
    "    plt.ion()\n",
    "    plt.figure(1)\n",
    "    xx = [[1,1,1,1],[-1,1,-1,1],[1,1,1,-1],[1,-1,-1,1]] #pattern\n",
    "    yy = [1,1,-1,-1]\n",
    "    sse_list = []\n",
    "    for i in range(0,5):\n",
    "        \n",
    "        \n",
    "        error_list = singleNeuron(xx, yy)\n",
    "\n",
    "        sse_list.append((matrix(error_list)*matrix(error_list).T).tolist()[0][0])\n",
    "        \n",
    "        plt.subplot(111)\n",
    "        plt.plot(sse_list, 'r.-')\n",
    "        plt.grid(True)\n",
    "        \n",
    "        plt.draw()     \n",
    "    \n",
    "    \n",
    "    \n",
    "main()"
   ]
  },
  {
   "cell_type": "code",
   "execution_count": null,
   "metadata": {},
   "outputs": [],
   "source": []
  }
 ],
 "metadata": {
  "interpreter": {
   "hash": "aee8b7b246df8f9039afb4144a1f6fd8d2ca17a180786b69acc140d282b71a49"
  },
  "kernelspec": {
   "display_name": "Python 3 (ipykernel)",
   "language": "python",
   "name": "python3"
  },
  "language_info": {
   "codemirror_mode": {
    "name": "ipython",
    "version": 3
   },
   "file_extension": ".py",
   "mimetype": "text/x-python",
   "name": "python",
   "nbconvert_exporter": "python",
   "pygments_lexer": "ipython3",
   "version": "3.9.7"
  }
 },
 "nbformat": 4,
 "nbformat_minor": 2
}
