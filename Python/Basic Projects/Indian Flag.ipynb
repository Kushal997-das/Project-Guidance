{
 "cells": [
  {
   "cell_type": "markdown",
   "metadata": {},
   "source": [
    "# Indian Flag "
   ]
  },
  {
   "cell_type": "code",
   "execution_count": 25,
   "metadata": {},
   "outputs": [],
   "source": [
    "import turtle"
   ]
  },
  {
   "cell_type": "code",
   "execution_count": 32,
   "metadata": {},
   "outputs": [],
   "source": [
    "flag=turtle.Turtle()\n",
    "flag.speed(3)\n",
    "flag.pensize(5)\n",
    "flag.color('#054187')"
   ]
  },
  {
   "cell_type": "code",
   "execution_count": 33,
   "metadata": {},
   "outputs": [],
   "source": [
    "def draw(x,y):\n",
    "    flag.penup()\n",
    "    flag.goto(x,y)\n",
    "    flag.pendown()"
   ]
  },
  {
   "cell_type": "code",
   "execution_count": 34,
   "metadata": {},
   "outputs": [],
   "source": [
    "#Ashoka Chakra\n",
    "for i in range(24):\n",
    "    flag.forward(80)\n",
    "    flag.backward(80)\n",
    "    flag.left(15)\n",
    "draw(0,-80)\n",
    "flag.circle(80,360)"
   ]
  },
  {
   "cell_type": "code",
   "execution_count": 35,
   "metadata": {},
   "outputs": [],
   "source": [
    "#green rectangle\n",
    "flag.color('green')\n",
    "flag.begin_fill()\n",
    "\n",
    "flag.forward(350)\n",
    "flag.backward(700)\n",
    "flag.right(90)\n",
    "flag.forward(200)\n",
    "flag.left(90)\n",
    "flag.forward(700)\n",
    "flag.left(90)\n",
    "flag.forward(200)\n",
    "flag.left(90)\n",
    "\n",
    "flag.end_fill()"
   ]
  },
  {
   "cell_type": "code",
   "execution_count": 36,
   "metadata": {},
   "outputs": [],
   "source": [
    "#Orange Rectangle\n",
    "flag.color('orange')\n",
    "draw(-350,80)\n",
    "\n",
    "flag.begin_fill()\n",
    "\n",
    "flag.right(180)\n",
    "flag.forward(700)\n",
    "flag.left(90)\n",
    "flag.forward(200)\n",
    "flag.left(90)\n",
    "flag.forward(700)\n",
    "flag.left(90)\n",
    "flag.forward(200)\n",
    "\n",
    "flag.end_fill()\n",
    "\n",
    "turtle.done()"
   ]
  },
  {
   "cell_type": "code",
   "execution_count": null,
   "metadata": {},
   "outputs": [],
   "source": []
  }
 ],
 "metadata": {
  "kernelspec": {
   "display_name": "Python 3",
   "language": "python",
   "name": "python3"
  },
  "language_info": {
   "codemirror_mode": {
    "name": "ipython",
    "version": 3
   },
   "file_extension": ".py",
   "mimetype": "text/x-python",
   "name": "python",
   "nbconvert_exporter": "python",
   "pygments_lexer": "ipython3",
   "version": "3.7.6"
  }
 },
 "nbformat": 4,
 "nbformat_minor": 4
}
